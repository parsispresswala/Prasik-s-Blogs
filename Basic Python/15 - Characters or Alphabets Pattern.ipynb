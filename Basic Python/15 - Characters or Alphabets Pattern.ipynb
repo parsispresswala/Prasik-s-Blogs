{
 "cells": [
  {
   "cell_type": "markdown",
   "metadata": {},
   "source": [
    "### <h3 align=\"center\">Prepared By Parsis Tamakuwala</h3> "
   ]
  },
  {
   "cell_type": "markdown",
   "metadata": {},
   "source": [
    "### Simple Half Triangle Pattern"
   ]
  },
  {
   "cell_type": "code",
   "execution_count": 42,
   "metadata": {},
   "outputs": [
    {
     "name": "stdout",
     "output_type": "stream",
     "text": [
      "A \n",
      "A B \n",
      "A B C \n",
      "A B C D \n",
      "A B C D E \n"
     ]
    }
   ],
   "source": [
    "row = 5\n",
    "\n",
    "for i in range(row):\n",
    "    x = 65 \n",
    "    for j in range(i+1):\n",
    "        print(chr(x),end=\" \")\n",
    "        x = x + 1\n",
    "    print()"
   ]
  },
  {
   "cell_type": "markdown",
   "metadata": {},
   "source": [
    "### Another Half Triangle Pattern"
   ]
  },
  {
   "cell_type": "code",
   "execution_count": 1,
   "metadata": {},
   "outputs": [
    {
     "name": "stdout",
     "output_type": "stream",
     "text": [
      "Enter the value: 5\n",
      "A \n",
      "B B \n",
      "C C C \n",
      "D D D D \n",
      "E E E E E \n"
     ]
    }
   ],
   "source": [
    "inp=int(input(\"Enter the value: \"))\n",
    "\n",
    "n=65\n",
    "for i in range(inp):\n",
    "    for j in range(i+1):\n",
    "        print (chr(n),end=\" \")\n",
    "    n=n+1    \n",
    "    print ()"
   ]
  },
  {
   "cell_type": "markdown",
   "metadata": {},
   "source": [
    "### Continuous Character Pattern"
   ]
  },
  {
   "cell_type": "code",
   "execution_count": 2,
   "metadata": {},
   "outputs": [
    {
     "name": "stdout",
     "output_type": "stream",
     "text": [
      "Enter the value: 5\n",
      "A \n",
      "B C \n",
      "D E F \n",
      "G H I J \n",
      "K L M N O \n"
     ]
    }
   ],
   "source": [
    "inp=int(input(\"Enter the value: \"))\n",
    "\n",
    "n=65\n",
    "for i in range(inp):\n",
    "    for j in range(i+1):\n",
    "        print (chr(n),end=\" \")\n",
    "        n=n+1    \n",
    "    print ()"
   ]
  },
  {
   "cell_type": "markdown",
   "metadata": {},
   "source": [
    "### Another Continuous Character Pattern"
   ]
  },
  {
   "cell_type": "code",
   "execution_count": 3,
   "metadata": {},
   "outputs": [
    {
     "name": "stdout",
     "output_type": "stream",
     "text": [
      "A \n",
      "B C D \n",
      "E F G H I \n",
      "J K L M N O P \n",
      "Q R S T U V W X Y \n"
     ]
    }
   ],
   "source": [
    "inp=10\n",
    "x=65\n",
    "\n",
    "for i in range(inp):\n",
    "    if (i%2!=0):\n",
    "        for j in range(i):\n",
    "            print(chr(x),end=\" \")\n",
    "            x=x+1\n",
    "        print ()"
   ]
  },
  {
   "cell_type": "markdown",
   "metadata": {},
   "source": [
    "### Albhabet Pattern"
   ]
  },
  {
   "cell_type": "code",
   "execution_count": 36,
   "metadata": {},
   "outputs": [
    {
     "name": "stdout",
     "output_type": "stream",
     "text": [
      "A A A A A \n",
      "B B B B \n",
      "C C C \n",
      "D D \n",
      "E \n"
     ]
    }
   ],
   "source": [
    "row = 5\n",
    "x = 65\n",
    "\n",
    "for i in range(row,0,-1):\n",
    "    for j in range(i):\n",
    "        print(chr(x),end=\" \")\n",
    "    x = x + 1 \n",
    "    print()"
   ]
  },
  {
   "cell_type": "markdown",
   "metadata": {},
   "source": [
    "### Left Continuous Character Pattern"
   ]
  },
  {
   "cell_type": "code",
   "execution_count": 116,
   "metadata": {},
   "outputs": [
    {
     "name": "stdout",
     "output_type": "stream",
     "text": [
      "            A  \n",
      "         C  D  \n",
      "      F  G  H  \n",
      "   J  K  L  M  \n",
      "O  P  Q  R  S  \n"
     ]
    }
   ],
   "source": [
    "inp=5\n",
    "num=67\n",
    "x=65\n",
    "\n",
    "for i in range(inp):\n",
    "    for j in range(inp-i,1,-1):\n",
    "        print(\" \",end='  ')\n",
    "    for k in range(i+1):\n",
    "        print(chr(x),end='  ')\n",
    "        x=x+1\n",
    "        if(i!=0):\n",
    "            num=num+1\n",
    "    x=num+i\n",
    "    print()"
   ]
  },
  {
   "cell_type": "markdown",
   "metadata": {},
   "source": [
    "### Letter of the word Pattern"
   ]
  },
  {
   "cell_type": "code",
   "execution_count": 48,
   "metadata": {},
   "outputs": [
    {
     "name": "stdout",
     "output_type": "stream",
     "text": [
      "P\n",
      "PA\n",
      "PAR\n",
      "PARS\n",
      "PARSI\n",
      "PARSIS\n"
     ]
    }
   ],
   "source": [
    "st = \"PARSIS\"\n",
    "temp = \"\"\n",
    "\n",
    "for i in st:\n",
    "    for j in i:\n",
    "        temp = temp + i\n",
    "        print(temp,end=\"\")\n",
    "    print()"
   ]
  },
  {
   "cell_type": "markdown",
   "metadata": {},
   "source": [
    "### Triangle Pattern"
   ]
  },
  {
   "cell_type": "code",
   "execution_count": 67,
   "metadata": {},
   "outputs": [
    {
     "name": "stdout",
     "output_type": "stream",
     "text": [
      "      A \n",
      "     B C \n",
      "    D E F \n",
      "   G H I J \n",
      "  K L M N O \n",
      " P Q R S T U \n"
     ]
    }
   ],
   "source": [
    "row = 7\n",
    "x = 65\n",
    "\n",
    "for i in range(1,row):\n",
    "    for j in range(row,i,-1):\n",
    "        print(\" \",end=\"\")\n",
    "    for j in range(i):\n",
    "        print(chr(x),end=\" \")\n",
    "        x = x + 1\n",
    "    print()"
   ]
  },
  {
   "cell_type": "markdown",
   "metadata": {},
   "source": [
    "### Another Triangle Pattern"
   ]
  },
  {
   "cell_type": "code",
   "execution_count": 114,
   "metadata": {},
   "outputs": [
    {
     "name": "stdout",
     "output_type": "stream",
     "text": [
      "    A \n",
      "   B B \n",
      "  C C C \n",
      " D D D D \n",
      "E E E E E \n"
     ]
    }
   ],
   "source": [
    "row = 5\n",
    "x = 65\n",
    "\n",
    "for i in range(row):\n",
    "    for j in range(row-1,i, -1):\n",
    "        print(\" \",end=\"\")\n",
    "    for j in range(i+1):\n",
    "        print(chr(x),end=\" \")\n",
    "    x = x + 1\n",
    "    print()"
   ]
  },
  {
   "cell_type": "markdown",
   "metadata": {},
   "source": [
    "### Diamond Pattern"
   ]
  },
  {
   "cell_type": "code",
   "execution_count": 103,
   "metadata": {},
   "outputs": [
    {
     "name": "stdout",
     "output_type": "stream",
     "text": [
      "     A \n",
      "    A B \n",
      "   A B C \n",
      "  A B C D \n",
      " A B C D E \n",
      "A B C D E F \n",
      " G H I J K \n",
      "  L M N O \n",
      "   P Q R \n",
      "    S T \n",
      "     U \n"
     ]
    }
   ],
   "source": [
    "row = 6\n",
    "x = 65\n",
    "\n",
    "for i in range(row):\n",
    "    x = 65\n",
    "    for j in range(row,i+1,-1):\n",
    "        print(\" \",end=\"\")\n",
    "    for j in range(i+1):\n",
    "        print(chr(x),end=\" \")\n",
    "        x = x + 1\n",
    "    print()\n",
    "for i in range(row-1, 0,-1):\n",
    "    for j in range(row,i,-1):\n",
    "        print(\" \",end=\"\")\n",
    "    for j in range(i):\n",
    "        print(chr(x),end=\" \")\n",
    "        x = x + 1\n",
    "    print()"
   ]
  },
  {
   "cell_type": "markdown",
   "metadata": {},
   "source": [
    "### Cross Pattern"
   ]
  },
  {
   "cell_type": "code",
   "execution_count": 5,
   "metadata": {},
   "outputs": [
    {
     "name": "stdout",
     "output_type": "stream",
     "text": [
      "g            s \n",
      " e          k  \n",
      "  e        e   \n",
      "   k      e    \n",
      "    s    g     \n",
      "     f  r      \n",
      "      o       \n",
      "     f  r      \n",
      "    s    g     \n",
      "   k      e    \n",
      "  e        e   \n",
      " e          k  \n",
      "g            s \n"
     ]
    }
   ],
   "source": [
    "inp=\"geeksforgeeks\"\n",
    "k=row=len(str(inp))\n",
    "\n",
    "for i in range(row):\n",
    "    for j in range(row):\n",
    "        if (i==j):\n",
    "            print (inp[i],end=\" \")\n",
    "        elif (k-1==j):\n",
    "            print (inp[j],end=\" \")\n",
    "        else:\n",
    "            print (\" \",end=\"\")\n",
    "    k=k-1\n",
    "    print()"
   ]
  },
  {
   "cell_type": "code",
   "execution_count": null,
   "metadata": {},
   "outputs": [],
   "source": []
  },
  {
   "cell_type": "code",
   "execution_count": null,
   "metadata": {},
   "outputs": [],
   "source": []
  }
 ],
 "metadata": {
  "kernelspec": {
   "display_name": "Python 3",
   "language": "python",
   "name": "python3"
  },
  "language_info": {
   "codemirror_mode": {
    "name": "ipython",
    "version": 3
   },
   "file_extension": ".py",
   "mimetype": "text/x-python",
   "name": "python",
   "nbconvert_exporter": "python",
   "pygments_lexer": "ipython3",
   "version": "3.7.6"
  }
 },
 "nbformat": 4,
 "nbformat_minor": 4
}
