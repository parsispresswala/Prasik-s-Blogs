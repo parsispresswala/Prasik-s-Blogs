{
 "cells": [
  {
   "cell_type": "markdown",
   "metadata": {},
   "source": [
    "### <h3 align=\"center\">Prepared By Parsis Tamakuwala</h3> "
   ]
  },
  {
   "cell_type": "markdown",
   "metadata": {},
   "source": [
    "### Left Half Pyramid"
   ]
  },
  {
   "cell_type": "code",
   "execution_count": 1,
   "metadata": {},
   "outputs": [
    {
     "name": "stdout",
     "output_type": "stream",
     "text": [
      "* \n",
      "* * \n",
      "* * * \n",
      "* * * * \n",
      "* * * * * \n"
     ]
    }
   ],
   "source": [
    "inp = 5\n",
    "for i in range(inp):\n",
    "    for j in range(i+1):\n",
    "        print (\"*\",end=\" \")\n",
    "    print (\"\")"
   ]
  },
  {
   "cell_type": "markdown",
   "metadata": {},
   "source": [
    "### Left Half Pyramid in Odd Number"
   ]
  },
  {
   "cell_type": "code",
   "execution_count": 2,
   "metadata": {},
   "outputs": [
    {
     "name": "stdout",
     "output_type": "stream",
     "text": [
      "* \n",
      "* * * \n",
      "* * * * * \n"
     ]
    }
   ],
   "source": [
    "inp = 5\n",
    "for i in range(inp):\n",
    "    if (i%2==0):\n",
    "        for j in range(i+1):\n",
    "            print (\"*\",end=\" \")\n",
    "        print (\"\")"
   ]
  },
  {
   "cell_type": "markdown",
   "metadata": {},
   "source": [
    "### Downward Half Pyramid"
   ]
  },
  {
   "cell_type": "code",
   "execution_count": 3,
   "metadata": {},
   "outputs": [
    {
     "name": "stdout",
     "output_type": "stream",
     "text": [
      "* * * * * \n",
      "* * * * \n",
      "* * * \n",
      "* * \n",
      "* \n"
     ]
    }
   ],
   "source": [
    "inp = 5\n",
    "for i in range(inp,0,-1):\n",
    "    for j in range(i):\n",
    "        print (\"*\",end=\" \")\n",
    "    print ()"
   ]
  },
  {
   "cell_type": "markdown",
   "metadata": {},
   "source": [
    "### Right Half Pyramid"
   ]
  },
  {
   "cell_type": "code",
   "execution_count": 4,
   "metadata": {},
   "outputs": [
    {
     "name": "stdout",
     "output_type": "stream",
     "text": [
      "          * \n",
      "        * * \n",
      "      * * * \n",
      "    * * * * \n",
      "  * * * * * \n"
     ]
    }
   ],
   "source": [
    "inp = 5\n",
    "for i in range(inp):\n",
    "    for j in range(inp,i,-1):\n",
    "        print (end=\"  \")\n",
    "    for j in range(i+1):\n",
    "        print (\"*\",end=\" \")\n",
    "    print (\"\")"
   ]
  },
  {
   "cell_type": "markdown",
   "metadata": {},
   "source": [
    "### Right Half Pyramid in Odd Number"
   ]
  },
  {
   "cell_type": "code",
   "execution_count": 5,
   "metadata": {},
   "outputs": [
    {
     "name": "stdout",
     "output_type": "stream",
     "text": [
      "    *\n",
      "  ***\n",
      "*****\n"
     ]
    }
   ],
   "source": [
    "inp = 5\n",
    "for i in range(inp):\n",
    "    if (i%2==0):\n",
    "        for j in range(inp-1,i,-1):\n",
    "            print (end=\" \")\n",
    "        for j in range(i+1):\n",
    "            print (\"*\",end=\"\")\n",
    "        print ()"
   ]
  },
  {
   "cell_type": "markdown",
   "metadata": {},
   "source": [
    "### Diagonal Line"
   ]
  },
  {
   "cell_type": "code",
   "execution_count": 6,
   "metadata": {},
   "outputs": [
    {
     "name": "stdout",
     "output_type": "stream",
     "text": [
      "* * * * * * * \n",
      "  * * * * * * * \n",
      "    * * * * * * * \n",
      "      * * * * * * * \n",
      "        * * * * * * * \n",
      "          * * * * * * * \n",
      "            * * * * * * * \n"
     ]
    }
   ],
   "source": [
    "row = 7\n",
    "\n",
    "for i in range(row):\n",
    "    for j in range(i):\n",
    "        print(\" \",end=\" \")\n",
    "    for j in range(row):\n",
    "        print(\"*\",end=\" \")\n",
    "    print()"
   ]
  },
  {
   "cell_type": "markdown",
   "metadata": {},
   "source": [
    "### Triangle Pyramid"
   ]
  },
  {
   "cell_type": "code",
   "execution_count": 7,
   "metadata": {},
   "outputs": [
    {
     "name": "stdout",
     "output_type": "stream",
     "text": [
      "Enter the value: 5\n",
      "     * \n",
      "    * * \n",
      "   * * * \n",
      "  * * * * \n",
      " * * * * * \n"
     ]
    }
   ],
   "source": [
    "inp = int(input(\"Enter the value: \"))\n",
    "for i in range(inp):\n",
    "    for j in range(inp,i,-1):\n",
    "        print (end=\" \")\n",
    "    for j in range(i+1):\n",
    "        print (\"*\",end=\" \")\n",
    "    print (\"\")"
   ]
  },
  {
   "cell_type": "markdown",
   "metadata": {},
   "source": [
    "### Reverse Triangle Pyramid"
   ]
  },
  {
   "cell_type": "code",
   "execution_count": 8,
   "metadata": {},
   "outputs": [
    {
     "name": "stdout",
     "output_type": "stream",
     "text": [
      "Enter the value: 5\n",
      "* * * * * \n",
      " * * * * \n",
      "  * * * \n",
      "   * * \n",
      "    * \n"
     ]
    }
   ],
   "source": [
    "inp=int(input(\"Enter the value: \"))\n",
    "\n",
    "for i in range(inp,0,-1):\n",
    "    for j in range(inp,i,-1):\n",
    "        print (end=\" \")\n",
    "    for j in range(i):\n",
    "        print (\"*\",end=\" \")\n",
    "    print()"
   ]
  },
  {
   "cell_type": "markdown",
   "metadata": {},
   "source": [
    "### Hour glass pattern"
   ]
  },
  {
   "cell_type": "code",
   "execution_count": 9,
   "metadata": {},
   "outputs": [
    {
     "name": "stdout",
     "output_type": "stream",
     "text": [
      "* * * * * \n",
      " * * * * \n",
      "  * * * \n",
      "   * * \n",
      "    * \n",
      "    * \n",
      "   * * \n",
      "  * * * \n",
      " * * * * \n",
      "* * * * * \n"
     ]
    }
   ],
   "source": [
    "inp=5\n",
    "\n",
    "for i in range(inp,0,-1):\n",
    "    for j in range(inp,i,-1):\n",
    "        print (end=\" \")\n",
    "    for j in range(i):\n",
    "        print (\"*\",end=\" \")\n",
    "    print()\n",
    "for i in range(inp):\n",
    "    for j in range(inp-1,i,-1):\n",
    "        print (end=\" \")\n",
    "    for j in range(i+1):\n",
    "        print (\"*\",end=\" \")\n",
    "    print (\"\")"
   ]
  },
  {
   "cell_type": "markdown",
   "metadata": {},
   "source": [
    "### Diamond Pattern"
   ]
  },
  {
   "cell_type": "code",
   "execution_count": 10,
   "metadata": {},
   "outputs": [
    {
     "name": "stdout",
     "output_type": "stream",
     "text": [
      "Enter the value: 5\n",
      "    * \n",
      "   * * \n",
      "  * * * \n",
      " * * * * \n",
      "* * * * * \n",
      " * * * * \n",
      "  * * * \n",
      "   * * \n",
      "    * \n"
     ]
    }
   ],
   "source": [
    "inp=int(input(\"Enter the value: \"))\n",
    "for i in range(inp):\n",
    "    for j in range(inp-2,i-1,-1):\n",
    "        print (end=\" \")\n",
    "    for j in range(i+1):\n",
    "        print (\"*\",end=\" \")\n",
    "    print (\"\")\n",
    "for i in range(1,inp):\n",
    "    for j in range(i):\n",
    "        print (end=\" \")\n",
    "    for j in range(inp,i,-1):\n",
    "        print (\"*\",end=\" \")\n",
    "    print (\"\")    "
   ]
  },
  {
   "cell_type": "markdown",
   "metadata": {},
   "source": [
    "### Hollow Left Start Pattern"
   ]
  },
  {
   "cell_type": "code",
   "execution_count": 11,
   "metadata": {},
   "outputs": [
    {
     "name": "stdout",
     "output_type": "stream",
     "text": [
      "Enter the value: 5\n",
      "* * * * * \n",
      "* * * * \n",
      "* * * \n",
      "* * \n",
      "* \n",
      "* * \n",
      "* * * \n",
      "* * * * \n",
      "* * * * * \n"
     ]
    }
   ],
   "source": [
    "inp=int(input(\"Enter the value: \"))\n",
    "for i in range(inp,0,-1):\n",
    "    for j in range(i):\n",
    "        print (\"*\",end=\" \")\n",
    "    print ()\n",
    "for i in range(1,inp):\n",
    "    for j in range(i+1):\n",
    "        print (\"*\",end=\" \")\n",
    "    print ()"
   ]
  },
  {
   "cell_type": "markdown",
   "metadata": {},
   "source": [
    "### Hollow Right Start Pattern"
   ]
  },
  {
   "cell_type": "code",
   "execution_count": 12,
   "metadata": {},
   "outputs": [
    {
     "name": "stdout",
     "output_type": "stream",
     "text": [
      "Enter the value: 5\n",
      "* * * * * \n",
      "  * * * * \n",
      "    * * * \n",
      "      * * \n",
      "        * \n",
      "      * * \n",
      "    * * * \n",
      "  * * * * \n",
      "* * * * * \n"
     ]
    }
   ],
   "source": [
    "inp=int(input(\"Enter the value: \"))\n",
    "for i in range(inp,0,-1):\n",
    "    for j in range(inp,i,-1):\n",
    "        print (\" \",end=\" \")\n",
    "    for j in range(i):\n",
    "        print (\"*\",end=\" \")\n",
    "    print ()\n",
    "for i in range(1,inp):\n",
    "    for j in range(inp,i+1,-1):\n",
    "        print (\" \",end=\" \")\n",
    "    for j in range(i+1):\n",
    "        print (\"*\",end=\" \")\n",
    "    print ()    "
   ]
  },
  {
   "cell_type": "markdown",
   "metadata": {},
   "source": [
    "### Right Start Pattern"
   ]
  },
  {
   "cell_type": "code",
   "execution_count": 13,
   "metadata": {},
   "outputs": [
    {
     "name": "stdout",
     "output_type": "stream",
     "text": [
      "* \n",
      "* * \n",
      "* * * \n",
      "* * * * \n",
      "* * * * * \n",
      "* * * * * * \n",
      "* * * * * \n",
      "* * * * \n",
      "* * * \n",
      "* * \n",
      "* \n",
      "\n"
     ]
    }
   ],
   "source": [
    "row = 6\n",
    "\n",
    "for i in range(row):\n",
    "    for j in range(i+1):\n",
    "        print(\"*\",end=\" \")\n",
    "    print()\n",
    "for i in range(row):\n",
    "    for j in range(row-1, i, -1):\n",
    "        print(\"*\",end=\" \")\n",
    "    print()"
   ]
  },
  {
   "cell_type": "markdown",
   "metadata": {},
   "source": [
    "### Right Start Pattern using reversed() function"
   ]
  },
  {
   "cell_type": "code",
   "execution_count": 14,
   "metadata": {},
   "outputs": [
    {
     "name": "stdout",
     "output_type": "stream",
     "text": [
      "* \n",
      "* * \n",
      "* * * \n",
      "* * * * \n",
      "* * * * * \n",
      "* * * * * * \n",
      "* * * * * * \n",
      "* * * * * \n",
      "* * * * \n",
      "* * * \n",
      "* * \n",
      "* \n"
     ]
    }
   ],
   "source": [
    "row = 6\n",
    "\n",
    "for i in range(row):\n",
    "    for j in range(i+1):\n",
    "        print(\"*\",end=\" \")\n",
    "    print()\n",
    "for i in reversed(range(row)):\n",
    "    for j in range(i+1):\n",
    "        print(\"*\",end=\" \")\n",
    "    print()"
   ]
  },
  {
   "cell_type": "markdown",
   "metadata": {},
   "source": [
    "### Hollow houe glass pattern in rectangle"
   ]
  },
  {
   "cell_type": "code",
   "execution_count": 15,
   "metadata": {},
   "outputs": [
    {
     "name": "stdout",
     "output_type": "stream",
     "text": [
      "#########\n",
      "##     ##\n",
      "# #   # #\n",
      "#  # #  #\n",
      "#   #   #\n",
      "#  # #  #\n",
      "# #   # #\n",
      "##     ##\n",
      "#########\n"
     ]
    }
   ],
   "source": [
    "row = 9\n",
    "k=row\n",
    "for i in range(row):\n",
    "    for j in range(row):\n",
    "        if (i==0 or i==row-1 or j==0 or j==row-1) or (i==j) or (j==k-1) :\n",
    "            print (\"#\",end=\"\")\n",
    "        else:\n",
    "            print (\" \",end=\"\")\n",
    "    k=k-1\n",
    "    print ()"
   ]
  },
  {
   "cell_type": "markdown",
   "metadata": {},
   "source": [
    "### Hollow Full Pyramid"
   ]
  },
  {
   "cell_type": "code",
   "execution_count": 16,
   "metadata": {},
   "outputs": [
    {
     "name": "stdout",
     "output_type": "stream",
     "text": [
      "              * \n",
      "            *   * \n",
      "          *       * \n",
      "        *           * \n",
      "      *               * \n",
      "    *                   * \n",
      "  * * * * * * * * * * * * * \n"
     ]
    }
   ],
   "source": [
    "row = 7\n",
    "for i in range(row):\n",
    "    for j in range(row,i,-1):\n",
    "        print(\" \",end=\" \")\n",
    "    print(\"*\",end=\" \")\n",
    "    \n",
    "    # for middle space of triangle\n",
    "    for j in range(i):\n",
    "        if i == row-1:\n",
    "            print(\"*\",end=\" \")\n",
    "        else:\n",
    "            print (\" \",end=\" \")\n",
    "            \n",
    "    for j in range(i-1):\n",
    "        if i == row-1:\n",
    "            print(\"*\",end=\" \")\n",
    "        else:\n",
    "            print (\" \",end=\" \")\n",
    "        \n",
    "    if (i > 0):\n",
    "        print (\"*\",end=\" \")\n",
    "\n",
    "    print ()"
   ]
  },
  {
   "cell_type": "markdown",
   "metadata": {},
   "source": [
    "### Diamond Pyramid"
   ]
  },
  {
   "cell_type": "code",
   "execution_count": 17,
   "metadata": {},
   "outputs": [
    {
     "name": "stdout",
     "output_type": "stream",
     "text": [
      "            * \n",
      "          *   * \n",
      "        *       * \n",
      "      *           * \n",
      "    *               * \n",
      "  *                   * \n",
      "*                       * \n",
      "  *                   * \n",
      "    *               * \n",
      "      *           * \n",
      "        *       * \n",
      "          *   * \n",
      "            * \n"
     ]
    }
   ],
   "source": [
    "row = 6\n",
    "\n",
    "# upper triangle\n",
    "for i in range(row):\n",
    "    for j in range(row,i,-1):\n",
    "        print(\" \",end=\" \")\n",
    "    print(\"*\",end=\" \")\n",
    "    \n",
    "    # for middle space of triangle\n",
    "    for j in range(i):\n",
    "        print (\" \",end=\" \")\n",
    "            \n",
    "    for j in range(i-1):\n",
    "        print (\" \",end=\" \")\n",
    "        \n",
    "    if (i > 0):\n",
    "        print (\"*\",end=\" \")\n",
    "    print ()\n",
    "    \n",
    "# lower triangle\n",
    "for i in range(row+1):\n",
    "    for j in range(i):\n",
    "        print(\" \",end=\" \")\n",
    "    print(\"*\",end=\" \")\n",
    "    \n",
    "    # for middle space of triangle\n",
    "    for j in range(row,i,-1):\n",
    "        print (\" \",end=\" \")\n",
    "            \n",
    "    for j in range(row-1,i,-1):\n",
    "        print (\" \",end=\" \")\n",
    "        \n",
    "    if (i < row):\n",
    "        print (\"*\",end=\" \")\n",
    "    print ()"
   ]
  },
  {
   "cell_type": "markdown",
   "metadata": {},
   "source": [
    "### Diamond Pyramid using reversed() function"
   ]
  },
  {
   "cell_type": "code",
   "execution_count": 18,
   "metadata": {},
   "outputs": [
    {
     "name": "stdout",
     "output_type": "stream",
     "text": [
      "            * \n",
      "          *   * \n",
      "        *       * \n",
      "      *           * \n",
      "    *               * \n",
      "  *                   * \n",
      "  *                   * \n",
      "    *               * \n",
      "      *           * \n",
      "        *       * \n",
      "          *   * \n",
      "            * \n"
     ]
    }
   ],
   "source": [
    "row = 6\n",
    "\n",
    "# upper triangle\n",
    "for i in range(row):\n",
    "    for j in range(row,i,-1):\n",
    "        print(\" \",end=\" \")\n",
    "    print(\"*\",end=\" \")\n",
    "    \n",
    "    # for middle space of triangle\n",
    "    for j in range(i):\n",
    "        print (\" \",end=\" \")\n",
    "            \n",
    "    for j in range(i-1):\n",
    "        print (\" \",end=\" \")\n",
    "        \n",
    "    if (i > 0):\n",
    "        print (\"*\",end=\" \")\n",
    "    print ()\n",
    "\n",
    "# lower triangle\n",
    "for i in reversed(range(row)):\n",
    "    for j in range(row,i,-1):\n",
    "        print(\" \",end=\" \")\n",
    "    print(\"*\",end=\" \")\n",
    "    \n",
    "    # for middle space of triangle\n",
    "    for j in range(i):\n",
    "        print (\" \",end=\" \")\n",
    "            \n",
    "    for j in range(i-1):\n",
    "        print (\" \",end=\" \")\n",
    "        \n",
    "    if (i > 0):\n",
    "        print (\"*\",end=\" \")\n",
    "    print ()\n"
   ]
  },
  {
   "cell_type": "code",
   "execution_count": null,
   "metadata": {},
   "outputs": [],
   "source": []
  }
 ],
 "metadata": {
  "kernelspec": {
   "display_name": "Python 3",
   "language": "python",
   "name": "python3"
  },
  "language_info": {
   "codemirror_mode": {
    "name": "ipython",
    "version": 3
   },
   "file_extension": ".py",
   "mimetype": "text/x-python",
   "name": "python",
   "nbconvert_exporter": "python",
   "pygments_lexer": "ipython3",
   "version": "3.7.6"
  }
 },
 "nbformat": 4,
 "nbformat_minor": 4
}
