{
 "cells": [
  {
   "cell_type": "markdown",
   "metadata": {},
   "source": [
    "### <h3 align=\"center\">Prepared By Parsis Tamakuwala</h3> "
   ]
  },
  {
   "cell_type": "markdown",
   "metadata": {},
   "source": [
    "### 1. Write a function input_stats that accepts a file name as a parameter and that reports the longest line in the file."
   ]
  },
  {
   "cell_type": "code",
   "execution_count": 1,
   "metadata": {},
   "outputs": [
    {
     "name": "stdout",
     "output_type": "stream",
     "text": [
      "Beware the Jabberwock, my son,\n",
      "the jaws that bite, the claws that catch,\n",
      " Beware the JubJub bird and shun\n",
      " the frumious bandersnatch.\n"
     ]
    }
   ],
   "source": [
    "myfile = open(\"carroll.txt\",'w+')\n",
    "# writing into file\n",
    "myfile.write(\"Beware the Jabberwock, my son,\\nthe jaws that bite, the claws that catch,\\n Beware the JubJub bird and shun\\n the frumious bandersnatch.\")\n",
    "myfile.seek(0,0)\n",
    "print (myfile.read())\n",
    "myfile.close()"
   ]
  },
  {
   "cell_type": "code",
   "execution_count": 2,
   "metadata": {},
   "outputs": [
    {
     "name": "stdout",
     "output_type": "stream",
     "text": [
      "Longets line of the text:  the jaws that bite, the claws that catch,\n",
      " Length is:  41\n"
     ]
    }
   ],
   "source": [
    "#In this method, we will make count the length of every string and find the max from all string\n",
    "\n",
    "def input_stats(filename):\n",
    "    lst = []\n",
    "    myfile = open(filename,'r')\n",
    "    l = myfile.readlines()\n",
    "    for line in l:\n",
    "        #print(line.strip())\n",
    "        lst.append(len(line.strip()))\n",
    "    print(\"Longets line of the text: \",l[lst.index(max(lst))],\"Length is: \",max(lst))\n",
    "    myfile.close()\n",
    "    \n",
    "input_stats(\"carroll.txt\")"
   ]
  },
  {
   "cell_type": "code",
   "execution_count": 3,
   "metadata": {},
   "outputs": [
    {
     "name": "stdout",
     "output_type": "stream",
     "text": [
      "length: 42 \n",
      "String: the jaws that bite, the claws that catch,\n",
      "\n"
     ]
    }
   ],
   "source": [
    "# In this method, we will compare two string and replace the longest string in the variable.\n",
    "\n",
    "def input_stats(filename):\n",
    "    st = \"\"\n",
    "    myfile = open(filename,'r')\n",
    "    for line in myfile:\n",
    "        if len(line.strip()) > len(st):\n",
    "            st = line\n",
    "    print(\"length:\",len(st),\"\\nString:\",st)\n",
    "    myfile.close()\n",
    "    \n",
    "input_stats(\"carroll.txt\")"
   ]
  },
  {
   "cell_type": "markdown",
   "metadata": {},
   "source": [
    "### 2. Compute each worker's total hours and hours/day. Assume each worker works exactly five days."
   ]
  },
  {
   "cell_type": "code",
   "execution_count": 4,
   "metadata": {},
   "outputs": [
    {
     "name": "stdout",
     "output_type": "stream",
     "text": [
      "123 Suzy 9.5 8.1 7.6 3.1 3.2\n",
      "456 Brad 7.0 9.6 6.5 4.9 8.8\n",
      "789 Jenn 8.0 8.0 8.0 8.0 7.5\n"
     ]
    }
   ],
   "source": [
    "myfile = open(\"hours.txt\",'w+')\n",
    "# writing into file\n",
    "myfile.write(\"123 Suzy 9.5 8.1 7.6 3.1 3.2\\n456 Brad 7.0 9.6 6.5 4.9 8.8\\n789 Jenn 8.0 8.0 8.0 8.0 7.5\")\n",
    "myfile.seek(0,0)\n",
    "print (myfile.read())\n",
    "myfile.close()"
   ]
  },
  {
   "cell_type": "code",
   "execution_count": 5,
   "metadata": {},
   "outputs": [
    {
     "name": "stdout",
     "output_type": "stream",
     "text": [
      "Suzy ID 123 worked 31.5 hours: 6.3 /day\n",
      "Brad ID 456 worked 36.8 hours: 7.4 /day\n",
      "Jenn ID 789 worked 39.5 hours: 7.9 /day\n"
     ]
    }
   ],
   "source": [
    "myfile = open(\"hours.txt\",'r')\n",
    "for line in myfile:\n",
    "    data = line.strip().split(\" \")\n",
    "    add_ = float(data[2])+float(data[3])+float(data[4])+float(data[5])+float(data[6])\n",
    "    print (data[1],\"ID\",data[0],\"worked\",round(add_,1),\"hours:\",round(add_/5,1),\"/day\")"
   ]
  },
  {
   "cell_type": "markdown",
   "metadata": {},
   "source": [
    "### 3. Output the average gas price for each country to an output file named gasout.txt"
   ]
  },
  {
   "cell_type": "code",
   "execution_count": 6,
   "metadata": {},
   "outputs": [
    {
     "name": "stdout",
     "output_type": "stream",
     "text": [
      "8.20 3.81 3/21/11\n",
      "8.08 3.84 3/28/11\n",
      "8.38 3.92 4/4/11\n"
     ]
    }
   ],
   "source": [
    "myfile = open(\"gas.txt\",'w+')\n",
    "# writing into file\n",
    "myfile.write(\"8.20 3.81 3/21/11\\n8.08 3.84 3/28/11\\n8.38 3.92 4/4/11\")\n",
    "myfile.seek(0,0)\n",
    "print (myfile.read())\n",
    "myfile.close()"
   ]
  },
  {
   "cell_type": "code",
   "execution_count": 7,
   "metadata": {},
   "outputs": [
    {
     "name": "stdout",
     "output_type": "stream",
     "text": [
      "Average USA Gas Price: 8.2\n",
      "Average Belgium Gas Price: 3.9\n"
     ]
    }
   ],
   "source": [
    "new_lst = []\n",
    "myfile = open(\"gas.txt\",'r')\n",
    "for line in myfile:\n",
    "    new_lst.append(line.split(\" \"))\n",
    "\n",
    "add_usa = float(new_lst[0][0])+float(new_lst[1][0])+float(new_lst[2][0])\n",
    "add_belgium = float(new_lst[0][1])+float(new_lst[1][1])+float(new_lst[2][1])\n",
    "\n",
    "print(\"Average USA Gas Price:\",round(add_usa/3,1))\n",
    "print(\"Average Belgium Gas Price:\",round(add_belgium/3,1))"
   ]
  },
  {
   "cell_type": "markdown",
   "metadata": {},
   "source": [
    "### 4. Write a Python program to read an entire text file."
   ]
  },
  {
   "cell_type": "code",
   "execution_count": 8,
   "metadata": {
    "scrolled": true
   },
   "outputs": [
    {
     "name": "stdout",
     "output_type": "stream",
     "text": [
      "Type of IO operation is:- <class '_io.TextIOWrapper'>\n",
      "\n",
      "Hello\n",
      "I am Parsis\n",
      "How are you doing?\n"
     ]
    }
   ],
   "source": [
    "fname = open(\"myfile.txt\",'w')\n",
    "fname.write(\"Hello\\nI am Parsis\\nHow are you doing?\")\n",
    "print(\"Type of IO operation is:-\",type(fname))\n",
    "print ()\n",
    "fname.close()\n",
    "\n",
    "with open(\"myfile.txt\",'r') as fname:\n",
    "    print (fname.read())"
   ]
  },
  {
   "cell_type": "markdown",
   "metadata": {},
   "source": [
    "### 5. Write a Python program to read first (n) lines of a file."
   ]
  },
  {
   "cell_type": "code",
   "execution_count": 9,
   "metadata": {},
   "outputs": [
    {
     "name": "stdout",
     "output_type": "stream",
     "text": [
      "Enter numbers of line you want to read:1\n",
      "Hello\n"
     ]
    }
   ],
   "source": [
    "lines = int((input(\"Enter numbers of line you want to read:\")))\n",
    "\n",
    "with open(\"myfile.txt\",'r') as fname:\n",
    "    lst = fname.readlines()\n",
    "fname.close()\n",
    "\n",
    "for line in range(lines):\n",
    "    print (lst[line].strip())"
   ]
  },
  {
   "cell_type": "markdown",
   "metadata": {},
   "source": [
    "### 6. Write a Python program to append text to a file and display the text. "
   ]
  },
  {
   "cell_type": "code",
   "execution_count": 10,
   "metadata": {},
   "outputs": [
    {
     "name": "stdout",
     "output_type": "stream",
     "text": [
      "Hello\n",
      "I am Parsis\n",
      "How are you doing?\n",
      "\n",
      "After Appending text into file:\n",
      "\n",
      "Hello\n",
      "I am Parsis\n",
      "How are you doing?\n",
      "I hope you are doing good\n",
      "I am also good\n"
     ]
    }
   ],
   "source": [
    "with open(\"myfile.txt\",'a+') as fname:\n",
    "    fname.seek(0,0)\n",
    "    print (fname.read())\n",
    "    fname.write(\"\\nI hope you are doing good\\nI am also good\")\n",
    "    print(\"\\nAfter Appending text into file:\\n\")\n",
    "    fname.seek(0,0)\n",
    "    print (fname.read())\n",
    "fname.close()"
   ]
  },
  {
   "cell_type": "markdown",
   "metadata": {},
   "source": [
    "### 7. Write a Python program to read the last n lines of a file. "
   ]
  },
  {
   "cell_type": "code",
   "execution_count": 11,
   "metadata": {},
   "outputs": [
    {
     "name": "stdout",
     "output_type": "stream",
     "text": [
      "enter the last n  lines u want:1\n",
      "I am also good\n"
     ]
    }
   ],
   "source": [
    "inp = int(input(\"enter the last n  lines u want:\"))\n",
    "\n",
    "fname = open('myfile.txt','r')\n",
    "lines = fname.readlines()\n",
    "\n",
    "for line in range(-inp,0):\n",
    "    print(lines[line].strip())\n",
    "\n",
    "fname.close()        "
   ]
  },
  {
   "cell_type": "markdown",
   "metadata": {},
   "source": [
    "### 8. Write a Python program to read a file line by line and store it into a list. "
   ]
  },
  {
   "cell_type": "code",
   "execution_count": 12,
   "metadata": {},
   "outputs": [
    {
     "name": "stdout",
     "output_type": "stream",
     "text": [
      "['Hello\\n', 'I am Parsis\\n', 'How are you doing?\\n', 'I hope you are doing good\\n', 'I am also good']\n"
     ]
    }
   ],
   "source": [
    "fname = open('myfile.txt','r')\n",
    "lines = fname.readlines()\n",
    "print(lines)\n",
    "fname.close()"
   ]
  },
  {
   "cell_type": "markdown",
   "metadata": {},
   "source": [
    "### 9. Write a Python program to read a file line by line store it into a variable. "
   ]
  },
  {
   "cell_type": "code",
   "execution_count": 13,
   "metadata": {},
   "outputs": [
    {
     "name": "stdout",
     "output_type": "stream",
     "text": [
      "['Hello\\n', 'I am Parsis\\n', 'How are you doing?\\n', 'I hope you are doing good\\n', 'I am also good']\n"
     ]
    }
   ],
   "source": [
    "def file_read(name_):\n",
    "    with open (name_, \"r\") as fname:\n",
    "        data = fname.readlines()\n",
    "        print (data)\n",
    "        \n",
    "file_read('myfile.txt')"
   ]
  },
  {
   "cell_type": "markdown",
   "metadata": {},
   "source": [
    "### 10. Write a Python program to read a file line by line store it into an array. "
   ]
  },
  {
   "cell_type": "code",
   "execution_count": 14,
   "metadata": {},
   "outputs": [
    {
     "name": "stdout",
     "output_type": "stream",
     "text": [
      "['Hello\\n', 'I am Parsis\\n', 'How are you doing?\\n', 'I hope you are doing good\\n', 'I am also good']\n"
     ]
    }
   ],
   "source": [
    "def file_read(x):\n",
    "    array_ = []\n",
    "    with open(x) as fname: \n",
    "        for line in fname:\n",
    "            array_.append(line)\n",
    "        print(array_)\n",
    "\n",
    "file_read('myfile.txt')"
   ]
  },
  {
   "cell_type": "markdown",
   "metadata": {},
   "source": [
    "### 11. Write a python program to find the longest words. "
   ]
  },
  {
   "cell_type": "code",
   "execution_count": 15,
   "metadata": {},
   "outputs": [
    {
     "name": "stdout",
     "output_type": "stream",
     "text": [
      "['Parsis', 'doing?']\n"
     ]
    }
   ],
   "source": [
    "def longest_word(filename):\n",
    "    with open(filename, 'r') as fname:\n",
    "        words = fname.read().split()\n",
    "    max_len = len(max(words, key=len))\n",
    "    return [word for word in words if len(word) == max_len]\n",
    "\n",
    "print(longest_word('myfile.txt'))"
   ]
  },
  {
   "cell_type": "markdown",
   "metadata": {},
   "source": [
    "### 12. Write a Python program to count the number of lines in a text file. "
   ]
  },
  {
   "cell_type": "code",
   "execution_count": 16,
   "metadata": {},
   "outputs": [
    {
     "name": "stdout",
     "output_type": "stream",
     "text": [
      "5\n"
     ]
    }
   ],
   "source": [
    "fname = open('myfile.txt','r')\n",
    "count = 0\n",
    "for line in fname:\n",
    "    count = count+1\n",
    "print(count)    "
   ]
  },
  {
   "cell_type": "markdown",
   "metadata": {},
   "source": [
    "### 13. Write a Python program to count the frequency of words in a file. "
   ]
  },
  {
   "cell_type": "code",
   "execution_count": 17,
   "metadata": {},
   "outputs": [
    {
     "name": "stdout",
     "output_type": "stream",
     "text": [
      "Number of words in the file : Counter({'I': 3, 'am': 2, 'are': 2, 'you': 2, 'good': 2, 'Hello': 1, 'Parsis': 1, 'How': 1, 'doing?': 1, 'hope': 1, 'doing': 1, 'also': 1})\n"
     ]
    }
   ],
   "source": [
    "from collections import Counter\n",
    "\n",
    "def word_count(file_name):\n",
    "    with open(file_name) as fname:\n",
    "        return Counter(fname.read().split())\n",
    "\n",
    "print(\"Number of words in the file :\",word_count(\"myfile.txt\"))"
   ]
  },
  {
   "cell_type": "markdown",
   "metadata": {},
   "source": [
    "### 14. Write a Python program to get the file size of a plain file. "
   ]
  },
  {
   "cell_type": "code",
   "execution_count": 18,
   "metadata": {},
   "outputs": [
    {
     "name": "stdout",
     "output_type": "stream",
     "text": [
      "File size in bytes of a plain file:  81\n"
     ]
    }
   ],
   "source": [
    "def file_size(fname):\n",
    "    import os\n",
    "    statinfo = os.stat(fname)\n",
    "    return statinfo.st_size\n",
    "\n",
    "print(\"File size in bytes of a plain file: \",file_size(\"myfile.txt\"))"
   ]
  },
  {
   "cell_type": "markdown",
   "metadata": {},
   "source": [
    "### 15. Write a Python program to write a list to a file. "
   ]
  },
  {
   "cell_type": "code",
   "execution_count": 19,
   "metadata": {},
   "outputs": [
    {
     "name": "stdout",
     "output_type": "stream",
     "text": [
      "Hello\n",
      "I am Parsis\n",
      "How are you doing?\n",
      "I hope you are doing good\n",
      "I am also good\n",
      "23\n",
      "Parsis\n",
      "Presswala\n"
     ]
    }
   ],
   "source": [
    "l1 = [23,'Parsis','Presswala']\n",
    "with open('myfile.txt', \"a+\") as myfile:\n",
    "    for c in l1:\n",
    "        myfile.write(\"\\n%s\" % c)\n",
    "    myfile.seek(0,0)\n",
    "    print (myfile.read())"
   ]
  },
  {
   "cell_type": "markdown",
   "metadata": {},
   "source": [
    "### 16. Write a Python program to copy the contents of a file to another file."
   ]
  },
  {
   "cell_type": "code",
   "execution_count": 29,
   "metadata": {},
   "outputs": [],
   "source": [
    "with open(\"myfile.txt\") as f:\n",
    "    with open(\"copy.txt\", \"w\") as f1:\n",
    "        for line in f:\n",
    "            f1.write(line)"
   ]
  },
  {
   "cell_type": "code",
   "execution_count": 30,
   "metadata": {},
   "outputs": [
    {
     "name": "stdout",
     "output_type": "stream",
     "text": [
      "Hello\n",
      "I am Parsis\n",
      "How are you doing?\n",
      "I hope you are doing good\n",
      "I am also good\n",
      "23\n",
      "Parsis\n",
      "Presswala\n"
     ]
    }
   ],
   "source": [
    "with open(\"copy.txt\", \"r\") as f1:\n",
    "    print(f1.read())"
   ]
  },
  {
   "cell_type": "markdown",
   "metadata": {},
   "source": [
    "### 17. Write a Python program to combine each line from the first file with the corresponding line in the second file."
   ]
  },
  {
   "cell_type": "code",
   "execution_count": 32,
   "metadata": {},
   "outputs": [
    {
     "name": "stdout",
     "output_type": "stream",
     "text": [
      "Hello\n",
      "This is my test file for exception handling\n",
      "\n",
      "I am Parsis\n",
      "testfile line 2\n",
      "\n",
      "How are you doing?\n",
      "testfile line 3\n"
     ]
    }
   ],
   "source": [
    "with open('myfile.txt') as fl1, open('testfile.txt') as fl2:\n",
    "    for line1,line2 in zip(fl1,fl2):\n",
    "        print(line1+line2)"
   ]
  },
  {
   "cell_type": "markdown",
   "metadata": {},
   "source": [
    "### 18. Write a Python program to read a random line from a file."
   ]
  },
  {
   "cell_type": "code",
   "execution_count": 33,
   "metadata": {},
   "outputs": [
    {
     "name": "stdout",
     "output_type": "stream",
     "text": [
      "I hope you are doing good\n"
     ]
    }
   ],
   "source": [
    "import random\n",
    "\n",
    "def random_line(fname):\n",
    "    lines = open(fname).read().splitlines()\n",
    "    return random.choice(lines)\n",
    "\n",
    "print(random_line('myfile.txt'))"
   ]
  },
  {
   "cell_type": "markdown",
   "metadata": {},
   "source": [
    "### 19. Write a Python program to assess if a file is closed or not. \n"
   ]
  },
  {
   "cell_type": "code",
   "execution_count": 23,
   "metadata": {},
   "outputs": [
    {
     "name": "stdout",
     "output_type": "stream",
     "text": [
      "True\n"
     ]
    }
   ],
   "source": [
    "f = open('myfile.txt','r')\n",
    "f.close()\n",
    "print(f.closed)"
   ]
  },
  {
   "cell_type": "markdown",
   "metadata": {},
   "source": [
    "### 20. Write a Python program to remove newline characters from a file."
   ]
  },
  {
   "cell_type": "code",
   "execution_count": 46,
   "metadata": {},
   "outputs": [
    {
     "name": "stdout",
     "output_type": "stream",
     "text": [
      "HelloI am ParsisHow are you doing?I hope you are doing goodI am also good23ParsisPresswala\n"
     ]
    }
   ],
   "source": [
    "a_file = open(\"myfile.txt\", \"r\")\n",
    "\n",
    "str = \"\"\n",
    "for line in a_file:\n",
    "    stripped_line = line.rstrip()\n",
    "    str += stripped_line\n",
    "a_file.close()\n",
    "\n",
    "print(str)"
   ]
  },
  {
   "cell_type": "code",
   "execution_count": null,
   "metadata": {},
   "outputs": [],
   "source": []
  }
 ],
 "metadata": {
  "kernelspec": {
   "display_name": "Python 3",
   "language": "python",
   "name": "python3"
  },
  "language_info": {
   "codemirror_mode": {
    "name": "ipython",
    "version": 3
   },
   "file_extension": ".py",
   "mimetype": "text/x-python",
   "name": "python",
   "nbconvert_exporter": "python",
   "pygments_lexer": "ipython3",
   "version": "3.7.6"
  }
 },
 "nbformat": 4,
 "nbformat_minor": 4
}
