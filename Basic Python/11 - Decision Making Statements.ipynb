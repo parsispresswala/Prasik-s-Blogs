{
 "cells": [
  {
   "cell_type": "markdown",
   "metadata": {},
   "source": [
    "### <h3 align=\"center\">Prepared By Parsis Tamakuwala</h3> "
   ]
  },
  {
   "cell_type": "markdown",
   "metadata": {},
   "source": [
    "### 1) if Statements"
   ]
  },
  {
   "cell_type": "code",
   "execution_count": 1,
   "metadata": {},
   "outputs": [
    {
     "name": "stdout",
     "output_type": "stream",
     "text": [
      "7 is good\n"
     ]
    }
   ],
   "source": [
    "# example 1\n",
    "\n",
    "a=7\n",
    "if a>6:\n",
    "    print(a,\"is good\")"
   ]
  },
  {
   "cell_type": "code",
   "execution_count": 3,
   "metadata": {},
   "outputs": [
    {
     "name": "stdout",
     "output_type": "stream",
     "text": [
      "Enter your age: 26\n",
      "You can vote\n"
     ]
    }
   ],
   "source": [
    "# example 2\n",
    "\n",
    "age=(int(input(\"Enter your age: \")))\n",
    "\n",
    "if age>=18:\n",
    "    print(\"You can vote\")"
   ]
  },
  {
   "cell_type": "markdown",
   "metadata": {},
   "source": [
    "### 2) if-else Statements"
   ]
  },
  {
   "cell_type": "code",
   "execution_count": 4,
   "metadata": {},
   "outputs": [
    {
     "name": "stdout",
     "output_type": "stream",
     "text": [
      "1\n"
     ]
    }
   ],
   "source": [
    "# example 1\n",
    "\n",
    "if 2<1:\n",
    "    print(\"2\")\n",
    "else:\n",
    "    print(\"1\")"
   ]
  },
  {
   "cell_type": "code",
   "execution_count": 5,
   "metadata": {},
   "outputs": [
    {
     "name": "stdout",
     "output_type": "stream",
     "text": [
      "Enter your age: 26\n",
      "You can vote\n"
     ]
    }
   ],
   "source": [
    "# example 2\n",
    "\n",
    "age=(int(input(\"Enter your age: \")))\n",
    "\n",
    "if age>=18:\n",
    "    print(\"You can vote\")\n",
    "else:\n",
    "    print(\"You are minor, you can't vote\")"
   ]
  },
  {
   "cell_type": "markdown",
   "metadata": {},
   "source": [
    "### 3) Chained Conditionals (elif ladder)"
   ]
  },
  {
   "cell_type": "code",
   "execution_count": 7,
   "metadata": {},
   "outputs": [
    {
     "name": "stdout",
     "output_type": "stream",
     "text": [
      "Pick color from R or G: R\n",
      "Red Color\n"
     ]
    }
   ],
   "source": [
    "# example 1\n",
    "\n",
    "color=input(\"Pick color from R or G: \")\n",
    "\n",
    "if color=='R':\n",
    "    print(\"Red Color\")\n",
    "elif color==\"G\":\n",
    "    print(\"Green color\")\n",
    "else:\n",
    "    print(\"Choose from 'G' or 'R'\")"
   ]
  },
  {
   "cell_type": "code",
   "execution_count": 2,
   "metadata": {},
   "outputs": [],
   "source": [
    "#### example 2: Find the percentage of given 5 marks and print percentage and class accordingly."
   ]
  },
  {
   "cell_type": "code",
   "execution_count": 9,
   "metadata": {},
   "outputs": [
    {
     "name": "stdout",
     "output_type": "stream",
     "text": [
      "Total marks: 100\n",
      "\n",
      "Enter mark1: 70\n",
      "Enter mark2: 70\n",
      "Enter mark3: 70\n",
      "Enter mark4: 70\n",
      "Enter mark5: 70\n",
      "You percentage is 70.0 %\n",
      "\n",
      "You received First Class\n"
     ]
    }
   ],
   "source": [
    "total_marks=int(input(\"Total marks: \"))\n",
    "print(\"\")\n",
    "mark1=float(input(\"Enter mark1: \"))\n",
    "mark2=float(input(\"Enter mark2: \"))\n",
    "mark3=float(input(\"Enter mark3: \"))\n",
    "mark4=float(input(\"Enter mark4: \"))\n",
    "mark5=float(input(\"Enter mark5: \"))\n",
    "\n",
    "grand_total= (mark1+mark2+mark3+mark4+mark5)*100\n",
    "marks=total_marks*5\n",
    "\n",
    "percentage=grand_total/marks\n",
    "print (\"You percentage is\", percentage, \"%\\n\")\n",
    "\n",
    "if percentage>=80:\n",
    "    print(\"You received Distinction with more than 80% marks\")\n",
    "elif percentage<80 and percentage>=70:\n",
    "    print(\"You received First Class\")\n",
    "elif percentage<70 and percentage>=60:\n",
    "    print(\"You received Second Class\")    \n",
    "else:\n",
    "    print(\"You are fail\")"
   ]
  },
  {
   "cell_type": "code",
   "execution_count": 5,
   "metadata": {},
   "outputs": [],
   "source": [
    "#### example 3: WAP to find the larget number from 3 numbers"
   ]
  },
  {
   "cell_type": "code",
   "execution_count": 10,
   "metadata": {},
   "outputs": [
    {
     "name": "stdout",
     "output_type": "stream",
     "text": [
      "Enter Number1: 50\n",
      "Enter Number2: 60\n",
      "Enter Number3: 40\n",
      "\n",
      "Number2 is largest\n"
     ]
    }
   ],
   "source": [
    "num1=float(input(\"Enter Number1: \"))\n",
    "num2=float(input(\"Enter Number2: \"))\n",
    "num3=float(input(\"Enter Number3: \"))\n",
    "print(\"\")\n",
    "\n",
    "if num1>num2 and num1>num3:\n",
    "    print(\"Number1 is largest\")\n",
    "elif num2>num1 and num2>num1:\n",
    "    print(\"Number2 is largest\")    \n",
    "else:\n",
    "    print(\"Number3 is largest\")"
   ]
  },
  {
   "cell_type": "code",
   "execution_count": 4,
   "metadata": {},
   "outputs": [],
   "source": [
    "#### example 4: WAP to convert a temperature to and from celsius,fahrenheit"
   ]
  },
  {
   "cell_type": "code",
   "execution_count": 1,
   "metadata": {},
   "outputs": [
    {
     "name": "stdout",
     "output_type": "stream",
     "text": [
      "You are taking value in 'c' or 'f': c\n",
      "Enter Temprature: 52\n",
      "125.60000000000001 Ferenhit\n"
     ]
    }
   ],
   "source": [
    "degree = input(\"You are taking value in 'c' or 'f': \")\n",
    "temp = float(input(\"Enter Temprature: \"))\n",
    "\n",
    "if degree=='c':\n",
    "    f=(temp*(9/5))+32\n",
    "    print(f, \"Ferenhit\")\n",
    "elif (degree=='f') :\n",
    "    c=(temp-32)*(5/9)\n",
    "    print (c, \"Celsius\")\n",
    "else:\n",
    "    print (\"Enter the correct choice\")"
   ]
  },
  {
   "cell_type": "code",
   "execution_count": 3,
   "metadata": {},
   "outputs": [],
   "source": [
    "#### example 5: User will enter a shape and print the area of that shape."
   ]
  },
  {
   "cell_type": "code",
   "execution_count": 6,
   "metadata": {},
   "outputs": [
    {
     "name": "stdout",
     "output_type": "stream",
     "text": [
      "Enter Shape: T\n",
      "Enter Height: 5\n",
      "Enter Base: 2\n",
      "Area of Triangle is  5.0\n"
     ]
    }
   ],
   "source": [
    "shape=input(\"Enter Shape: \")\n",
    "if (shape=='T'):\n",
    "    height=float(input(\"Enter Height: \"))\n",
    "    base=float(input(\"Enter Base: \"))\n",
    "    print(\"Area of Triangle is \",height*base/2)\n",
    "elif (shape=='C'):\n",
    "    radious=float(input(\"Enter radious: \"))\n",
    "    print(\"Area of cirle is \",3.14*radious*radious)\n",
    "elif (shape==\"S\"):\n",
    "    side=float(input(\"Enter side: \"))\n",
    "    print(\"Area of square is \",side*side)\n",
    "else:\n",
    "    print(\"Choose correct shape\")"
   ]
  },
  {
   "cell_type": "markdown",
   "metadata": {},
   "source": [
    "### 4) Nested if statements"
   ]
  },
  {
   "cell_type": "code",
   "execution_count": 3,
   "metadata": {},
   "outputs": [
    {
     "name": "stdout",
     "output_type": "stream",
     "text": [
      "i is smaller than 15\n",
      "i is smaller than 12 too\n"
     ]
    }
   ],
   "source": [
    "i = 10\n",
    "if (i == 10):\n",
    "    if (i < 15):\n",
    "        print (\"i is smaller than 15\")\n",
    "    if (i < 12):\n",
    "        print (\"i is smaller than 12 too\")\n",
    "    else:\n",
    "        print (\"i is greater than 15\")"
   ]
  },
  {
   "cell_type": "code",
   "execution_count": null,
   "metadata": {},
   "outputs": [],
   "source": []
  }
 ],
 "metadata": {
  "kernelspec": {
   "display_name": "Python 3",
   "language": "python",
   "name": "python3"
  },
  "language_info": {
   "codemirror_mode": {
    "name": "ipython",
    "version": 3
   },
   "file_extension": ".py",
   "mimetype": "text/x-python",
   "name": "python",
   "nbconvert_exporter": "python",
   "pygments_lexer": "ipython3",
   "version": "3.7.6"
  }
 },
 "nbformat": 4,
 "nbformat_minor": 4
}
