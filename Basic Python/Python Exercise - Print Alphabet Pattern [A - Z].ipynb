{
 "cells": [
  {
   "cell_type": "raw",
   "metadata": {},
   "source": [
    "# Program: 1\n",
    "# Write a program to print the A using stars"
   ]
  },
  {
   "cell_type": "code",
   "execution_count": 1,
   "metadata": {},
   "outputs": [
    {
     "name": "stdout",
     "output_type": "stream",
     "text": [
      "Enter rows: 6\n",
      "  * *   \n",
      "*     * \n",
      "*     * \n",
      "* * * * \n",
      "*     * \n",
      "*     * \n"
     ]
    }
   ],
   "source": [
    "row = int(input(\"Enter rows: \"))\n",
    "col = (row//2)\n",
    "for i in range(row):\n",
    "    for j in range (col+1):\n",
    "        if ((j==0 or j==col) and i!=0) or ((i==0 or i==col) and (j!=col and j!=0)):\n",
    "            print (\"*\",end=\" \")\n",
    "        else:\n",
    "            print (\" \",end=\" \")\n",
    "    print ()"
   ]
  },
  {
   "cell_type": "raw",
   "metadata": {},
   "source": [
    "# Program: 2\n",
    "# Write a program to print the B using stars"
   ]
  },
  {
   "cell_type": "code",
   "execution_count": 2,
   "metadata": {},
   "outputs": [
    {
     "name": "stdout",
     "output_type": "stream",
     "text": [
      "* * * *   \n",
      "*       * \n",
      "* * * *   \n",
      "*       * \n",
      "* * * *   \n"
     ]
    }
   ],
   "source": [
    "row=5\n",
    "if (row%2==0):\n",
    "    row=row-1\n",
    "mid=row//2\n",
    "for i in range(row):\n",
    "    for j in range(row):\n",
    "        if j==0 or (i==mid and j!=row-1) or ((i==0 or i==row-1) and (j!=0 and j!=row-1)) or ((j==row-1) and (i!=0 and i!=row-1) and i!=mid) :\n",
    "            print (\"*\",end=\" \")\n",
    "        else:\n",
    "            print (\" \",end=\" \")\n",
    "    print ()"
   ]
  },
  {
   "cell_type": "raw",
   "metadata": {},
   "source": [
    "# Program: 3\n",
    "# Write a program to print the C using stars"
   ]
  },
  {
   "cell_type": "code",
   "execution_count": 3,
   "metadata": {},
   "outputs": [
    {
     "name": "stdout",
     "output_type": "stream",
     "text": [
      "  * * * * \n",
      "*         \n",
      "*         \n",
      "*         \n",
      "  * * * * \n"
     ]
    }
   ],
   "source": [
    "row=5\n",
    "for i in range(row):\n",
    "    for j in range(row):\n",
    "        if (j==0 and i>0 and i<row-1) or ((i==0 or i==row-1) and j!=0):\n",
    "            print(\"*\",end=\" \")\n",
    "        else:\n",
    "            print(\" \",end=\" \")\n",
    "    print()"
   ]
  },
  {
   "cell_type": "raw",
   "metadata": {},
   "source": [
    "# Program: 4\n",
    "# Write a program to print the D using stars"
   ]
  },
  {
   "cell_type": "code",
   "execution_count": 4,
   "metadata": {},
   "outputs": [
    {
     "name": "stdout",
     "output_type": "stream",
     "text": [
      "* * * *   \n",
      "*       * \n",
      "*       * \n",
      "*       * \n",
      "* * * *   \n"
     ]
    }
   ],
   "source": [
    "row=5\n",
    "for i in range(row):\n",
    "    for j in range(row):\n",
    "        if j==0 or ((j==row-1) and (i!=0 and i!=row-1)) or ((i==0 or i==row-1) and (j!=0 and j!=row-1)):\n",
    "            print (\"*\",end=\" \")\n",
    "        else:\n",
    "            print (\" \",end=\" \")\n",
    "    print ()"
   ]
  },
  {
   "cell_type": "raw",
   "metadata": {},
   "source": [
    "# Program: 5\n",
    "# Write a program to print the E using stars"
   ]
  },
  {
   "cell_type": "code",
   "execution_count": 5,
   "metadata": {},
   "outputs": [
    {
     "name": "stdout",
     "output_type": "stream",
     "text": [
      "* * * *   \n",
      "*         \n",
      "* * * *   \n",
      "*         \n",
      "* * * *   \n"
     ]
    }
   ],
   "source": [
    "row=5\n",
    "mid=row//2\n",
    "for i in range(row):\n",
    "    for j in range(row):\n",
    "        if (j==0 or (i==mid or i==0 or i==row-1) and (j<row-1)):\n",
    "            print (\"*\",end=\" \")\n",
    "        else:\n",
    "            print (\" \",end=\" \")\n",
    "    print()"
   ]
  },
  {
   "cell_type": "raw",
   "metadata": {},
   "source": [
    "# Program: 6\n",
    "# Write a program to print the F using stars"
   ]
  },
  {
   "cell_type": "code",
   "execution_count": 6,
   "metadata": {},
   "outputs": [
    {
     "name": "stdout",
     "output_type": "stream",
     "text": [
      "* * * *   \n",
      "*         \n",
      "* * * *   \n",
      "*         \n",
      "*         \n"
     ]
    }
   ],
   "source": [
    "row=5\n",
    "mid=row//2\n",
    "for i in range(row):\n",
    "    for j in range(row):\n",
    "        if (j==0 or (i==mid or i==0) and (j<row-1)):\n",
    "            print (\"*\",end=\" \")\n",
    "        else:\n",
    "            print (\" \",end=\" \")\n",
    "    print()"
   ]
  },
  {
   "cell_type": "raw",
   "metadata": {},
   "source": [
    "# Program: 7\n",
    "# Write a program to print the G using stars"
   ]
  },
  {
   "cell_type": "code",
   "execution_count": 7,
   "metadata": {},
   "outputs": [
    {
     "name": "stdout",
     "output_type": "stream",
     "text": [
      "  * * * * \n",
      "*         \n",
      "*     * * \n",
      "*       * \n",
      "  * * * * \n"
     ]
    }
   ],
   "source": [
    "row=5\n",
    "for i in range(row):\n",
    "    for j in range(row):\n",
    "        if (j==0 and i>0 and i<row-1) or ((i==0 or i==row-1) and j!=0) or (j==row-1 and i>=row//2) or (i==row//2 and j>row//2):\n",
    "            print(\"*\",end=\" \")\n",
    "        else:\n",
    "            print(\" \",end=\" \")\n",
    "    print()"
   ]
  },
  {
   "cell_type": "raw",
   "metadata": {},
   "source": [
    "# Program: 8\n",
    "# Write a program to print the H using stars"
   ]
  },
  {
   "cell_type": "code",
   "execution_count": 8,
   "metadata": {},
   "outputs": [
    {
     "name": "stdout",
     "output_type": "stream",
     "text": [
      "*       * \n",
      "*       * \n",
      "* * * * * \n",
      "*       * \n",
      "*       * \n"
     ]
    }
   ],
   "source": [
    "row=5\n",
    "if (row%2==0):\n",
    "    row=row-1\n",
    "mid=row//2\n",
    "for i in range(row):\n",
    "    for j in range(row):\n",
    "        if (j==0 or j==row-1 or i==mid):\n",
    "            print (\"*\",end=\" \")\n",
    "        else:\n",
    "            print (\" \",end=\" \")\n",
    "    print ()"
   ]
  },
  {
   "cell_type": "raw",
   "metadata": {},
   "source": [
    "# Program: 9\n",
    "# Write a program to print the I using stars"
   ]
  },
  {
   "cell_type": "code",
   "execution_count": 9,
   "metadata": {},
   "outputs": [
    {
     "name": "stdout",
     "output_type": "stream",
     "text": [
      "* * * * * \n",
      "    *     \n",
      "    *     \n",
      "    *     \n",
      "* * * * * \n"
     ]
    }
   ],
   "source": [
    "row=5\n",
    "if (row%2==0):\n",
    "    row=row-1\n",
    "mid=row//2\n",
    "for i in range(row):\n",
    "    for j in range(row):\n",
    "        if (i==0 or i==row-1 or j==mid):\n",
    "            print (\"*\",end=\" \")\n",
    "        else:\n",
    "            print (\" \",end=\" \")\n",
    "    print ()"
   ]
  },
  {
   "cell_type": "raw",
   "metadata": {},
   "source": [
    "# Program: 10\n",
    "# Write a program to print the J using stars"
   ]
  },
  {
   "cell_type": "code",
   "execution_count": 10,
   "metadata": {},
   "outputs": [
    {
     "name": "stdout",
     "output_type": "stream",
     "text": [
      "* * * * * \n",
      "    *     \n",
      "    *     \n",
      "*   *     \n",
      "* * *     \n"
     ]
    }
   ],
   "source": [
    "row=6\n",
    "if (row%2==0):\n",
    "    row=row-1\n",
    "mid=row//2\n",
    "for i in range(row):\n",
    "    for j in range(row):\n",
    "        if (i==0 or (i==row-1 and j<mid) or (i==row-2 and j==0) or j==mid):\n",
    "            print (\"*\",end=\" \")\n",
    "        else:\n",
    "            print (\" \",end=\" \")\n",
    "    print ()"
   ]
  },
  {
   "cell_type": "raw",
   "metadata": {},
   "source": [
    "# Program: 11\n",
    "# Write a program to print the K using stars"
   ]
  },
  {
   "cell_type": "code",
   "execution_count": 11,
   "metadata": {},
   "outputs": [
    {
     "name": "stdout",
     "output_type": "stream",
     "text": [
      "*     *   \n",
      "*   *     \n",
      "* *       \n",
      "*   *     \n",
      "*     *   \n"
     ]
    }
   ],
   "source": [
    "row=4\n",
    "if (row%2==0):\n",
    "    row=row+1\n",
    "mid=row//2\n",
    "for i in range(row):\n",
    "    for j in range(row):\n",
    "        if j==0 or (mid-j+1==i) or (mid+j-1==i):\n",
    "            print (\"*\",end=\" \")\n",
    "        else:\n",
    "            print (\" \",end=\" \")\n",
    "    print()"
   ]
  },
  {
   "cell_type": "raw",
   "metadata": {},
   "source": [
    "# Program: 12\n",
    "# Write a program to print the L using stars"
   ]
  },
  {
   "cell_type": "code",
   "execution_count": 12,
   "metadata": {},
   "outputs": [
    {
     "name": "stdout",
     "output_type": "stream",
     "text": [
      "*         \n",
      "*         \n",
      "*         \n",
      "*         \n",
      "* * * * * \n"
     ]
    }
   ],
   "source": [
    "row=5\n",
    "for i in range(row):\n",
    "    for j in range(row):\n",
    "        if (j==0 or i==row-1):\n",
    "            print (\"*\",end=\" \")\n",
    "        else:\n",
    "            print (\" \",end=\" \")\n",
    "    print ()"
   ]
  },
  {
   "cell_type": "raw",
   "metadata": {},
   "source": [
    "# Program: 13\n",
    "# Write a program to print the M using stars"
   ]
  },
  {
   "cell_type": "code",
   "execution_count": 13,
   "metadata": {},
   "outputs": [
    {
     "name": "stdout",
     "output_type": "stream",
     "text": [
      "*      *\n",
      "**    **\n",
      "* *  * *\n",
      "*  **  *\n",
      "*      *\n",
      "*      *\n"
     ]
    }
   ],
   "source": [
    "row=6\n",
    "k=row+2\n",
    "for i in range(row):\n",
    "    for j in range(row+2):\n",
    "        if (j==0 or (j==row+1)) or (i==j and i<=row//2) or (k-1==j and i<=row//2):\n",
    "            print (\"*\",end=\"\")\n",
    "        else:\n",
    "            print (\" \",end=\"\")\n",
    "    k=k-1\n",
    "    print()"
   ]
  },
  {
   "cell_type": "raw",
   "metadata": {},
   "source": [
    "# Program: 14\n",
    "# Write a program to print the N using stars"
   ]
  },
  {
   "cell_type": "code",
   "execution_count": 14,
   "metadata": {},
   "outputs": [
    {
     "name": "stdout",
     "output_type": "stream",
     "text": [
      "*     * \n",
      "* *   * \n",
      "*   * * \n",
      "*     * \n"
     ]
    }
   ],
   "source": [
    "row=4\n",
    "for i in range(row):\n",
    "    for j in range(row):\n",
    "        if (j==0 or j==row-1 or i==j):\n",
    "            print (\"*\",end=\" \")\n",
    "        else:\n",
    "            print (\" \",end=\" \")\n",
    "    print ()"
   ]
  },
  {
   "cell_type": "raw",
   "metadata": {},
   "source": [
    "# Program: 15\n",
    "# Write a program to print the O using stars"
   ]
  },
  {
   "cell_type": "code",
   "execution_count": 15,
   "metadata": {},
   "outputs": [
    {
     "name": "stdout",
     "output_type": "stream",
     "text": [
      "  * * *   \n",
      "*       * \n",
      "*       * \n",
      "*       * \n",
      "  * * *   \n"
     ]
    }
   ],
   "source": [
    "row=5\n",
    "for i in range(row):\n",
    "    for j in range(row):\n",
    "        if ((j==0 or j==row-1) and (i!=0 and i!=row-1)) or ((i==0 or i==row-1) and (j!=0 and j!=row-1)):\n",
    "            print (\"*\",end=\" \")\n",
    "        else:\n",
    "            print (\" \",end=\" \")\n",
    "    print ()"
   ]
  },
  {
   "cell_type": "raw",
   "metadata": {},
   "source": [
    "# Program: 16\n",
    "# Write a program to print the P using stars"
   ]
  },
  {
   "cell_type": "code",
   "execution_count": 16,
   "metadata": {},
   "outputs": [
    {
     "name": "stdout",
     "output_type": "stream",
     "text": [
      "* * * *   \n",
      "*     *   \n",
      "* * * *   \n",
      "*         \n",
      "*         \n"
     ]
    }
   ],
   "source": [
    "row=5\n",
    "mid=row//2\n",
    "for i in range(row):\n",
    "    for j in range(row):\n",
    "        if (j==0 or (j==row-2 and i<=mid) or (i==mid or i==0) and (j<row-1)):\n",
    "            print (\"*\",end=\" \")\n",
    "        else:\n",
    "            print (\" \",end=\" \")\n",
    "    print()"
   ]
  },
  {
   "cell_type": "raw",
   "metadata": {},
   "source": [
    "# Program: 17\n",
    "# Write a program to print the Q using stars"
   ]
  },
  {
   "cell_type": "code",
   "execution_count": 17,
   "metadata": {},
   "outputs": [
    {
     "name": "stdout",
     "output_type": "stream",
     "text": [
      "  * * *   \n",
      "*       * \n",
      "*       * \n",
      "*   *   * \n",
      "  * * *   \n",
      "        * \n"
     ]
    }
   ],
   "source": [
    "row=5\n",
    "k=row//2\n",
    "for i in range(row+1):\n",
    "    for j in range(row):\n",
    "        if ((j==0 or j==row-1) and (i!=0 and i!=row-1 and i!=row)) or ((i==0 or i==row-1) and (j!=0 and j!=row-1)) or (j==i-1 and i>k):\n",
    "            print (\"*\",end=\" \")\n",
    "        else:\n",
    "            print (\" \",end=\" \")\n",
    "    print ()\n"
   ]
  },
  {
   "cell_type": "raw",
   "metadata": {},
   "source": [
    "# Program: 18\n",
    "# Write a program to print the R using stars"
   ]
  },
  {
   "cell_type": "code",
   "execution_count": 18,
   "metadata": {},
   "outputs": [
    {
     "name": "stdout",
     "output_type": "stream",
     "text": [
      "* * *     \n",
      "*   *     \n",
      "* * *     \n",
      "* *       \n",
      "*   *     \n"
     ]
    }
   ],
   "source": [
    "row=5\n",
    "if (row%2==0):\n",
    "    row=row-1\n",
    "mid=row//2\n",
    "for i in range(row):\n",
    "    if (mid<i):\n",
    "        k=k+1\n",
    "    for j in range(row):\n",
    "        if j==0 or (j==mid and i<=mid) or ((i==mid or i==0) and (j<mid)) or (mid+j==i):\n",
    "            print (\"*\",end=\" \")\n",
    "        else:\n",
    "            print (\" \",end=\" \")\n",
    "    print()"
   ]
  },
  {
   "cell_type": "raw",
   "metadata": {},
   "source": [
    "# Program: 19\n",
    "# Write a program to print the S using stars"
   ]
  },
  {
   "cell_type": "code",
   "execution_count": 19,
   "metadata": {},
   "outputs": [
    {
     "name": "stdout",
     "output_type": "stream",
     "text": [
      "* * * * * \n",
      "*         \n",
      "* * * * * \n",
      "        * \n",
      "* * * * * \n"
     ]
    }
   ],
   "source": [
    "row=4\n",
    "if (row%2==0):\n",
    "    row=row+1\n",
    "mid=(row//2)\n",
    "for i in range(row):\n",
    "    for j in range(row):\n",
    "        if ((j==0 and i<=mid) or (j==row-1 and i>=mid)) or i in (0,mid,row-1):\n",
    "            print (\"*\",end=\" \")\n",
    "        else:\n",
    "            print (\" \",end=\" \")\n",
    "    print ()"
   ]
  },
  {
   "cell_type": "raw",
   "metadata": {},
   "source": [
    "# Program: 20\n",
    "# Write a program to print the T using stars"
   ]
  },
  {
   "cell_type": "code",
   "execution_count": 20,
   "metadata": {},
   "outputs": [
    {
     "name": "stdout",
     "output_type": "stream",
     "text": [
      "* * * * * \n",
      "    *     \n",
      "    *     \n",
      "    *     \n",
      "    *     \n"
     ]
    }
   ],
   "source": [
    "row=4\n",
    "if (row%2==0):\n",
    "    row=row+1\n",
    "mid=(row//2)\n",
    "for i in range(row):\n",
    "    for j in range(row):\n",
    "        if (i==0 or j==mid):\n",
    "            print (\"*\",end=\" \")\n",
    "        else:\n",
    "            print (\" \",end=\" \")\n",
    "    print ()"
   ]
  },
  {
   "cell_type": "raw",
   "metadata": {},
   "source": [
    "# Program: 21\n",
    "# Write a program to print the U using stars"
   ]
  },
  {
   "cell_type": "code",
   "execution_count": 21,
   "metadata": {},
   "outputs": [
    {
     "name": "stdout",
     "output_type": "stream",
     "text": [
      "*       * \n",
      "*       * \n",
      "*       * \n",
      "*       * \n",
      "  * * *   \n"
     ]
    }
   ],
   "source": [
    "row=5\n",
    "for i in range(row):\n",
    "    for j in range(row):\n",
    "        if ((j==0 or j==row-1) and i!=row-1) or (i==row-1 and j!=row-1 and j!=0):\n",
    "            print (\"*\",end=\" \")\n",
    "        else:\n",
    "            print (\" \",end=\" \")\n",
    "    print ()"
   ]
  },
  {
   "cell_type": "raw",
   "metadata": {},
   "source": [
    "# Program: 22\n",
    "# Write a program to print the V using stars"
   ]
  },
  {
   "cell_type": "code",
   "execution_count": 22,
   "metadata": {},
   "outputs": [
    {
     "name": "stdout",
     "output_type": "stream",
     "text": [
      "*       *\n",
      " *     *\n",
      "  *   *\n",
      "   * *\n",
      "    *\n"
     ]
    }
   ],
   "source": [
    "row=5\n",
    "k=row*2-1\n",
    "for i in range(row):\n",
    "    for j in range(k):\n",
    "        if (i==j) or (k==j+1) :\n",
    "            print (\"*\",end=\"\")\n",
    "        else:\n",
    "            print (\" \",end=\"\")\n",
    "    k=k-1\n",
    "    print ()"
   ]
  },
  {
   "cell_type": "raw",
   "metadata": {},
   "source": [
    "# Program: 23\n",
    "# Write a program to print the W using stars"
   ]
  },
  {
   "cell_type": "code",
   "execution_count": 23,
   "metadata": {},
   "outputs": [
    {
     "name": "stdout",
     "output_type": "stream",
     "text": [
      "*    *    *\n",
      "*   * *   *\n",
      "*  *   *  *\n",
      "* *     * *\n",
      "**       **\n"
     ]
    }
   ],
   "source": [
    "row=5\n",
    "k=row\n",
    "y=row\n",
    "for i in range(row,0,-1):\n",
    "    for j in range(row*2+1):\n",
    "        if (j==0 or (j==row*2)) or (i==j) or (k==i and y==j):\n",
    "            print (\"*\",end=\"\")\n",
    "        else:\n",
    "            print (\" \",end=\"\")\n",
    "    k=k-1\n",
    "    y=y+1\n",
    "    print()"
   ]
  },
  {
   "cell_type": "raw",
   "metadata": {},
   "source": [
    "# Program: 24\n",
    "# Write a program to print the X using stars"
   ]
  },
  {
   "cell_type": "code",
   "execution_count": 24,
   "metadata": {},
   "outputs": [
    {
     "name": "stdout",
     "output_type": "stream",
     "text": [
      "Enter row: 4\n",
      "          \n",
      "*       * \n",
      "  *   *   \n",
      "    *     \n",
      "  *   *   \n",
      "*       * \n"
     ]
    }
   ],
   "source": [
    "row = int(input(\"Enter row: \"))\n",
    "if (row%2==0):\n",
    "    row=row+1\n",
    "k=row\n",
    "for i in range(row+1):\n",
    "    for j in range(row):\n",
    "        if (i==j+1) or (j==k):\n",
    "            print (\"*\",end=\" \")\n",
    "        else:\n",
    "            print (\" \",end=\" \")\n",
    "    k=k-1\n",
    "    print ()"
   ]
  },
  {
   "cell_type": "raw",
   "metadata": {},
   "source": [
    "# Program: 25\n",
    "# Write a program to print the Y using stars"
   ]
  },
  {
   "cell_type": "code",
   "execution_count": 25,
   "metadata": {},
   "outputs": [
    {
     "name": "stdout",
     "output_type": "stream",
     "text": [
      "*       * \n",
      "  *   *   \n",
      "    *     \n",
      "    *     \n",
      "    *     \n"
     ]
    }
   ],
   "source": [
    "k=row = 5\n",
    "if (row%2==0):\n",
    "    row=k=row-1\n",
    "else:\n",
    "    mid=(row//2)+1\n",
    "for i in range(row):\n",
    "    for j in range(row):\n",
    "        if ((i==j) and (i<mid)) or ((j==mid-1) and (i>=mid)) or ((j==k-1) and j>=mid):\n",
    "            print (\"*\",end=\" \")\n",
    "        else:\n",
    "            print (\" \",end=\" \")\n",
    "    k=k-1\n",
    "    print ()"
   ]
  },
  {
   "cell_type": "raw",
   "metadata": {},
   "source": [
    "# Program: 26\n",
    "# Write a program to print the Z using stars"
   ]
  },
  {
   "cell_type": "code",
   "execution_count": 26,
   "metadata": {},
   "outputs": [
    {
     "name": "stdout",
     "output_type": "stream",
     "text": [
      "* * * * * \n",
      "      *   \n",
      "    *     \n",
      "  *       \n",
      "* * * * * \n"
     ]
    }
   ],
   "source": [
    "k=row=5\n",
    "for i in range(row,0,-1):\n",
    "    for j in range(row):\n",
    "        if (i==j+1) or (i==1 or i==k):\n",
    "            print (\"*\",end=\" \")\n",
    "        else:\n",
    "            print (\" \",end=\" \")\n",
    "    print()"
   ]
  },
  {
   "cell_type": "code",
   "execution_count": null,
   "metadata": {},
   "outputs": [],
   "source": []
  }
 ],
 "metadata": {
  "kernelspec": {
   "display_name": "Python 3",
   "language": "python",
   "name": "python3"
  },
  "language_info": {
   "codemirror_mode": {
    "name": "ipython",
    "version": 3
   },
   "file_extension": ".py",
   "mimetype": "text/x-python",
   "name": "python",
   "nbconvert_exporter": "python",
   "pygments_lexer": "ipython3",
   "version": "3.7.7"
  }
 },
 "nbformat": 4,
 "nbformat_minor": 4
}
