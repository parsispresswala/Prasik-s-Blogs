{
 "cells": [
  {
   "cell_type": "markdown",
   "metadata": {},
   "source": [
    "### <h3 align=\"center\">Prepared By Parsis Tamakuwala</h3> "
   ]
  },
  {
   "cell_type": "markdown",
   "metadata": {},
   "source": [
    "## Anonymous/Lambda Function"
   ]
  },
  {
   "cell_type": "markdown",
   "metadata": {},
   "source": [
    "#### Double the Number"
   ]
  },
  {
   "cell_type": "code",
   "execution_count": 1,
   "metadata": {},
   "outputs": [
    {
     "name": "stdout",
     "output_type": "stream",
     "text": [
      "10\n"
     ]
    }
   ],
   "source": [
    "double = lambda x: x * 2\n",
    "print(double(5))"
   ]
  },
  {
   "cell_type": "markdown",
   "metadata": {},
   "source": [
    "#### Addition of two numbers"
   ]
  },
  {
   "cell_type": "code",
   "execution_count": 29,
   "metadata": {},
   "outputs": [
    {
     "name": "stdout",
     "output_type": "stream",
     "text": [
      "11\n"
     ]
    }
   ],
   "source": [
    "sum = lambda var1, var2 : var1 + var2\n",
    "print (sum(5,6))"
   ]
  },
  {
   "cell_type": "code",
   "execution_count": 30,
   "metadata": {},
   "outputs": [
    {
     "name": "stdout",
     "output_type": "stream",
     "text": [
      "11\n"
     ]
    }
   ],
   "source": [
    "sum = (lambda var1, var2 : var1 + var2)(5,6)\n",
    "print (sum)"
   ]
  },
  {
   "cell_type": "markdown",
   "metadata": {},
   "source": [
    "#### Average of two Numbers"
   ]
  },
  {
   "cell_type": "code",
   "execution_count": 31,
   "metadata": {
    "scrolled": true
   },
   "outputs": [
    {
     "name": "stdout",
     "output_type": "stream",
     "text": [
      "3.0\n"
     ]
    }
   ],
   "source": [
    "print ((lambda x,y:(x+y)/2)(3,3))"
   ]
  },
  {
   "cell_type": "markdown",
   "metadata": {},
   "source": [
    "## filter() function"
   ]
  },
  {
   "cell_type": "markdown",
   "metadata": {},
   "source": [
    "#### Using User-Defined Function "
   ]
  },
  {
   "cell_type": "code",
   "execution_count": 47,
   "metadata": {},
   "outputs": [
    {
     "name": "stdout",
     "output_type": "stream",
     "text": [
      "55\n",
      "80\n",
      "90\n"
     ]
    }
   ],
   "source": [
    "marks = [10,20,30,55,80,90]\n",
    "\n",
    "def fun1(arg1):\n",
    "    if arg1>50:\n",
    "        print (arg1)\n",
    "        \n",
    "pass_students = filter(fun1,marks)\n",
    "\n",
    "for i in pass_students:\n",
    "    print (i)"
   ]
  },
  {
   "cell_type": "markdown",
   "metadata": {},
   "source": [
    "#### Using Lambda Function :: Print the numbers which are divisble by 2"
   ]
  },
  {
   "cell_type": "code",
   "execution_count": 19,
   "metadata": {},
   "outputs": [
    {
     "name": "stdout",
     "output_type": "stream",
     "text": [
      "[4, 68, 12]\n"
     ]
    }
   ],
   "source": [
    "my_list = [1,5,4,68,11,3,12]\n",
    "new_list = list (filter(lambda x:(x%2==0),my_list))\n",
    "print (new_list)"
   ]
  },
  {
   "cell_type": "markdown",
   "metadata": {},
   "source": [
    "#### Supplanting function with 'None'"
   ]
  },
  {
   "cell_type": "code",
   "execution_count": 15,
   "metadata": {},
   "outputs": [
    {
     "data": {
      "text/plain": [
       "['False', True, 10]"
      ]
     },
     "execution_count": 15,
     "metadata": {},
     "output_type": "execute_result"
    }
   ],
   "source": [
    "''' With filter function as None, the function defaults to Identity function, and each element in random_list is checked \n",
    "if it's true or not.'''\n",
    "\n",
    "marks = ['False',True,0,10,False]\n",
    "\n",
    "pass_students = list(filter(None,marks))\n",
    "\n",
    "pass_students"
   ]
  },
  {
   "cell_type": "markdown",
   "metadata": {},
   "source": [
    "## map() function"
   ]
  },
  {
   "cell_type": "markdown",
   "metadata": {},
   "source": [
    "#### Iterating all elements and returns results"
   ]
  },
  {
   "cell_type": "code",
   "execution_count": 48,
   "metadata": {},
   "outputs": [
    {
     "name": "stdout",
     "output_type": "stream",
     "text": [
      "[None, None, None, 55, 80, 90]\n"
     ]
    }
   ],
   "source": [
    "marks = [10,20,30,55,80,90]\n",
    "\n",
    "def fun1(arg1):\n",
    "    if arg1>50:\n",
    "        return (arg1)\n",
    "        \n",
    "pass_students = list(map(fun1,marks))\n",
    "print (pass_students)"
   ]
  },
  {
   "cell_type": "markdown",
   "metadata": {},
   "source": [
    "#### Iterating through all elements"
   ]
  },
  {
   "cell_type": "code",
   "execution_count": 35,
   "metadata": {},
   "outputs": [
    {
     "name": "stdout",
     "output_type": "stream",
     "text": [
      "[False, False, True, True, False, False, True]\n"
     ]
    }
   ],
   "source": [
    "my_list = [1,5,4,68,11,3,12]\n",
    "new_list = list (map(lambda x:(x%2==0),my_list))\n",
    "print (new_list)"
   ]
  },
  {
   "cell_type": "markdown",
   "metadata": {},
   "source": [
    "#### Iterating all elements"
   ]
  },
  {
   "cell_type": "code",
   "execution_count": 6,
   "metadata": {},
   "outputs": [
    {
     "name": "stdout",
     "output_type": "stream",
     "text": [
      "[1, 4, 9, 16, 0]\n"
     ]
    }
   ],
   "source": [
    "numbers = (1, 2, 3, 4,0)\n",
    "result = map(lambda x,y: x*y, numbers,numbers)\n",
    "print(list(result))"
   ]
  },
  {
   "cell_type": "markdown",
   "metadata": {},
   "source": [
    "#### Using multiple iterables"
   ]
  },
  {
   "cell_type": "code",
   "execution_count": 2,
   "metadata": {},
   "outputs": [
    {
     "name": "stdout",
     "output_type": "stream",
     "text": [
      "{10, 12, 14}\n"
     ]
    }
   ],
   "source": [
    "a = (5,6,7)\n",
    "b = (5,6,7)\n",
    "\n",
    "new_lst = set(map(lambda a,b : a + b,a,b))\n",
    "print (new_lst)"
   ]
  },
  {
   "cell_type": "markdown",
   "metadata": {},
   "source": [
    "#### Listify the list of strings individually"
   ]
  },
  {
   "cell_type": "code",
   "execution_count": 1,
   "metadata": {},
   "outputs": [
    {
     "name": "stdout",
     "output_type": "stream",
     "text": [
      "[('p', 'a', 'r', 's', 'i', 's'), ('p', 'r', 'a', 't', 'i', 'k'), ('s', 'a', 'k', 's', 'h', 'i')]\n"
     ]
    }
   ],
   "source": [
    "# List of strings\n",
    "l = ['parsis', 'pratik', 'sakshi'] # bool or integer value is not supported\n",
    "  \n",
    "# map() can listify the list of strings individually\n",
    "test = list(map(tuple,l)) \n",
    "print(test)"
   ]
  }
 ],
 "metadata": {
  "kernelspec": {
   "display_name": "Python 3",
   "language": "python",
   "name": "python3"
  },
  "language_info": {
   "codemirror_mode": {
    "name": "ipython",
    "version": 3
   },
   "file_extension": ".py",
   "mimetype": "text/x-python",
   "name": "python",
   "nbconvert_exporter": "python",
   "pygments_lexer": "ipython3",
   "version": "3.7.6"
  }
 },
 "nbformat": 4,
 "nbformat_minor": 4
}
