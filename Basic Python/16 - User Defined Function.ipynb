{
 "cells": [
  {
   "cell_type": "markdown",
   "metadata": {},
   "source": [
    "### <h3 align=\"center\">Prepared By Parsis Tamakuwala</h3> "
   ]
  },
  {
   "cell_type": "markdown",
   "metadata": {},
   "source": [
    "### User Defined Function"
   ]
  },
  {
   "cell_type": "markdown",
   "metadata": {},
   "source": [
    "### Value Returning Function"
   ]
  },
  {
   "cell_type": "code",
   "execution_count": 3,
   "metadata": {},
   "outputs": [
    {
     "name": "stdout",
     "output_type": "stream",
     "text": [
      "result1:  10.0\n",
      "result2:  6.3999999999999995\n",
      "result3:  2.0\n"
     ]
    }
   ],
   "source": [
    "# function definition\n",
    "def avg(n1,n2,n3):   \n",
    "    # function body\n",
    "    return (n1+n2+n3)/3\n",
    "\n",
    "# function call\n",
    "result1 = avg(5,10,15)\n",
    "result2 = avg(5.5,5.9,7.8)\n",
    "result3 = avg(1,2,3)\n",
    "\n",
    "# Print results\n",
    "print (\"result1: \",result1)\n",
    "print (\"result2: \",result2)\n",
    "print (\"result3: \",result3)"
   ]
  },
  {
   "cell_type": "markdown",
   "metadata": {},
   "source": [
    "### Non Value Returning Function"
   ]
  },
  {
   "cell_type": "markdown",
   "metadata": {},
   "source": [
    "#### Example 1:"
   ]
  },
  {
   "cell_type": "code",
   "execution_count": 4,
   "metadata": {},
   "outputs": [
    {
     "name": "stdout",
     "output_type": "stream",
     "text": [
      "Hello\n",
      "How are you?\n"
     ]
    }
   ],
   "source": [
    "def display():\n",
    "    print (\"Hello\")\n",
    "    print (\"How are you?\")\n",
    "\n",
    "display()"
   ]
  },
  {
   "cell_type": "markdown",
   "metadata": {},
   "source": [
    "#### Example 2:"
   ]
  },
  {
   "cell_type": "code",
   "execution_count": 3,
   "metadata": {},
   "outputs": [
    {
     "name": "stdout",
     "output_type": "stream",
     "text": [
      "10.0\n",
      "6.3999999999999995\n",
      "2.0\n"
     ]
    }
   ],
   "source": [
    "# function definition\n",
    "def avg(n1,n2,n3):   \n",
    "    # function body\n",
    "    print ((n1+n2+n3)/3)\n",
    "\n",
    "# function call\n",
    "avg(5,10,15)\n",
    "avg(5.5,5.9,7.8)\n",
    "avg(1,2,3)"
   ]
  },
  {
   "cell_type": "markdown",
   "metadata": {},
   "source": [
    "### Positional Argument"
   ]
  },
  {
   "cell_type": "code",
   "execution_count": 6,
   "metadata": {},
   "outputs": [
    {
     "name": "stdout",
     "output_type": "stream",
     "text": [
      "num1: 5\n",
      "num2: 5\n",
      "num3: 5\n",
      "5.0\n"
     ]
    }
   ],
   "source": [
    "def avg(n1,n2,n3):   \n",
    "    print ((n1+n2+n3)/3)\n",
    "\n",
    "num1 = int(input(\"num1: \"))\n",
    "num2 = int(input(\"num2: \"))\n",
    "num3 = int(input(\"num3: \"))\n",
    "\n",
    "# function call\n",
    "avg(num1,num2,num3) # num1 -> n1, num2 -> n2, num3 -> n3 "
   ]
  },
  {
   "cell_type": "markdown",
   "metadata": {},
   "source": [
    "### Keyword Argument"
   ]
  },
  {
   "cell_type": "code",
   "execution_count": 7,
   "metadata": {},
   "outputs": [
    {
     "name": "stdout",
     "output_type": "stream",
     "text": [
      "10.333333333333334\n"
     ]
    }
   ],
   "source": [
    "# function definition\n",
    "def avg(n1,n2,n3):   \n",
    "    # function body\n",
    "    return (n1+n2+n3)/3\n",
    "\n",
    "# function call\n",
    "print (avg(n2=5,n3=16,n1=10))  # n2=5 -> n2, n3=16 -> n3, n1=10 -> n1"
   ]
  },
  {
   "cell_type": "markdown",
   "metadata": {},
   "source": [
    "### Default Argument"
   ]
  },
  {
   "cell_type": "code",
   "execution_count": 11,
   "metadata": {},
   "outputs": [
    {
     "name": "stdout",
     "output_type": "stream",
     "text": [
      "4.333333333333333\n",
      "5.0\n"
     ]
    }
   ],
   "source": [
    "# function definition\n",
    "def avg(n1,n2,n3=3):   \n",
    "    # function body\n",
    "    return (n1+n2+n3)/3\n",
    "\n",
    "# function call\n",
    "print (avg(5,5))  # accept the default value 3\n",
    "print (avg(5,5,5))  # n3 value is replaced with the value 5"
   ]
  },
  {
   "cell_type": "markdown",
   "metadata": {},
   "source": [
    "### Local Variable"
   ]
  },
  {
   "cell_type": "code",
   "execution_count": 18,
   "metadata": {},
   "outputs": [
    {
     "name": "stdout",
     "output_type": "stream",
     "text": [
      "fun1 value is 5\n",
      "fun2 value is 10\n"
     ]
    }
   ],
   "source": [
    "def fun1():\n",
    "    n = 5   # local variable\n",
    "    print (\"fun1 value is\",n)\n",
    "    \n",
    "def fun2():\n",
    "    fun1()\n",
    "    n = 10   # local variable\n",
    "    print (\"fun2 value is\",n)\n",
    "    \n",
    "fun2()"
   ]
  },
  {
   "cell_type": "markdown",
   "metadata": {},
   "source": [
    "### Global Variable"
   ]
  },
  {
   "cell_type": "code",
   "execution_count": 20,
   "metadata": {},
   "outputs": [
    {
     "name": "stdout",
     "output_type": "stream",
     "text": [
      "fun1 value is 5\n",
      "fun2 value is 15\n"
     ]
    }
   ],
   "source": [
    "n = 15  # global variable\n",
    "\n",
    "def fun1():\n",
    "    n = 5   # local variable\n",
    "    print (\"fun1 value is\",n)\n",
    "    \n",
    "def fun2():\n",
    "    fun1()\n",
    "    #n = 10   # local variable\n",
    "    print (\"fun2 value is\",n)  # if commented, accepts global variable\n",
    "    \n",
    "fun2()"
   ]
  },
  {
   "cell_type": "markdown",
   "metadata": {},
   "source": [
    "### Updating Global Variable"
   ]
  },
  {
   "cell_type": "code",
   "execution_count": 25,
   "metadata": {},
   "outputs": [
    {
     "name": "stdout",
     "output_type": "stream",
     "text": [
      "fun1 value is 16\n",
      "fun2 value is 16\n"
     ]
    }
   ],
   "source": [
    "n = 15  # global variable\n",
    "\n",
    "def fun1():\n",
    "    global n\n",
    "    n = n + 1   # local variable\n",
    "    print (\"fun1 value is\",n)\n",
    "\n",
    "def fun2():\n",
    "    #n = 10   # local variable\n",
    "    print (\"fun2 value is\",n)\n",
    "    \n",
    "fun1()    \n",
    "fun2()"
   ]
  },
  {
   "cell_type": "markdown",
   "metadata": {},
   "source": [
    "## N Nos of Variable Length Argument"
   ]
  },
  {
   "cell_type": "markdown",
   "metadata": {},
   "source": [
    "#### When we don't know howmany arguments we will need in our function than we start argument using *"
   ]
  },
  {
   "cell_type": "code",
   "execution_count": 34,
   "metadata": {},
   "outputs": [
    {
     "name": "stdout",
     "output_type": "stream",
     "text": [
      "5 6 7 \n",
      "5 6 \n",
      "1 2 3 4 5 6 7 8 9 \n"
     ]
    }
   ],
   "source": [
    "def func1(*takeargs):\n",
    "    for i in takeargs:\n",
    "        print (i,end=\" \")\n",
    "    print ()\n",
    "\n",
    "func1(5,6,7)\n",
    "func1(5,6)\n",
    "func1(1,2,3,4,5,6,7,8,9)"
   ]
  }
 ],
 "metadata": {
  "kernelspec": {
   "display_name": "Python 3",
   "language": "python",
   "name": "python3"
  },
  "language_info": {
   "codemirror_mode": {
    "name": "ipython",
    "version": 3
   },
   "file_extension": ".py",
   "mimetype": "text/x-python",
   "name": "python",
   "nbconvert_exporter": "python",
   "pygments_lexer": "ipython3",
   "version": "3.7.6"
  }
 },
 "nbformat": 4,
 "nbformat_minor": 4
}
