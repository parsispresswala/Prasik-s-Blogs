{
 "cells": [
  {
   "cell_type": "markdown",
   "metadata": {},
   "source": [
    "### <h3 align=\"center\">Prepared By Parsis Tamakuwala</h3> "
   ]
  },
  {
   "cell_type": "code",
   "execution_count": 1,
   "metadata": {},
   "outputs": [],
   "source": [
    "import calendar\n",
    "#help(calendar)"
   ]
  },
  {
   "cell_type": "code",
   "execution_count": 2,
   "metadata": {},
   "outputs": [],
   "source": [
    "import datetime\n",
    "#help ('time')"
   ]
  },
  {
   "cell_type": "code",
   "execution_count": 3,
   "metadata": {},
   "outputs": [],
   "source": [
    "import time"
   ]
  },
  {
   "cell_type": "markdown",
   "metadata": {},
   "source": [
    "### 1. Write a Python script to display the various Date Time formats"
   ]
  },
  {
   "cell_type": "markdown",
   "metadata": {},
   "source": [
    "A) Current date and time"
   ]
  },
  {
   "cell_type": "code",
   "execution_count": 4,
   "metadata": {},
   "outputs": [
    {
     "name": "stdout",
     "output_type": "stream",
     "text": [
      "Current Date and Time is: 2021-06-30 10:47:35.039367\n",
      "Current Date and Time is: 2021-06-30 10:47:35.039368\n"
     ]
    }
   ],
   "source": [
    "cdate = datetime.datetime.now()\n",
    "cdate1 = datetime.datetime.today()\n",
    "\n",
    "print(\"Current Date and Time is:\",cdate)\n",
    "print(\"Current Date and Time is:\",cdate1)"
   ]
  },
  {
   "cell_type": "markdown",
   "metadata": {},
   "source": [
    "B) Current year"
   ]
  },
  {
   "cell_type": "code",
   "execution_count": 5,
   "metadata": {},
   "outputs": [
    {
     "name": "stdout",
     "output_type": "stream",
     "text": [
      "year: 2021\n"
     ]
    }
   ],
   "source": [
    "cyear = datetime.datetime.today().year\n",
    "print(\"year:\",cyear)"
   ]
  },
  {
   "cell_type": "markdown",
   "metadata": {},
   "source": [
    "C) Calendar of specific Month and year"
   ]
  },
  {
   "cell_type": "code",
   "execution_count": 6,
   "metadata": {},
   "outputs": [
    {
     "name": "stdout",
     "output_type": "stream",
     "text": [
      "     June 2021\n",
      "Mo Tu We Th Fr Sa Su\n",
      "    1  2  3  4  5  6\n",
      " 7  8  9 10 11 12 13\n",
      "14 15 16 17 18 19 20\n",
      "21 22 23 24 25 26 27\n",
      "28 29 30\n",
      "None\n"
     ]
    }
   ],
   "source": [
    "cal = calendar.prmonth(2021,6)\n",
    "print(cal)"
   ]
  },
  {
   "cell_type": "markdown",
   "metadata": {},
   "source": [
    "D) Current Week number of the year"
   ]
  },
  {
   "cell_type": "code",
   "execution_count": 7,
   "metadata": {},
   "outputs": [
    {
     "name": "stdout",
     "output_type": "stream",
     "text": [
      "week number of year: 26\n"
     ]
    }
   ],
   "source": [
    "cweek = datetime.datetime.today().strftime('%W')\n",
    "print(\"week number of year:\",cweek)"
   ]
  },
  {
   "cell_type": "markdown",
   "metadata": {},
   "source": [
    "E) Weekday of the week"
   ]
  },
  {
   "cell_type": "code",
   "execution_count": 8,
   "metadata": {},
   "outputs": [
    {
     "name": "stdout",
     "output_type": "stream",
     "text": [
      "weekday of the week: 3\n"
     ]
    }
   ],
   "source": [
    "weekday = datetime.datetime.today().strftime('%w')\n",
    "print(\"weekday of the week:\",weekday)"
   ]
  },
  {
   "cell_type": "markdown",
   "metadata": {},
   "source": [
    "F) Day of year"
   ]
  },
  {
   "cell_type": "code",
   "execution_count": 9,
   "metadata": {},
   "outputs": [
    {
     "name": "stdout",
     "output_type": "stream",
     "text": [
      "day of year: 181\n"
     ]
    }
   ],
   "source": [
    "yearday = datetime.datetime.today().strftime('%j')\n",
    "print(\"day of year:\",yearday)"
   ]
  },
  {
   "cell_type": "markdown",
   "metadata": {},
   "source": [
    "G) Day of the month"
   ]
  },
  {
   "cell_type": "code",
   "execution_count": 10,
   "metadata": {},
   "outputs": [
    {
     "name": "stdout",
     "output_type": "stream",
     "text": [
      "day of the month: 30\n"
     ]
    }
   ],
   "source": [
    "daymonth = datetime.datetime.today().strftime('%d')\n",
    "print(\"day of the month:\",daymonth)"
   ]
  },
  {
   "cell_type": "markdown",
   "metadata": {},
   "source": [
    "H) Day of week"
   ]
  },
  {
   "cell_type": "code",
   "execution_count": 11,
   "metadata": {},
   "outputs": [
    {
     "name": "stdout",
     "output_type": "stream",
     "text": [
      "day of week: Wednesday\n"
     ]
    }
   ],
   "source": [
    "dayweek = datetime.datetime.today().strftime('%A')\n",
    "print(\"day of week:\",dayweek)"
   ]
  },
  {
   "cell_type": "markdown",
   "metadata": {},
   "source": [
    "### 2. Write a Python program to determine whether a given year is a leap year."
   ]
  },
  {
   "cell_type": "code",
   "execution_count": 12,
   "metadata": {},
   "outputs": [
    {
     "name": "stdout",
     "output_type": "stream",
     "text": [
      "False\n"
     ]
    }
   ],
   "source": [
    "cleap = calendar.isleap(2021)\n",
    "print (cleap)"
   ]
  },
  {
   "cell_type": "markdown",
   "metadata": {},
   "source": [
    "### 3. Write a Python program to convert a string to datetime. \n",
    "Sample String : Jan 1 2014 2:43PM\n",
    "Expected Output : 2014-07-01 14:43:00"
   ]
  },
  {
   "cell_type": "code",
   "execution_count": 13,
   "metadata": {},
   "outputs": [
    {
     "name": "stdout",
     "output_type": "stream",
     "text": [
      "2021-10-04 18:40:00\n"
     ]
    }
   ],
   "source": [
    "date_object = datetime.datetime.strptime('Oct 4 2021 6:40PM', '%b %d %Y %I:%M%p')\n",
    "print(date_object)"
   ]
  },
  {
   "cell_type": "markdown",
   "metadata": {},
   "source": [
    "### 4. Write a Python program to get the current time in Python. \n",
    "Sample Format :  13:19:49.078205"
   ]
  },
  {
   "cell_type": "code",
   "execution_count": 14,
   "metadata": {},
   "outputs": [
    {
     "name": "stdout",
     "output_type": "stream",
     "text": [
      "current time:- 10:47:35\n"
     ]
    }
   ],
   "source": [
    "ctime = datetime.datetime.today().strftime('%T')\n",
    "print(\"current time:-\",ctime)"
   ]
  },
  {
   "cell_type": "markdown",
   "metadata": {},
   "source": [
    "### 5. Write a Python program to subtract five days from current date. \n",
    "Sample Date :\n",
    "Current Date : 2015-06-22\n",
    "5 days before Current Date : 2015-06-17"
   ]
  },
  {
   "cell_type": "code",
   "execution_count": 15,
   "metadata": {},
   "outputs": [
    {
     "name": "stdout",
     "output_type": "stream",
     "text": [
      "Current date is: 2021-06-30\n",
      "5 days before current date is:  2021-06-25\n"
     ]
    }
   ],
   "source": [
    "dt = datetime.date.today() - datetime.timedelta(5)\n",
    "\n",
    "print(\"Current date is:\",datetime.date.today())\n",
    "print(\"5 days before current date is: \",dt)"
   ]
  },
  {
   "cell_type": "markdown",
   "metadata": {},
   "source": [
    "### 6. Write a Python program to convert unix timestamp string to readable date.\n",
    "Sample Unix timestamp string : 1284105682\n",
    "Expected Output : 2010-09-10 13:31:22"
   ]
  },
  {
   "cell_type": "code",
   "execution_count": 16,
   "metadata": {},
   "outputs": [
    {
     "name": "stdout",
     "output_type": "stream",
     "text": [
      "2010-09-10 12:01:22\n"
     ]
    }
   ],
   "source": [
    "timestamptodate = datetime.datetime.fromtimestamp(int(\"1284105682\")).strftime('%Y-%m-%d %H:%M:%S')\n",
    "print(timestamptodate)"
   ]
  },
  {
   "cell_type": "markdown",
   "metadata": {},
   "source": [
    "### 7. Write a Python program to print yesterday, today, tomorrow. "
   ]
  },
  {
   "cell_type": "code",
   "execution_count": 17,
   "metadata": {},
   "outputs": [
    {
     "name": "stdout",
     "output_type": "stream",
     "text": [
      "Yesterday : 2021-06-29\n",
      "Today 2021-06-30\n",
      "Tommorow : 2021-07-01\n"
     ]
    }
   ],
   "source": [
    "yesterday = datetime.date.today() - datetime.timedelta(1)\n",
    "cday = datetime.date.today()\n",
    "tommorowday = datetime.date.today() + datetime.timedelta(1)\n",
    "\n",
    "print(\"Yesterday :\",yesterday)\n",
    "print(\"Today\",cday)\n",
    "print(\"Tommorow :\",tommorowday)"
   ]
  },
  {
   "cell_type": "markdown",
   "metadata": {},
   "source": [
    "### 8. Write a Python program to convert the date to datetime (midnight of the date) in Python. \n",
    "Sample Output : 2015-06-22 00:00:00"
   ]
  },
  {
   "cell_type": "code",
   "execution_count": 18,
   "metadata": {},
   "outputs": [
    {
     "name": "stdout",
     "output_type": "stream",
     "text": [
      "2021-06-30 00:00:00\n"
     ]
    }
   ],
   "source": [
    "dt = datetime.date.today()\n",
    "cdate = datetime.datetime.combine(dt,datetime.datetime.min.time()) \n",
    "print(cdate)"
   ]
  },
  {
   "cell_type": "markdown",
   "metadata": {},
   "source": [
    "### 9. Write a Python program to print next 5 days starting from today. "
   ]
  },
  {
   "cell_type": "code",
   "execution_count": 19,
   "metadata": {},
   "outputs": [
    {
     "name": "stdout",
     "output_type": "stream",
     "text": [
      "2021-06-30\n",
      "2021-07-01\n",
      "2021-07-02\n",
      "2021-07-03\n",
      "2021-07-04\n"
     ]
    }
   ],
   "source": [
    "dt = datetime.date.today()\n",
    "\n",
    "for i in range(0,5):\n",
    "    print(dt + datetime.timedelta(i))"
   ]
  },
  {
   "cell_type": "markdown",
   "metadata": {},
   "source": [
    "### 10. Write a Python program to add 5 seconds with the current time. \n",
    "Sample Data :\n",
    "13:28:32.953088\n",
    "13:28:37.953088"
   ]
  },
  {
   "cell_type": "code",
   "execution_count": 20,
   "metadata": {},
   "outputs": [
    {
     "name": "stdout",
     "output_type": "stream",
     "text": [
      "10:47:35.288136\n",
      "10:47:40.288136\n"
     ]
    }
   ],
   "source": [
    "x = datetime.datetime.now()\n",
    "y = x + datetime.timedelta(0,5)\n",
    "\n",
    "print(x.time())\n",
    "print(y.time())"
   ]
  },
  {
   "cell_type": "markdown",
   "metadata": {},
   "source": [
    "### 11. Write a Python program to convert Year/Month/Day to Day of Year in Python."
   ]
  },
  {
   "cell_type": "code",
   "execution_count": 21,
   "metadata": {},
   "outputs": [
    {
     "name": "stdout",
     "output_type": "stream",
     "text": [
      "181\n"
     ]
    }
   ],
   "source": [
    "today = datetime.datetime.now()\n",
    "day_of_year = (datetime.datetime.now() - datetime.datetime(today.year, 1, 1)).days + 1\n",
    "print(day_of_year)"
   ]
  },
  {
   "cell_type": "markdown",
   "metadata": {},
   "source": [
    "### 12. Write a Python program to get current time in milliseconds in Python"
   ]
  },
  {
   "cell_type": "code",
   "execution_count": 22,
   "metadata": {},
   "outputs": [
    {
     "name": "stdout",
     "output_type": "stream",
     "text": [
      "Millisecond: 318522\n"
     ]
    }
   ],
   "source": [
    "millisec = datetime.datetime.now().microsecond\n",
    "print(\"Millisecond:\",millisec)"
   ]
  },
  {
   "cell_type": "markdown",
   "metadata": {},
   "source": [
    "### 13. Write a Python program to get week number. "
   ]
  },
  {
   "cell_type": "markdown",
   "metadata": {},
   "source": [
    "Sample Date : 2015, 6, 16 Expected Output : 25"
   ]
  },
  {
   "cell_type": "code",
   "execution_count": 23,
   "metadata": {},
   "outputs": [
    {
     "name": "stdout",
     "output_type": "stream",
     "text": [
      "Week Number: 25\n"
     ]
    }
   ],
   "source": [
    "weeknumber = datetime.date(2020, 6, 16).isocalendar()[1]  # isocalendar(year, wk num, wk day)\n",
    "print(\"Week Number:\",weeknumber)"
   ]
  },
  {
   "cell_type": "markdown",
   "metadata": {},
   "source": [
    "### 14. Write a Python program to find the date of the Monday of a given week. "
   ]
  },
  {
   "cell_type": "markdown",
   "metadata": {},
   "source": [
    "Sample Year and week : 2015, 50     Expected Output : Mon Dec 14 00:00:00 2015"
   ]
  },
  {
   "cell_type": "code",
   "execution_count": 24,
   "metadata": {},
   "outputs": [
    {
     "name": "stdout",
     "output_type": "stream",
     "text": [
      "Mon Jun 28 00:00:00 2021\n"
     ]
    }
   ],
   "source": [
    "import time\n",
    "\n",
    "fmdate = time.asctime(time.strptime('2021 26 1', '%Y %W %w'))\n",
    "print(fmdate)"
   ]
  },
  {
   "cell_type": "markdown",
   "metadata": {},
   "source": [
    "### 15. Write a Python program to find all the Sundays of a specified year."
   ]
  },
  {
   "cell_type": "code",
   "execution_count": 25,
   "metadata": {},
   "outputs": [
    {
     "name": "stdout",
     "output_type": "stream",
     "text": [
      "2021-01-03   2021-01-10   2021-01-17   2021-01-24   2021-01-31   2021-02-07   2021-02-14   2021-02-21   2021-02-28   2021-03-07   2021-03-14   2021-03-21   2021-03-28   2021-04-04   2021-04-11   2021-04-18   2021-04-25   2021-05-02   2021-05-09   2021-05-16   2021-05-23   2021-05-30   2021-06-06   2021-06-13   2021-06-20   2021-06-27   2021-07-04   2021-07-11   2021-07-18   2021-07-25   2021-08-01   2021-08-08   2021-08-15   2021-08-22   2021-08-29   2021-09-05   2021-09-12   2021-09-19   2021-09-26   2021-10-03   2021-10-10   2021-10-17   2021-10-24   2021-10-31   2021-11-07   2021-11-14   2021-11-21   2021-11-28   2021-12-05   2021-12-12   2021-12-19   2021-12-26   "
     ]
    }
   ],
   "source": [
    "def all_sundays(year):\n",
    "    # January 1st of the given year\n",
    "    dt = datetime.date(year, 1, 1)\n",
    "    # First Sunday of the given year       \n",
    "    dt += datetime.timedelta(days = 6 - dt.weekday())  \n",
    "    while dt.year == year:\n",
    "        yield dt\n",
    "        dt += datetime.timedelta(days = 7)\n",
    "          \n",
    "for s in all_sundays(2021):\n",
    "    print(s,end=\"   \")"
   ]
  },
  {
   "cell_type": "markdown",
   "metadata": {},
   "source": [
    "### 16. Write a Python program to add year(s) with a given date and display the new date. "
   ]
  },
  {
   "cell_type": "markdown",
   "metadata": {},
   "source": [
    "Sample Data : (addYears is the user defined function name) \n",
    "print(addYears(datetime.date(2015,1,1), -1)) \n",
    "print(addYears(datetime.date(2015,1,1), 0)) \n",
    "print(addYears(datetime.date(2015,1,1), 2)) \n",
    "print(addYears(datetime.date(2000,2,29),1))"
   ]
  },
  {
   "cell_type": "markdown",
   "metadata": {},
   "source": [
    "Expected Output : 2014-01-01 2015-01-01 2017-01-01 2001-03-01"
   ]
  },
  {
   "cell_type": "code",
   "execution_count": 26,
   "metadata": {},
   "outputs": [
    {
     "name": "stdout",
     "output_type": "stream",
     "text": [
      "2019-01-01\n",
      "2020-01-01\n",
      "2022-01-01\n",
      "2021-03-01\n"
     ]
    }
   ],
   "source": [
    "def addYears(dt, years):\n",
    "    try:\n",
    "        #Return same day of the current year        \n",
    "        return dt.replace(year = dt.year + years)\n",
    "    except ValueError:\n",
    "        #If not same day, it will return other, i.e.  February 29 to March 1 etc.        \n",
    "        return dt + (datetime.date(dt.year + years, 1, 1) - datetime.date(dt.year, 1, 1))\n",
    "\n",
    "print(addYears(datetime.date(2020,1,1), -1))\n",
    "print(addYears(datetime.date(2020,1,1), 0))\n",
    "print(addYears(datetime.date(2020,1,1), 2))\n",
    "print(addYears(datetime.date(2020,2,29),1))"
   ]
  },
  {
   "cell_type": "markdown",
   "metadata": {},
   "source": [
    "### 17. Write a Python program to drop microseconds from datetime."
   ]
  },
  {
   "cell_type": "code",
   "execution_count": 27,
   "metadata": {},
   "outputs": [
    {
     "name": "stdout",
     "output_type": "stream",
     "text": [
      "2021-06-30 10:47:35\n"
     ]
    }
   ],
   "source": [
    "dt = datetime.datetime.today().replace(microsecond=0)\n",
    "print(dt)"
   ]
  },
  {
   "cell_type": "markdown",
   "metadata": {},
   "source": [
    "### 18. Write a Python program to get days between two dates. "
   ]
  },
  {
   "cell_type": "markdown",
   "metadata": {},
   "source": [
    "Sample Dates : 2000,2,28, 2001,2,28 Expected Output : 366 days, 0:00:00"
   ]
  },
  {
   "cell_type": "code",
   "execution_count": 28,
   "metadata": {},
   "outputs": [
    {
     "name": "stdout",
     "output_type": "stream",
     "text": [
      "6 days, 0:00:00\n"
     ]
    }
   ],
   "source": [
    "date1 = datetime.date(2021,6,25)\n",
    "date2 = datetime.date(2021,7,1)\n",
    "print(date2 - date1)"
   ]
  },
  {
   "cell_type": "markdown",
   "metadata": {},
   "source": [
    "### 19. Write a Python program to get the date of the last Tuesday."
   ]
  },
  {
   "cell_type": "code",
   "execution_count": 29,
   "metadata": {},
   "outputs": [
    {
     "name": "stdout",
     "output_type": "stream",
     "text": [
      "2021-06-29\n"
     ]
    }
   ],
   "source": [
    "#today_ = datetime.date.today()\n",
    "today_ = datetime.date(2021,7,2)\n",
    "# finds the weekday \n",
    "offset = (today_.weekday() - 1) % 7\n",
    "last_tuesday = today_ - datetime.timedelta(days=offset)\n",
    "print(last_tuesday)"
   ]
  },
  {
   "cell_type": "markdown",
   "metadata": {},
   "source": [
    "### 20. Write a Python program to test the third Tuesday of a month."
   ]
  },
  {
   "cell_type": "code",
   "execution_count": 30,
   "metadata": {},
   "outputs": [
    {
     "name": "stdout",
     "output_type": "stream",
     "text": [
      "False\n",
      "False\n",
      "True\n",
      "False\n"
     ]
    }
   ],
   "source": [
    "def is_third_tuesday(s):\n",
    "    d = datetime.datetime.strptime(s, '%b %d, %Y')\n",
    "    return d.weekday() == 1 and 14 < d.day < 22\n",
    "\n",
    "print(is_third_tuesday('Jul 6, 2021'))\n",
    "print(is_third_tuesday('Jul 13, 2021')) \n",
    "print(is_third_tuesday('Jul 20, 2021')) \n",
    "print(is_third_tuesday('Jul 27, 2021')) "
   ]
  },
  {
   "cell_type": "markdown",
   "metadata": {},
   "source": [
    "### 21. Write a Python program to get the last day of a specified year and month."
   ]
  },
  {
   "cell_type": "code",
   "execution_count": 31,
   "metadata": {},
   "outputs": [
    {
     "name": "stdout",
     "output_type": "stream",
     "text": [
      "29\n"
     ]
    }
   ],
   "source": [
    "year = 2020\n",
    "month = 2\n",
    "print(calendar.monthrange(year, month)[1])"
   ]
  },
  {
   "cell_type": "markdown",
   "metadata": {},
   "source": [
    "### 22. Write a Python program to get the number of days of a given month and year. "
   ]
  },
  {
   "cell_type": "code",
   "execution_count": 32,
   "metadata": {},
   "outputs": [
    {
     "name": "stdout",
     "output_type": "stream",
     "text": [
      "(0, 28)\n"
     ]
    }
   ],
   "source": [
    "year = 2021\n",
    "month = 2\n",
    "print(calendar.monthrange(year, month))"
   ]
  },
  {
   "cell_type": "markdown",
   "metadata": {},
   "source": [
    "### 23. Write a Python program to add a month with a specified date. "
   ]
  },
  {
   "cell_type": "code",
   "execution_count": 33,
   "metadata": {},
   "outputs": [
    {
     "name": "stdout",
     "output_type": "stream",
     "text": [
      "2021-01-25\n"
     ]
    }
   ],
   "source": [
    "start_date = datetime.date(2020, 12, 25)\n",
    "days_in_month = calendar.monthrange(start_date.year, start_date.month)[1]\n",
    "\n",
    "print(start_date + datetime.timedelta(days=days_in_month))"
   ]
  },
  {
   "cell_type": "markdown",
   "metadata": {},
   "source": [
    "### 24. Write a Python program to count the number of Monday as the 1st day of the month from 2021 to 2022. "
   ]
  },
  {
   "cell_type": "code",
   "execution_count": 34,
   "metadata": {},
   "outputs": [
    {
     "name": "stdout",
     "output_type": "stream",
     "text": [
      "3\n"
     ]
    }
   ],
   "source": [
    "monday1 = 0\n",
    "months = range(1,13)\n",
    "\n",
    "for year in range(2021, 2022): \n",
    "    for month in months:\n",
    "        if datetime.datetime(year, month, 1).weekday() == 0:\n",
    "            monday1 += 1\n",
    "print(monday1)"
   ]
  },
  {
   "cell_type": "markdown",
   "metadata": {},
   "source": [
    "### 25. Write a Python program to print a string five times, with the delay of three seconds. "
   ]
  },
  {
   "cell_type": "code",
   "execution_count": 35,
   "metadata": {},
   "outputs": [
    {
     "name": "stdout",
     "output_type": "stream",
     "text": [
      "String: 0\n",
      "String: 1\n",
      "String: 2\n",
      "String: 3\n",
      "String: 4\n"
     ]
    }
   ],
   "source": [
    "import time \n",
    "x=0\n",
    "\n",
    "while x<5:\n",
    "    print(\"String:\",x)\n",
    "    time.sleep(3)\n",
    "    x=x+1"
   ]
  },
  {
   "cell_type": "markdown",
   "metadata": {},
   "source": [
    "### 26. Write a Python program that calculates the date six months from the current date using the datetime module. "
   ]
  },
  {
   "cell_type": "code",
   "execution_count": 36,
   "metadata": {},
   "outputs": [
    {
     "name": "stdout",
     "output_type": "stream",
     "text": [
      "2021-12-29\n"
     ]
    }
   ],
   "source": [
    "nextdate = (datetime.date.today() + datetime.timedelta(6*365/12)).isoformat()\n",
    "print(nextdate)"
   ]
  },
  {
   "cell_type": "markdown",
   "metadata": {},
   "source": [
    "### 27. Write a Python program to create 12 fixed dates from a specified date over a given period. The difference between two dates will be 20. "
   ]
  },
  {
   "cell_type": "code",
   "execution_count": 37,
   "metadata": {},
   "outputs": [
    {
     "name": "stdout",
     "output_type": "stream",
     "text": [
      "Starting Date: 2021-06-01\n",
      "Next days :\n",
      "2021-06-21\n",
      "2021-07-11\n",
      "2021-07-31\n",
      "2021-08-20\n",
      "2021-09-09\n",
      "2021-09-29\n",
      "2021-10-19\n",
      "2021-11-08\n",
      "2021-11-28\n",
      "2021-12-18\n",
      "2022-01-07\n",
      "2022-01-27\n"
     ]
    }
   ],
   "source": [
    "def every_20_days(date):\n",
    "    print('Starting Date: {d}'.format(d=date))\n",
    "    print(\"Next days :\")\n",
    "    for _ in range(12):\n",
    "        date = date + datetime.timedelta(days = 20)\n",
    "        print('{d}'.format(d = date))\n",
    "\n",
    "dt = datetime.date(2021,6,1)\n",
    "every_20_days(dt)"
   ]
  },
  {
   "cell_type": "markdown",
   "metadata": {},
   "source": [
    "### 28. Write a Python program to get the dates 30 days before and after from the current date. "
   ]
  },
  {
   "cell_type": "code",
   "execution_count": 38,
   "metadata": {},
   "outputs": [
    {
     "name": "stdout",
     "output_type": "stream",
     "text": [
      "Current Date:  2021-06-30\n",
      "30 days before current date:  2021-05-31\n",
      "30 days after current date :  2021-07-30\n"
     ]
    }
   ],
   "source": [
    "current_date = datetime.date.today().isoformat()   \n",
    "days_before = (datetime.date.today() - datetime.timedelta(days=30)).isoformat()\n",
    "days_after = (datetime.date.today() + datetime.timedelta(days=30)).isoformat()  \n",
    "\n",
    "print(\"Current Date: \",current_date)\n",
    "print(\"30 days before current date: \",days_before)\n",
    "print(\"30 days after current date : \",days_after)"
   ]
  },
  {
   "cell_type": "markdown",
   "metadata": {},
   "source": [
    "### 29. Write a Python program to get the GMT and local current time. "
   ]
  },
  {
   "cell_type": "code",
   "execution_count": 39,
   "metadata": {},
   "outputs": [
    {
     "name": "stdout",
     "output_type": "stream",
     "text": [
      "GMT:- Wed, 30 Jun 2021 06:47:50 AM Arabian Standard Time\n",
      "Local:- Wed, 30 Jun 2021 10:47:50 AM Arabian Standard Time\n"
     ]
    }
   ],
   "source": [
    "print(\"GMT:-\", time.strftime(\"%a, %d %b %Y %I:%M:%S %p %Z\", time.gmtime()))\n",
    "print(\"Local:-\", time.strftime(\"%a, %d %b %Y %I:%M:%S %p %Z\"))"
   ]
  },
  {
   "cell_type": "markdown",
   "metadata": {},
   "source": [
    "### 30. Write a Python program to convert a date to the timestamp. "
   ]
  },
  {
   "cell_type": "code",
   "execution_count": 40,
   "metadata": {},
   "outputs": [
    {
     "name": "stdout",
     "output_type": "stream",
     "text": [
      "1625035670.0\n"
     ]
    }
   ],
   "source": [
    "now = datetime.datetime.now()\n",
    "now_timestamp = time.mktime(now.timetuple())\n",
    "print(now_timestamp)"
   ]
  },
  {
   "cell_type": "markdown",
   "metadata": {},
   "source": [
    "### 31. Write a Python program to convert a string date to the timestamp. "
   ]
  },
  {
   "cell_type": "code",
   "execution_count": 41,
   "metadata": {},
   "outputs": [
    {
     "name": "stdout",
     "output_type": "stream",
     "text": [
      "1475265600.0\n"
     ]
    }
   ],
   "source": [
    "sdate = \"01/10/2016\"\n",
    "sdate_timestamp = time.mktime(datetime.datetime.strptime(sdate, \"%d/%m/%Y\").timetuple())\n",
    "print(sdate_timestamp)"
   ]
  },
  {
   "cell_type": "markdown",
   "metadata": {},
   "source": [
    "### 32. Write a Python program to display the date and time in a human-friendly string. "
   ]
  },
  {
   "cell_type": "code",
   "execution_count": 42,
   "metadata": {},
   "outputs": [
    {
     "name": "stdout",
     "output_type": "stream",
     "text": [
      "Wed Jun 30 10:47:50 2021\n"
     ]
    }
   ],
   "source": [
    "print(time.ctime())"
   ]
  },
  {
   "cell_type": "markdown",
   "metadata": {},
   "source": [
    "### 33. Write a Python program to convert a date to Unix timestamp."
   ]
  },
  {
   "cell_type": "code",
   "execution_count": 43,
   "metadata": {},
   "outputs": [
    {
     "name": "stdout",
     "output_type": "stream",
     "text": [
      "Unix Timestamp:  1456428180.0\n"
     ]
    }
   ],
   "source": [
    "dt = datetime.datetime(2016, 2, 25, 23, 23)\n",
    "unix_timestamp = time.mktime(dt.timetuple())\n",
    "\n",
    "print(\"Unix Timestamp: \",unix_timestamp)"
   ]
  },
  {
   "cell_type": "markdown",
   "metadata": {},
   "source": [
    "### 34. Write a Python program to calculate two date difference in seconds. "
   ]
  },
  {
   "cell_type": "code",
   "execution_count": 44,
   "metadata": {},
   "outputs": [
    {
     "name": "stdout",
     "output_type": "stream",
     "text": [
      "15587270 seconds\n"
     ]
    }
   ],
   "source": [
    "def date_diff_in_Seconds(dt2, dt1):\n",
    "    timedelta = dt2 - dt1\n",
    "    return timedelta.days * 24 * 3600 + timedelta.seconds\n",
    "\n",
    "#Specified date\n",
    "date1 = datetime.datetime.strptime('2021-01-01 01:00:00', '%Y-%m-%d %H:%M:%S')\n",
    "\n",
    "#Current date\n",
    "date2 = datetime.datetime.now()\n",
    "\n",
    "print(\"%d seconds\" %(date_diff_in_Seconds(date2, date1)))"
   ]
  },
  {
   "cell_type": "markdown",
   "metadata": {},
   "source": [
    "### 35. Write a Python program to convert two date difference in days, hours, minutes, seconds. "
   ]
  },
  {
   "cell_type": "code",
   "execution_count": 45,
   "metadata": {},
   "outputs": [
    {
     "name": "stdout",
     "output_type": "stream",
     "text": [
      "180 days, 9 hours, 47 minutes, 50 seconds\n"
     ]
    }
   ],
   "source": [
    "def date_diff_in_seconds(dt2, dt1):\n",
    "    timedelta = dt2 - dt1\n",
    "    return timedelta.days * 24 * 3600 + timedelta.seconds\n",
    "\n",
    "def dhms_from_seconds(seconds):\n",
    "    minutes, seconds = divmod(seconds, 60)\n",
    "    hours, minutes = divmod(minutes, 60)\n",
    "    days, hours = divmod(hours, 24)\n",
    "    return (days, hours, minutes, seconds)\n",
    "\n",
    "#Specified date\n",
    "date1 = datetime.datetime.strptime('2021-01-01 01:00:00', '%Y-%m-%d %H:%M:%S')\n",
    "\n",
    "#Current date\n",
    "date2 = datetime.datetime.now()\n",
    "\n",
    "print(\"%d days, %d hours, %d minutes, %d seconds\" % dhms_from_seconds(date_diff_in_seconds(date2, date1)))"
   ]
  },
  {
   "cell_type": "markdown",
   "metadata": {},
   "source": [
    "### 36. Write a Python program to get last modified information of a file."
   ]
  },
  {
   "cell_type": "code",
   "execution_count": 46,
   "metadata": {},
   "outputs": [
    {
     "name": "stdout",
     "output_type": "stream",
     "text": [
      "Last modified: Tue Jun 29 21:27:45 2021\n",
      "Created: Thu Apr 15 15:07:11 2021\n"
     ]
    }
   ],
   "source": [
    "import os.path, time\n",
    "\n",
    "print(\"Last modified: %s\" % time.ctime(os.path.getmtime(\"myfile.txt\"))) \n",
    "print(\"Created: %s\" % time.ctime(os.path.getctime(\"myfile.txt\")))"
   ]
  },
  {
   "cell_type": "markdown",
   "metadata": {},
   "source": [
    "### 37. Write a Python program to calculate an age in year."
   ]
  },
  {
   "cell_type": "code",
   "execution_count": 47,
   "metadata": {},
   "outputs": [
    {
     "name": "stdout",
     "output_type": "stream",
     "text": [
      "26 years\n"
     ]
    }
   ],
   "source": [
    "def calculateAge(birthDate): \n",
    "    today = datetime.date.today() \n",
    "    age = today.year - birthDate.year-((today.month, today.day) < (birthDate.month, birthDate.day)) \n",
    "  \n",
    "    return age \n",
    "      \n",
    "\n",
    "print(calculateAge(datetime.date(1994, 10, 4)), \"years\") "
   ]
  },
  {
   "cell_type": "markdown",
   "metadata": {},
   "source": [
    "### 38. Write a Python program to get the current date time information."
   ]
  },
  {
   "cell_type": "code",
   "execution_count": 48,
   "metadata": {},
   "outputs": [
    {
     "name": "stdout",
     "output_type": "stream",
     "text": [
      "Time in seconds since the epoch:: 1625035670.771476\n",
      "\n",
      "Current date and time::  2021-06-30 10:47:50.771476\n",
      "\n",
      "Alternate date and time:  21-06-30-10-47\n",
      "\n",
      "Current year:  2021\n",
      "\n",
      "Month of year:  June\n",
      "\n",
      "Week number of the year:  26\n",
      "\n",
      "Weekday of the week:  3\n",
      "\n",
      "Day of year:  181\n",
      "\n",
      "Day of the month :  30\n",
      "\n",
      "Day of week:  Wednesday\n"
     ]
    }
   ],
   "source": [
    "# Particular instants in time are expressed in seconds since 12:00am, January 1, 1970(epoch)\n",
    "print(\"Time in seconds since the epoch:: %s\" %time.time())\n",
    "\n",
    "# Returns the current date and time\n",
    "print(\"\\nCurrent date and time:: \" , datetime.datetime.now())\n",
    "\n",
    "# Returns the current date and time\n",
    "print(\"\\nAlternate date and time: \" ,datetime.datetime.now().strftime(\"%y-%m-%d-%H-%M\"))\n",
    "\n",
    "# Returns the current year\n",
    "print(\"\\nCurrent year: \", datetime.date.today().strftime(\"%Y\"))\n",
    "\n",
    "# Returns the current month\n",
    "print(\"\\nMonth of year: \", datetime.date.today().strftime(\"%B\"))\n",
    "\n",
    "# Returns the current week of the year\n",
    "print(\"\\nWeek number of the year: \", datetime.date.today().strftime(\"%W\"))\n",
    "\n",
    "# Returns the current weekday\n",
    "print(\"\\nWeekday of the week: \", datetime.date.today().strftime(\"%w\"))\n",
    "\n",
    "# Returns day of the year\n",
    "print(\"\\nDay of year: \", datetime.date.today().strftime(\"%j\"))\n",
    "\n",
    "# Returns day of month\n",
    "print(\"\\nDay of the month : \", datetime.date.today().strftime(\"%d\"))\n",
    "\n",
    "# Returns day of week\n",
    "print(\"\\nDay of week: \", datetime.date.today().strftime(\"%A\"))"
   ]
  },
  {
   "cell_type": "markdown",
   "metadata": {},
   "source": [
    "### 39. Write a python program to generate a date and time as a string."
   ]
  },
  {
   "cell_type": "code",
   "execution_count": 49,
   "metadata": {},
   "outputs": [
    {
     "name": "stdout",
     "output_type": "stream",
     "text": [
      "In string: 2021-06-30 10:47:50 AM\n"
     ]
    }
   ],
   "source": [
    "now = datetime.datetime.now()\n",
    "# Make a note of the date and time in a string\n",
    "# Date and time in string : 2016-11-05 11:24:24 PM\n",
    "\n",
    "datestr = \"In string: \" + now.strftime(\"%Y-%m-%d %H:%M:%S %p\") \n",
    "print(datestr)"
   ]
  },
  {
   "cell_type": "markdown",
   "metadata": {},
   "source": [
    "### 40. Write a Python program to display formatted text output of a month that start week on Sunday."
   ]
  },
  {
   "cell_type": "code",
   "execution_count": 50,
   "metadata": {},
   "outputs": [
    {
     "name": "stdout",
     "output_type": "stream",
     "text": [
      "First Month - 2022\n",
      "     March 2022\n",
      "Su Mo Tu We Th Fr Sa\n",
      "       1  2  3  4  5\n",
      " 6  7  8  9 10 11 12\n",
      "13 14 15 16 17 18 19\n",
      "20 21 22 23 24 25 26\n",
      "27 28 29 30 31\n",
      "None\n"
     ]
    }
   ],
   "source": [
    "cal = calendar.TextCalendar(calendar.SUNDAY) #tells the interpreter to create a text calendar that starts with SUNDAY\n",
    "print('First Month - 2022')\n",
    "print(cal.prmonth(2022, 3))"
   ]
  },
  {
   "cell_type": "markdown",
   "metadata": {},
   "source": [
    "### 41. Write a Python program to print a 3-column calendar for an entire year."
   ]
  },
  {
   "cell_type": "code",
   "execution_count": 51,
   "metadata": {},
   "outputs": [
    {
     "name": "stdout",
     "output_type": "stream",
     "text": [
      "                              2021\n",
      "\n",
      "      January               February               March\n",
      "Mo Tu We Th Fr Sa Su  Mo Tu We Th Fr Sa Su  Mo Tu We Th Fr Sa Su\n",
      "             1  2  3   1  2  3  4  5  6  7   1  2  3  4  5  6  7\n",
      " 4  5  6  7  8  9 10   8  9 10 11 12 13 14   8  9 10 11 12 13 14\n",
      "11 12 13 14 15 16 17  15 16 17 18 19 20 21  15 16 17 18 19 20 21\n",
      "18 19 20 21 22 23 24  22 23 24 25 26 27 28  22 23 24 25 26 27 28\n",
      "25 26 27 28 29 30 31                        29 30 31\n",
      "\n",
      "       April                  May                   June\n",
      "Mo Tu We Th Fr Sa Su  Mo Tu We Th Fr Sa Su  Mo Tu We Th Fr Sa Su\n",
      "          1  2  3  4                  1  2      1  2  3  4  5  6\n",
      " 5  6  7  8  9 10 11   3  4  5  6  7  8  9   7  8  9 10 11 12 13\n",
      "12 13 14 15 16 17 18  10 11 12 13 14 15 16  14 15 16 17 18 19 20\n",
      "19 20 21 22 23 24 25  17 18 19 20 21 22 23  21 22 23 24 25 26 27\n",
      "26 27 28 29 30        24 25 26 27 28 29 30  28 29 30\n",
      "                      31\n",
      "\n",
      "        July                 August              September\n",
      "Mo Tu We Th Fr Sa Su  Mo Tu We Th Fr Sa Su  Mo Tu We Th Fr Sa Su\n",
      "          1  2  3  4                     1         1  2  3  4  5\n",
      " 5  6  7  8  9 10 11   2  3  4  5  6  7  8   6  7  8  9 10 11 12\n",
      "12 13 14 15 16 17 18   9 10 11 12 13 14 15  13 14 15 16 17 18 19\n",
      "19 20 21 22 23 24 25  16 17 18 19 20 21 22  20 21 22 23 24 25 26\n",
      "26 27 28 29 30 31     23 24 25 26 27 28 29  27 28 29 30\n",
      "                      30 31\n",
      "\n",
      "      October               November              December\n",
      "Mo Tu We Th Fr Sa Su  Mo Tu We Th Fr Sa Su  Mo Tu We Th Fr Sa Su\n",
      "             1  2  3   1  2  3  4  5  6  7         1  2  3  4  5\n",
      " 4  5  6  7  8  9 10   8  9 10 11 12 13 14   6  7  8  9 10 11 12\n",
      "11 12 13 14 15 16 17  15 16 17 18 19 20 21  13 14 15 16 17 18 19\n",
      "18 19 20 21 22 23 24  22 23 24 25 26 27 28  20 21 22 23 24 25 26\n",
      "25 26 27 28 29 30 31  29 30                 27 28 29 30 31\n",
      "\n"
     ]
    }
   ],
   "source": [
    "cal = calendar.TextCalendar()\n",
    "# year: 2022, column width: 2, lines per week: 1 \n",
    "# number of spaces between month columns: 1\n",
    "# 3: no. of months per column.\n",
    "print(cal.formatyear(2021, 2, 1, 1, 3))"
   ]
  },
  {
   "cell_type": "markdown",
   "metadata": {},
   "source": [
    "### 42. Write a Python program to display a calendar for a locale. "
   ]
  },
  {
   "cell_type": "code",
   "execution_count": 52,
   "metadata": {},
   "outputs": [
    {
     "name": "stdout",
     "output_type": "stream",
     "text": [
      "     June 2021\n",
      "Mo Tu We Th Fr Sa Su\n",
      "    1  2  3  4  5  6\n",
      " 7  8  9 10 11 12 13\n",
      "14 15 16 17 18 19 20\n",
      "21 22 23 24 25 26 27\n",
      "28 29 30\n",
      "None\n"
     ]
    }
   ],
   "source": [
    "cal = calendar.LocaleTextCalendar(locale='en_AU.utf8')\n",
    "print(cal.prmonth(2021, 6))"
   ]
  },
  {
   "cell_type": "markdown",
   "metadata": {},
   "source": [
    "### 43. Write a Python program to get the current week. "
   ]
  },
  {
   "cell_type": "code",
   "execution_count": 53,
   "metadata": {},
   "outputs": [
    {
     "name": "stdout",
     "output_type": "stream",
     "text": [
      "Year 2021, Week Number 26, Day of the Week 1\n"
     ]
    }
   ],
   "source": [
    "Jan1st = datetime.date(2021,6,28)\n",
    "year,week_num,day_of_week = Jan1st.isocalendar() # DOW = day of week\n",
    "print(\"Year %d, Week Number %d, Day of the Week %d\" %(year,week_num, day_of_week))"
   ]
  },
  {
   "cell_type": "markdown",
   "metadata": {},
   "source": [
    "### 44. Write a Python program to create an HTML calendar with data for a specific year and month. "
   ]
  },
  {
   "cell_type": "code",
   "execution_count": 54,
   "metadata": {},
   "outputs": [
    {
     "name": "stdout",
     "output_type": "stream",
     "text": [
      "<table border=\"0\" cellpadding=\"0\" cellspacing=\"0\" class=\"month\">\n",
      "<tr><th colspan=\"7\" class=\"month\">December 2020</th></tr>\n",
      "<tr><th class=\"mon\">Mon</th><th class=\"tue\">Tue</th><th class=\"wed\">Wed</th><th class=\"thu\">Thu</th><th class=\"fri\">Fri</th><th class=\"sat\">Sat</th><th class=\"sun\">Sun</th></tr>\n",
      "<tr><td class=\"noday\">&nbsp;</td><td class=\"tue\">1</td><td class=\"wed\">2</td><td class=\"thu\">3</td><td class=\"fri\">4</td><td class=\"sat\">5</td><td class=\"sun\">6</td></tr>\n",
      "<tr><td class=\"mon\">7</td><td class=\"tue\">8</td><td class=\"wed\">9</td><td class=\"thu\">10</td><td class=\"fri\">11</td><td class=\"sat\">12</td><td class=\"sun\">13</td></tr>\n",
      "<tr><td class=\"mon\">14</td><td class=\"tue\">15</td><td class=\"wed\">16</td><td class=\"thu\">17</td><td class=\"fri\">18</td><td class=\"sat\">19</td><td class=\"sun\">20</td></tr>\n",
      "<tr><td class=\"mon\">21</td><td class=\"tue\">22</td><td class=\"wed\">23</td><td class=\"thu\">24</td><td class=\"fri\">25</td><td class=\"sat\">26</td><td class=\"sun\">27</td></tr>\n",
      "<tr><td class=\"mon\">28</td><td class=\"tue\">29</td><td class=\"wed\">30</td><td class=\"thu\">31</td><td class=\"noday\">&nbsp;</td><td class=\"noday\">&nbsp;</td><td class=\"noday\">&nbsp;</td></tr>\n",
      "</table>\n",
      "\n"
     ]
    }
   ],
   "source": [
    "htmlcal = calendar.HTMLCalendar(calendar.MONDAY)\n",
    "print(htmlcal.formatmonth(2020, 12))"
   ]
  },
  {
   "cell_type": "markdown",
   "metadata": {},
   "source": [
    "### 45. Write a Python program display a list of the dates for the 2nd Saturday of every month for a given year."
   ]
  },
  {
   "cell_type": "code",
   "execution_count": 55,
   "metadata": {},
   "outputs": [
    {
     "name": "stdout",
     "output_type": "stream",
     "text": [
      "Jan:  9\n",
      "Feb: 13\n",
      "Mar: 13\n",
      "Apr: 10\n",
      "May:  8\n",
      "Jun: 12\n",
      "Jul: 10\n",
      "Aug: 14\n",
      "Sep: 11\n",
      "Oct:  9\n",
      "Nov: 13\n",
      "Dec: 11\n"
     ]
    }
   ],
   "source": [
    "for month in range(1, 13):\n",
    "    cal = calendar.monthcalendar(2021, month)\n",
    "    first_week  = cal[0]\n",
    "    second_week = cal[1]\n",
    "    third_week  = cal[2]\n",
    "    \n",
    "    if first_week[calendar.SATURDAY]:\n",
    "        holi_day = second_week[calendar.SATURDAY]\n",
    "    else:\n",
    "        holi_day = third_week[calendar.SATURDAY]\n",
    "\n",
    "    print('%3s: %2s' % (calendar.month_abbr[month], holi_day))"
   ]
  },
  {
   "cell_type": "markdown",
   "metadata": {},
   "source": [
    "### 46. Write a Python program to display a simple, formatted calendar of a given year and month. "
   ]
  },
  {
   "cell_type": "code",
   "execution_count": 56,
   "metadata": {},
   "outputs": [
    {
     "name": "stdout",
     "output_type": "stream",
     "text": [
      "Print a calendar for a year and month:\n",
      "Month (mm):  6\n",
      "Year (yyyy): 2021\n",
      "\n",
      "\n",
      "|++++++ 06-2021 +++++|\n",
      "|Su Mo Tu We Th Fr Sa|\n",
      "|--------------------|\n",
      "|    1  2  3  4  5  6|\n",
      "| 7  8  9 10 11 12 13|\n",
      "|14 15 16 17 18 19 20|\n",
      "|21 22 23 24 25 26 27|\n",
      "|28 29 30            |\n",
      "|--------------------|\n",
      "\n"
     ]
    }
   ],
   "source": [
    "print('Print a calendar for a year and month:')\n",
    "month = int(input('Month (mm): '))\n",
    "year = int(input('Year (yyyy): '))\n",
    "print('\\n')\n",
    " \n",
    "#calendar.setfirstweekday(calendar.SUNDAY)\n",
    "cal = calendar.monthcalendar(year, month)\n",
    " \n",
    "if len(str(month)) == 1:\n",
    "    month = '0%s' % month\n",
    "\n",
    "# Header\n",
    "print('|++++++ %s-%s +++++|' % (month, year))\n",
    "print('|Su Mo Tu We Th Fr Sa|')\n",
    "print('|--------------------|')\n",
    " \n",
    "# display calendar\n",
    "border = '|'\n",
    "for week in cal:\n",
    "    line = border\n",
    "    for day in week:\n",
    "        if day == 0:\n",
    "      # 3 spaces for blank days       \n",
    "         line += '   ' \n",
    "        elif len(str(day)) == 1:\n",
    "            line += ' %d ' % day\n",
    "        else:\n",
    "            line += '%d ' % day\n",
    "    # remove space in last column\n",
    "    line = line[0:len(line) - 1]  \n",
    "    line += border\n",
    "    print(line)\n",
    "\n",
    "print('|--------------------|\\n')"
   ]
  },
  {
   "cell_type": "markdown",
   "metadata": {},
   "source": [
    "### 47. Write a Python program to convert a string into datetime"
   ]
  },
  {
   "cell_type": "code",
   "execution_count": 57,
   "metadata": {},
   "outputs": [
    {
     "name": "stdout",
     "output_type": "stream",
     "text": [
      "2016-05-12 02:25:00\n"
     ]
    }
   ],
   "source": [
    "date_obj = datetime.datetime.strptime('May 12 2016  2:25AM', '%b %d %Y %I:%M%p')\n",
    "print(date_obj)"
   ]
  },
  {
   "cell_type": "markdown",
   "metadata": {},
   "source": [
    "### 48. Write a Python program to get a list of dates between two dates. "
   ]
  },
  {
   "cell_type": "code",
   "execution_count": 58,
   "metadata": {},
   "outputs": [
    {
     "name": "stdout",
     "output_type": "stream",
     "text": [
      "2021-06-06\n",
      "2021-06-07\n",
      "2021-06-08\n",
      "2021-06-09\n",
      "2021-06-10\n",
      "2021-06-11\n",
      "2021-06-12\n",
      "2021-06-13\n",
      "2021-06-14\n",
      "2021-06-15\n",
      "2021-06-16\n"
     ]
    }
   ],
   "source": [
    "def daterange(date1, date2):\n",
    "    for n in range(int ((date2 - date1).days)+1):\n",
    "        yield date1 + datetime.timedelta(n)\n",
    "\n",
    "start_dt = datetime.date(2021, 6, 6)   # year, month, day\n",
    "end_dt = datetime.date(2021, 6, 16)\n",
    "\n",
    "for dt in daterange(start_dt, end_dt):\n",
    "    print(dt.strftime(\"%Y-%m-%d\"))"
   ]
  },
  {
   "cell_type": "markdown",
   "metadata": {},
   "source": [
    "### 49. Write a Python program to generate RFC 3339 timestamp. "
   ]
  },
  {
   "cell_type": "code",
   "execution_count": 59,
   "metadata": {},
   "outputs": [
    {
     "name": "stdout",
     "output_type": "stream",
     "text": [
      "2021-06-30T10:47:58.724838+04:00\n"
     ]
    }
   ],
   "source": [
    "local_time = datetime.datetime.now(datetime.timezone.utc).astimezone()\n",
    "print(local_time.isoformat())"
   ]
  },
  {
   "cell_type": "markdown",
   "metadata": {},
   "source": [
    "### 50. Write a Python program to get the first and last second."
   ]
  },
  {
   "cell_type": "code",
   "execution_count": 60,
   "metadata": {},
   "outputs": [
    {
     "name": "stdout",
     "output_type": "stream",
     "text": [
      "First Second:  00:00:00\n",
      "Last Second:  23:59:59.999999\n"
     ]
    }
   ],
   "source": [
    "print(\"First Second: \", datetime.time.min)\n",
    "print(\"Last Second: \", datetime.time.max)"
   ]
  }
 ],
 "metadata": {
  "kernelspec": {
   "display_name": "Python 3",
   "language": "python",
   "name": "python3"
  },
  "language_info": {
   "codemirror_mode": {
    "name": "ipython",
    "version": 3
   },
   "file_extension": ".py",
   "mimetype": "text/x-python",
   "name": "python",
   "nbconvert_exporter": "python",
   "pygments_lexer": "ipython3",
   "version": "3.7.6"
  }
 },
 "nbformat": 4,
 "nbformat_minor": 2
}
