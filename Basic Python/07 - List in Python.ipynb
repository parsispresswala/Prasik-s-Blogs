{
 "cells": [
  {
   "cell_type": "markdown",
   "metadata": {},
   "source": [
    "### List Initialization"
   ]
  },
  {
   "cell_type": "code",
   "execution_count": 1,
   "metadata": {},
   "outputs": [
    {
     "name": "stdout",
     "output_type": "stream",
     "text": [
      "[]\n"
     ]
    }
   ],
   "source": [
    "#Create empty list\n",
    "\n",
    "lst = []\n",
    "print (lst)"
   ]
  },
  {
   "cell_type": "code",
   "execution_count": 2,
   "metadata": {},
   "outputs": [
    {
     "name": "stdout",
     "output_type": "stream",
     "text": [
      "[1, 4, 9, 2, 1]\n",
      "['a', 'b', 'c', 'D', 'Parsis']\n",
      "['a', 2, 'c', True, 5, 'name']\n"
     ]
    }
   ],
   "source": [
    "lst1 = [1,4,9,2,1] #Integer\n",
    "lst2 = [\"a\",\"b\",\"c\",\"D\",\"Parsis\"] # String\n",
    "lst3 = [\"a\",2,\"c\",True,5,\"name\"] #hetrogeneous list\n",
    "\n",
    "print (lst1)\n",
    "print (lst2)\n",
    "print (lst3)"
   ]
  },
  {
   "cell_type": "code",
   "execution_count": 3,
   "metadata": {},
   "outputs": [
    {
     "name": "stdout",
     "output_type": "stream",
     "text": [
      "[1, 2, 3.5]\n",
      "['name', [1, 2, 3.5]]\n"
     ]
    }
   ],
   "source": [
    "# list in list\n",
    "\n",
    "a = [1,2,3.5]\n",
    "print (a)\n",
    "\n",
    "b = [\"name\",a]\n",
    "print (b)"
   ]
  },
  {
   "cell_type": "markdown",
   "metadata": {},
   "source": [
    "### Delete a List"
   ]
  },
  {
   "cell_type": "code",
   "execution_count": 4,
   "metadata": {},
   "outputs": [],
   "source": [
    "del b\n",
    "# print (b)"
   ]
  },
  {
   "cell_type": "markdown",
   "metadata": {},
   "source": [
    "### Operations on List"
   ]
  },
  {
   "cell_type": "markdown",
   "metadata": {},
   "source": [
    "#### +  (Concatenation)"
   ]
  },
  {
   "cell_type": "code",
   "execution_count": 5,
   "metadata": {},
   "outputs": [
    {
     "name": "stdout",
     "output_type": "stream",
     "text": [
      "[1, 4, 9, 2, 1, 'a', 2, 'c', True, 5, 'name']\n"
     ]
    }
   ],
   "source": [
    "# Returns a list containing all the elements of the first and the second list.\n",
    "\n",
    "lst1 = [1,4,9,2,1] #Integer\n",
    "lst2 = [\"a\",2,\"c\",True,5,\"name\"] #hetrogeneous list\n",
    "\n",
    "print (lst1 + lst2)"
   ]
  },
  {
   "cell_type": "markdown",
   "metadata": {},
   "source": [
    "#### * (Repetition)"
   ]
  },
  {
   "cell_type": "code",
   "execution_count": 6,
   "metadata": {},
   "outputs": [
    {
     "name": "stdout",
     "output_type": "stream",
     "text": [
      "[1, 2, 1, 2, 1, 2]\n"
     ]
    }
   ],
   "source": [
    "# Concatenates multiple copies of the same list.\n",
    "\n",
    "lst = [1,2]\n",
    "\n",
    "print (lst*3)"
   ]
  },
  {
   "cell_type": "markdown",
   "metadata": {},
   "source": [
    "#### [ ] (slice)"
   ]
  },
  {
   "cell_type": "code",
   "execution_count": 7,
   "metadata": {},
   "outputs": [
    {
     "name": "stdout",
     "output_type": "stream",
     "text": [
      "[1, 2, 3.5]\n",
      "['name', [1, 2, 3.5]]\n",
      "1\n",
      "1\n"
     ]
    }
   ],
   "source": [
    "# Returns the item at the given index. A negative index counts the position from the right side.\n",
    "\n",
    "a = [1,2,3.5]\n",
    "print (a)\n",
    "\n",
    "b = [\"name\",a]\n",
    "print (b)\n",
    "\n",
    "print (a[0])\n",
    "print (b[1][0])"
   ]
  },
  {
   "cell_type": "code",
   "execution_count": 8,
   "metadata": {},
   "outputs": [
    {
     "name": "stdout",
     "output_type": "stream",
     "text": [
      "[1, 'Jeff', 'Computer', 75.5, True]\n",
      "[1, 'Jeff', 'Laptop', 75.5, True]\n"
     ]
    }
   ],
   "source": [
    "orderItem = [1, \"Jeff\", \"Computer\", 75.50, True]\n",
    "print (orderItem)\n",
    "\n",
    "orderItem[2] = \"Laptop\"\n",
    "print (orderItem)"
   ]
  },
  {
   "cell_type": "markdown",
   "metadata": {},
   "source": [
    "#### [:] (Range slice)"
   ]
  },
  {
   "cell_type": "code",
   "execution_count": 9,
   "metadata": {},
   "outputs": [
    {
     "name": "stdout",
     "output_type": "stream",
     "text": [
      "['c', True, 5]\n",
      "['a', 2, 'c', True, 5, 'name']\n",
      "name\n",
      "2\n",
      "['c', True, 5]\n",
      "['name', 5, True, 'c', 2, 'a']\n",
      "['name', True, 2]\n",
      "['a', 'c', 5]\n"
     ]
    }
   ],
   "source": [
    "# Fetches items in the range specified by the two index operands separated by : symbol. \n",
    "# If the first operand is omitted, the range starts from the zero index. \n",
    "# If the second operand is omitted, the range goes up to the end of the list.\n",
    "\n",
    "lst1=[\"a\",2,\"c\",True,5,\"name\"] \n",
    "\n",
    "#Slicing the list\n",
    "print (lst1[2:5])\n",
    "print (lst1[:])\n",
    "print (lst1[-1])\n",
    "print (lst1[1])\n",
    "print (lst1[-4:-1])\n",
    "print (lst1[::-1])\n",
    "print (lst1[::-2])\n",
    "print (lst1[::2])"
   ]
  },
  {
   "cell_type": "markdown",
   "metadata": {},
   "source": [
    "#### in"
   ]
  },
  {
   "cell_type": "code",
   "execution_count": 10,
   "metadata": {},
   "outputs": [
    {
     "name": "stdout",
     "output_type": "stream",
     "text": [
      "True\n"
     ]
    }
   ],
   "source": [
    "# Returns true if an item exists in the given list.\n",
    "\n",
    "lst1=[\"a\",2,\"c\",True,5,\"name\"] \n",
    "print(\"c\" in lst1)"
   ]
  },
  {
   "cell_type": "markdown",
   "metadata": {},
   "source": [
    "#### not in"
   ]
  },
  {
   "cell_type": "code",
   "execution_count": 11,
   "metadata": {},
   "outputs": [
    {
     "name": "stdout",
     "output_type": "stream",
     "text": [
      "False\n"
     ]
    }
   ],
   "source": [
    "# Returns true if an item does not exist in the given list.\n",
    "\n",
    "lst1=[\"a\",2,\"c\",True,5,\"name\"] \n",
    "print(\"name\" not in lst1)"
   ]
  },
  {
   "cell_type": "markdown",
   "metadata": {},
   "source": [
    "### Built-in List Methods"
   ]
  },
  {
   "cell_type": "markdown",
   "metadata": {},
   "source": [
    "#### len()"
   ]
  },
  {
   "cell_type": "code",
   "execution_count": 12,
   "metadata": {},
   "outputs": [
    {
     "name": "stdout",
     "output_type": "stream",
     "text": [
      "6\n"
     ]
    }
   ],
   "source": [
    "# Returns the number of elements in the list/tuple\n",
    "\n",
    "lst1=[\"a\",2,\"c\",True,5,\"name\"] \n",
    "print (len(lst1))"
   ]
  },
  {
   "cell_type": "markdown",
   "metadata": {},
   "source": [
    "#### max()"
   ]
  },
  {
   "cell_type": "code",
   "execution_count": 13,
   "metadata": {},
   "outputs": [
    {
     "name": "stdout",
     "output_type": "stream",
     "text": [
      "9\n",
      "c\n"
     ]
    }
   ],
   "source": [
    "# Returns the largest number, if the list contains numbers. \n",
    "# If the list contains strings, the one that comes last in alphabetical order will be returned.\n",
    "\n",
    "lst1 = [1,4,9,2,1] \n",
    "print (max(lst1)) #Same Type of data type\n",
    "\n",
    "lst1 = [\"A\",\"a\",\"c\"] \n",
    "print (max(lst1))"
   ]
  },
  {
   "cell_type": "markdown",
   "metadata": {},
   "source": [
    "#### min()"
   ]
  },
  {
   "cell_type": "code",
   "execution_count": 14,
   "metadata": {},
   "outputs": [
    {
     "name": "stdout",
     "output_type": "stream",
     "text": [
      "1\n",
      "A\n"
     ]
    }
   ],
   "source": [
    "# Returns the smallest number, if the list contains numbers. \n",
    "# If the list contains strings, the one that comes first in alphabetical order will be returned.\n",
    "\n",
    "lst1 = [1,4,9,2,1] \n",
    "print (min(lst1))\n",
    "\n",
    "lst1 = [\"A\",\"a\",\"c\"] \n",
    "print (min(lst1))"
   ]
  },
  {
   "cell_type": "markdown",
   "metadata": {},
   "source": [
    "#### append()"
   ]
  },
  {
   "cell_type": "code",
   "execution_count": 15,
   "metadata": {},
   "outputs": [
    {
     "name": "stdout",
     "output_type": "stream",
     "text": [
      "['a', 2, 'c', True, 5, 'name']\n",
      "['a', 2, 'c', True, 5, 'name', 'Python']\n"
     ]
    }
   ],
   "source": [
    "# Adds an item at the end of the list.\n",
    "\n",
    "lst1=[\"a\",2,\"c\",True,5,\"name\"] \n",
    "print (lst1)\n",
    "\n",
    "lst1.append(\"Python\") # Append data in the last\n",
    "print (lst1)"
   ]
  },
  {
   "cell_type": "markdown",
   "metadata": {},
   "source": [
    "#### extend()"
   ]
  },
  {
   "cell_type": "code",
   "execution_count": 16,
   "metadata": {},
   "outputs": [
    {
     "name": "stdout",
     "output_type": "stream",
     "text": [
      "Languages List: ['French', 'English', 'Spanish', 'Portuguese']\n"
     ]
    }
   ],
   "source": [
    "lst1 = ['French', 'English']\n",
    "lst2 = ['Spanish', 'Portuguese']\n",
    "\n",
    "# appending language1 elements to language\n",
    "lst1.extend(lst2)\n",
    "\n",
    "print('Languages List:', lst1)\n"
   ]
  },
  {
   "cell_type": "markdown",
   "metadata": {},
   "source": [
    "#### insert()"
   ]
  },
  {
   "cell_type": "code",
   "execution_count": 17,
   "metadata": {},
   "outputs": [
    {
     "name": "stdout",
     "output_type": "stream",
     "text": [
      "['a', 2, 'c', True, 5, 'name']\n",
      "['a', 2, 'c', 4, True, 5, 'name']\n"
     ]
    }
   ],
   "source": [
    "# Inserts an item in a list at the specified index.\n",
    "\n",
    "lst1=[\"a\",2,\"c\",True,5,\"name\"] \n",
    "print (lst1)\n",
    "\n",
    "lst1.insert(3,4) #Insert data in specific position\n",
    "print (lst1)"
   ]
  },
  {
   "cell_type": "markdown",
   "metadata": {},
   "source": [
    "#### remove()"
   ]
  },
  {
   "cell_type": "code",
   "execution_count": 18,
   "metadata": {},
   "outputs": [
    {
     "name": "stdout",
     "output_type": "stream",
     "text": [
      "['a', 2, 'c', True, 5, 'name', 'c']\n",
      "['a', 2, True, 5, 'name', 'c']\n"
     ]
    }
   ],
   "source": [
    "# Removes a specified object from the list.\n",
    "\n",
    "lst1=[\"a\",2,\"c\",True,5,\"name\",\"c\"] \n",
    "print(lst1)\n",
    "\n",
    "lst1.remove(\"c\")\n",
    "print(lst1)"
   ]
  },
  {
   "cell_type": "markdown",
   "metadata": {},
   "source": [
    "#### pop()"
   ]
  },
  {
   "cell_type": "code",
   "execution_count": 19,
   "metadata": {},
   "outputs": [
    {
     "name": "stdout",
     "output_type": "stream",
     "text": [
      "['a', 2, 'c', True, 5, 'name']\n",
      "['a', 2, 'c', True, 5]\n"
     ]
    }
   ],
   "source": [
    "# Removes and returns the last object in the list.\n",
    "\n",
    "lst1=[\"a\",2,\"c\",True,5,\"name\"] \n",
    "print (lst1)\n",
    "\n",
    "lst1.pop() #Removes last element\n",
    "print (lst1)"
   ]
  },
  {
   "cell_type": "markdown",
   "metadata": {},
   "source": [
    "#### reverse()"
   ]
  },
  {
   "cell_type": "code",
   "execution_count": 20,
   "metadata": {},
   "outputs": [
    {
     "name": "stdout",
     "output_type": "stream",
     "text": [
      "['a', 2, 'c', True, 5, 'name']\n",
      "['name', 5, True, 'c', 2, 'a']\n"
     ]
    }
   ],
   "source": [
    "# Reverses the order of the items in a list.\n",
    "\n",
    "lst1=[\"a\",2,\"c\",True,5,\"name\"] \n",
    "print (lst1)\n",
    "\n",
    "lst1.reverse() \n",
    "print (lst1)"
   ]
  },
  {
   "cell_type": "markdown",
   "metadata": {},
   "source": [
    "#### sort()"
   ]
  },
  {
   "cell_type": "code",
   "execution_count": 21,
   "metadata": {},
   "outputs": [
    {
     "name": "stdout",
     "output_type": "stream",
     "text": [
      "list:  [10, 5, 3, 1, 4, 12]\n",
      "[1, 3, 4, 5, 10, 12]\n",
      "[12, 10, 5, 4, 3, 1]\n"
     ]
    }
   ],
   "source": [
    "# Rearranges the items in the list according to the alphabetical order. Default is the ascending order. \n",
    "# For descending order, put reverse=True as an argument in the function bracket.\n",
    "\n",
    "lst1=[10,5,3,1,4,12]\n",
    "print(\"list: \",lst1)\n",
    "\n",
    "lst1.sort()\n",
    "print(lst1)\n",
    "\n",
    "lst1.sort(reverse=True)\n",
    "print(lst1)"
   ]
  },
  {
   "cell_type": "code",
   "execution_count": 22,
   "metadata": {},
   "outputs": [
    {
     "name": "stdout",
     "output_type": "stream",
     "text": [
      "[1, 7, [7, 16, 32], 8, 2]\n"
     ]
    }
   ],
   "source": [
    "#List of list\n",
    "\n",
    "lst1=[1,7,[7,32,16],8,2]\n",
    "\n",
    "#Sorting works with same kind of data list\n",
    "\n",
    "lst1[2].sort() \n",
    "print(lst1)"
   ]
  },
  {
   "cell_type": "markdown",
   "metadata": {},
   "source": [
    "#### list()"
   ]
  },
  {
   "cell_type": "code",
   "execution_count": 23,
   "metadata": {},
   "outputs": [
    {
     "name": "stdout",
     "output_type": "stream",
     "text": [
      "['P', 'y', 't', 'h', 'o', 'n']\n"
     ]
    }
   ],
   "source": [
    "# Converts a tuple or string to a list object.\n",
    "str1=\"Python\"\n",
    "print(list(str1))"
   ]
  },
  {
   "cell_type": "code",
   "execution_count": 24,
   "metadata": {},
   "outputs": [
    {
     "name": "stdout",
     "output_type": "stream",
     "text": [
      "('a', 'b', 'c') <class 'tuple'>\n",
      "['a', 'b', 'c'] <class 'list'>\n"
     ]
    }
   ],
   "source": [
    "tuple1 = (\"a\",\"b\",\"c\")\n",
    "print (tuple1, type(tuple1))\n",
    "\n",
    "lst1 = list(tuple1)\n",
    "print (lst1, type(lst1))"
   ]
  },
  {
   "cell_type": "markdown",
   "metadata": {},
   "source": [
    "#### tuple()"
   ]
  },
  {
   "cell_type": "code",
   "execution_count": 25,
   "metadata": {},
   "outputs": [
    {
     "name": "stdout",
     "output_type": "stream",
     "text": [
      "('a', 'b', 'c') <class 'tuple'>\n"
     ]
    }
   ],
   "source": [
    "# Converts a list or string to a tuple object.\n",
    "lst1 = ['a', 'b', 'c']\n",
    "tup1 = tuple(lst1)\n",
    "print (tup1, type(tup1))"
   ]
  },
  {
   "cell_type": "code",
   "execution_count": 26,
   "metadata": {},
   "outputs": [
    {
     "name": "stdout",
     "output_type": "stream",
     "text": [
      "('P', 'y', 't', 'h', 'o', 'n')\n"
     ]
    }
   ],
   "source": [
    "str1=\"Python\"\n",
    "print(tuple(str1))"
   ]
  },
  {
   "cell_type": "markdown",
   "metadata": {},
   "source": [
    "### List Comprehensions"
   ]
  },
  {
   "cell_type": "code",
   "execution_count": 27,
   "metadata": {},
   "outputs": [
    {
     "name": "stdout",
     "output_type": "stream",
     "text": [
      "[0, 4, 16, 36, 64]\n"
     ]
    }
   ],
   "source": [
    "# Squares of even numbers:\n",
    "\n",
    "squares_of_even = [n*n for n in range(10) if (n%2==0)]\n",
    "print (squares_of_even)"
   ]
  },
  {
   "cell_type": "code",
   "execution_count": 28,
   "metadata": {},
   "outputs": [
    {
     "name": "stdout",
     "output_type": "stream",
     "text": [
      "[0, 4, 16, 36, 64]\n"
     ]
    }
   ],
   "source": [
    "#In Normal way:\n",
    "\n",
    "squares_of_even=[]\n",
    "\n",
    "for n in range(10):\n",
    "    if n%2==0:\n",
    "        squares_of_even.append(n*n)\n",
    "\n",
    "print(squares_of_even)"
   ]
  },
  {
   "cell_type": "code",
   "execution_count": null,
   "metadata": {},
   "outputs": [],
   "source": []
  }
 ],
 "metadata": {
  "kernelspec": {
   "display_name": "Python 3",
   "language": "python",
   "name": "python3"
  },
  "language_info": {
   "codemirror_mode": {
    "name": "ipython",
    "version": 3
   },
   "file_extension": ".py",
   "mimetype": "text/x-python",
   "name": "python",
   "nbconvert_exporter": "python",
   "pygments_lexer": "ipython3",
   "version": "3.7.6"
  }
 },
 "nbformat": 4,
 "nbformat_minor": 4
}
