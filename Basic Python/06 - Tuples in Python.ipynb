{
 "cells": [
  {
   "cell_type": "markdown",
   "metadata": {},
   "source": [
    "### <h3 align=\"center\">Prepared By Parsis Tamakuwala</h3> "
   ]
  },
  {
   "cell_type": "markdown",
   "metadata": {},
   "source": [
    "### Tuple Initialization"
   ]
  },
  {
   "cell_type": "code",
   "execution_count": 1,
   "metadata": {},
   "outputs": [],
   "source": [
    "tup1 = ()\n",
    "print (tup1, type(tup1))"
   ]
  },
  {
   "cell_type": "code",
   "execution_count": 2,
   "metadata": {},
   "outputs": [],
   "source": [
    "tup1 = (5,6,\"a\")\n",
    "print (tup1, type(tup1))"
   ]
  },
  {
   "cell_type": "code",
   "execution_count": 3,
   "metadata": {},
   "outputs": [],
   "source": [
    "# Create tuple with single element\n",
    "\n",
    "tup1=56,\n",
    "print (tup1, type(tup1))\n",
    "\n",
    "tup1 = (56,)\n",
    "print (tup1, type(tup1))"
   ]
  },
  {
   "cell_type": "code",
   "execution_count": 4,
   "metadata": {},
   "outputs": [],
   "source": [
    "tup2 =12,16,15,18\n",
    "print (tup2, type(tup2))"
   ]
  },
  {
   "cell_type": "markdown",
   "metadata": {},
   "source": [
    "#### Nested tuple"
   ]
  },
  {
   "cell_type": "code",
   "execution_count": 5,
   "metadata": {},
   "outputs": [
    {
     "name": "stdout",
     "output_type": "stream",
     "text": [
      "((1, 2, 3), (4, (5, 6))) <class 'tuple'>\n",
      "4\n"
     ]
    }
   ],
   "source": [
    "tup1 = ((1,2,3),(4,(5,6)))\n",
    "\n",
    "print (tup1, type(tup1))\n",
    "print (tup1[1][0])"
   ]
  },
  {
   "cell_type": "markdown",
   "metadata": {},
   "source": [
    "#### List inside tuple"
   ]
  },
  {
   "cell_type": "code",
   "execution_count": 6,
   "metadata": {},
   "outputs": [
    {
     "name": "stdout",
     "output_type": "stream",
     "text": [
      "([1, 2, 3], (4, [5, 6])) <class 'tuple'>\n",
      "[1, 2, 3] <class 'list'>\n"
     ]
    }
   ],
   "source": [
    "tup1 = ([1,2,3],(4,[5,6]))\n",
    "\n",
    "print (tup1, type(tup1))\n",
    "print (tup1[0], type(tup1[0]))"
   ]
  },
  {
   "cell_type": "code",
   "execution_count": 7,
   "metadata": {},
   "outputs": [
    {
     "name": "stdout",
     "output_type": "stream",
     "text": [
      "([5, 2, 3], (4, [5, 6])) <class 'tuple'>\n"
     ]
    }
   ],
   "source": [
    "tup1[0][0] = 5\n",
    "print (tup1, type(tup1))"
   ]
  },
  {
   "cell_type": "code",
   "execution_count": 8,
   "metadata": {},
   "outputs": [
    {
     "name": "stdout",
     "output_type": "stream",
     "text": [
      "([5, 2, 3, 4], (4, [5, 6])) <class 'tuple'>\n"
     ]
    }
   ],
   "source": [
    "tup1[0].insert(3,4)\n",
    "print (tup1, type(tup1))"
   ]
  },
  {
   "cell_type": "markdown",
   "metadata": {},
   "source": [
    "#### Tuple inside List"
   ]
  },
  {
   "cell_type": "code",
   "execution_count": 9,
   "metadata": {},
   "outputs": [
    {
     "name": "stdout",
     "output_type": "stream",
     "text": [
      "[(1, 2, 3), (4, [5, 6])] <class 'list'>\n",
      "(1, 2, 3) <class 'tuple'>\n"
     ]
    }
   ],
   "source": [
    "lst1 = [(1,2,3),(4,[5,6])]\n",
    "\n",
    "print (lst1, type(lst1))\n",
    "print (lst1[0], type(lst1[0]))"
   ]
  },
  {
   "cell_type": "markdown",
   "metadata": {},
   "source": [
    "### Unpacking the tuple"
   ]
  },
  {
   "cell_type": "code",
   "execution_count": 10,
   "metadata": {},
   "outputs": [
    {
     "name": "stdout",
     "output_type": "stream",
     "text": [
      "(90, 99, 80, 85) <class 'tuple'>\n",
      "90\n"
     ]
    }
   ],
   "source": [
    "percentage = (90, 99, 80, 85)\n",
    "print (percentage, type(percentage))\n",
    "\n",
    "a, b, c, d = percentage\n",
    "print (a)"
   ]
  },
  {
   "cell_type": "code",
   "execution_count": 11,
   "metadata": {},
   "outputs": [
    {
     "name": "stdout",
     "output_type": "stream",
     "text": [
      "animal: dog    fruits: ['apple', 'mango', 'orange']\n"
     ]
    }
   ],
   "source": [
    "# Unpacking of animals and fruits\n",
    "\n",
    "tup = (\"dog\",\"apple\",\"mango\",\"orange\")  # * says remaing should assign to another variable\n",
    "animal,*fruits = tup\n",
    "\n",
    "print (\"animal:\",animal,\"   fruits:\", fruits)"
   ]
  },
  {
   "cell_type": "code",
   "execution_count": 12,
   "metadata": {},
   "outputs": [
    {
     "name": "stdout",
     "output_type": "stream",
     "text": [
      "animal: dog    fruits: ['apple', 'mango']    c: orange\n"
     ]
    }
   ],
   "source": [
    "animal,*fruits, c = tup\n",
    "\n",
    "print (\"animal:\",animal,\"   fruits:\", fruits, \"   c:\",c)"
   ]
  },
  {
   "cell_type": "code",
   "execution_count": 13,
   "metadata": {},
   "outputs": [
    {
     "name": "stdout",
     "output_type": "stream",
     "text": [
      "animal: ['dog', 'apple']    fruits: mango    c: orange\n"
     ]
    }
   ],
   "source": [
    "*animal, fruits, c = tup\n",
    "\n",
    "print (\"animal:\",animal,\"   fruits:\", fruits, \"   c:\",c)"
   ]
  },
  {
   "cell_type": "markdown",
   "metadata": {},
   "source": [
    "### Delete a tuple"
   ]
  },
  {
   "cell_type": "code",
   "execution_count": 14,
   "metadata": {},
   "outputs": [],
   "source": [
    "del tup2"
   ]
  },
  {
   "cell_type": "markdown",
   "metadata": {},
   "source": [
    "### Operations on Tuples"
   ]
  },
  {
   "cell_type": "markdown",
   "metadata": {},
   "source": [
    "#### + (Concatenation)"
   ]
  },
  {
   "cell_type": "code",
   "execution_count": 15,
   "metadata": {},
   "outputs": [
    {
     "name": "stdout",
     "output_type": "stream",
     "text": [
      "(1, 4, 'a', 2, 'c', True)\n"
     ]
    }
   ],
   "source": [
    "# Returns a tuple containing all the elements of the first and the second tuple.\n",
    "\n",
    "tup1 = (1,4) #Integer\n",
    "tup2 = (\"a\",2,\"c\",True) #hetrogeneous tuple\n",
    "\n",
    "print (tup1 + tup2)"
   ]
  },
  {
   "cell_type": "markdown",
   "metadata": {},
   "source": [
    "#### * (Repetition)"
   ]
  },
  {
   "cell_type": "code",
   "execution_count": 16,
   "metadata": {},
   "outputs": [
    {
     "name": "stdout",
     "output_type": "stream",
     "text": [
      "Hi Hi Hi \n"
     ]
    }
   ],
   "source": [
    "# Concatenates multiple copies of the same tuple\n",
    "\n",
    "tup1 = (\"Hi \")\n",
    "print (tup1*3)"
   ]
  },
  {
   "cell_type": "markdown",
   "metadata": {},
   "source": [
    "#### [] (slice)"
   ]
  },
  {
   "cell_type": "code",
   "execution_count": 17,
   "metadata": {},
   "outputs": [
    {
     "name": "stdout",
     "output_type": "stream",
     "text": [
      "4\n",
      "5\n"
     ]
    }
   ],
   "source": [
    "# Returns the item at the given index. A negative index counts the position from the right side.\n",
    "\n",
    "t1 = (1,2,3,4,5,6)\n",
    "print (t1[3])\n",
    "print (t1[-2])"
   ]
  },
  {
   "cell_type": "markdown",
   "metadata": {},
   "source": [
    "#### [:] (Range slice)"
   ]
  },
  {
   "cell_type": "code",
   "execution_count": 18,
   "metadata": {},
   "outputs": [
    {
     "name": "stdout",
     "output_type": "stream",
     "text": [
      "(2, 3)\n",
      "(4, 5, 6)\n",
      "(1, 2, 3)\n"
     ]
    }
   ],
   "source": [
    "# Fetches the items in the range specified by two index operands separated by the : symbol. \n",
    "# If the first operand is omitted, the range starts at zero index. \n",
    "# If the second operand is omitted, the range goes up to the end of tuple.\n",
    "\n",
    "t1=(1,2,3,4,5,6) \n",
    "print (t1[1:3])\n",
    "print (t1[3:])\n",
    "print (t1[:3])"
   ]
  },
  {
   "cell_type": "markdown",
   "metadata": {},
   "source": [
    "#### in"
   ]
  },
  {
   "cell_type": "code",
   "execution_count": 19,
   "metadata": {},
   "outputs": [
    {
     "name": "stdout",
     "output_type": "stream",
     "text": [
      "True\n",
      "False\n"
     ]
    }
   ],
   "source": [
    "# Returns true if an item exists in the given tuple.\n",
    "\n",
    "t1 = (1,2,3,4,5,6)\n",
    "\n",
    "print (5 in t1)\n",
    "print (10 in t1)"
   ]
  },
  {
   "cell_type": "markdown",
   "metadata": {},
   "source": [
    "#### not in"
   ]
  },
  {
   "cell_type": "code",
   "execution_count": 20,
   "metadata": {},
   "outputs": [
    {
     "name": "stdout",
     "output_type": "stream",
     "text": [
      "False\n",
      "True\n"
     ]
    }
   ],
   "source": [
    "# Returns true if an item does not exist in the given tuple.\n",
    "\n",
    "t1=(1,2,3,4,5,6)\n",
    "\n",
    "print (4 not in t1)\n",
    "print (10 not in t1)"
   ]
  },
  {
   "cell_type": "markdown",
   "metadata": {},
   "source": [
    "### Built-in Tuple Methods"
   ]
  },
  {
   "cell_type": "markdown",
   "metadata": {},
   "source": [
    "#### len()"
   ]
  },
  {
   "cell_type": "code",
   "execution_count": 21,
   "metadata": {},
   "outputs": [
    {
     "name": "stdout",
     "output_type": "stream",
     "text": [
      "6\n"
     ]
    }
   ],
   "source": [
    "# Returns the number of elements in the list/tuple\n",
    "\n",
    "tup1 = (\"a\",2,\"c\",True,5,\"name\")\n",
    "print (len(tup1))"
   ]
  },
  {
   "cell_type": "markdown",
   "metadata": {},
   "source": [
    "#### max()"
   ]
  },
  {
   "cell_type": "code",
   "execution_count": 22,
   "metadata": {},
   "outputs": [
    {
     "name": "stdout",
     "output_type": "stream",
     "text": [
      "9\n",
      "c\n"
     ]
    }
   ],
   "source": [
    "# Returns the largest number, if the list contains numbers. \n",
    "# If the list contains strings, the one that comes last in alphabetical order will be returned.\n",
    "\n",
    "tup1 = [1,4,9,2,1] \n",
    "print (max(tup1)) #Same Type of data type\n",
    "\n",
    "tup1 = [\"A\",\"a\",\"c\"] \n",
    "print (max(tup1))"
   ]
  },
  {
   "cell_type": "markdown",
   "metadata": {},
   "source": [
    "#### min()"
   ]
  },
  {
   "cell_type": "code",
   "execution_count": 23,
   "metadata": {},
   "outputs": [
    {
     "name": "stdout",
     "output_type": "stream",
     "text": [
      "1\n",
      "A\n"
     ]
    }
   ],
   "source": [
    "# Returns the smallest number, if the list contains numbers. \n",
    "# If the list contains strings, the one that comes first in alphabetical order will be returned.\n",
    "\n",
    "tup1 = [1,4,9,2,1] \n",
    "print (min(tup1))\n",
    "\n",
    "tup1 = [\"A\",\"a\",\"c\"] \n",
    "print (min(tup1))"
   ]
  },
  {
   "cell_type": "markdown",
   "metadata": {},
   "source": [
    "#### sum()"
   ]
  },
  {
   "cell_type": "code",
   "execution_count": 24,
   "metadata": {},
   "outputs": [
    {
     "name": "stdout",
     "output_type": "stream",
     "text": [
      "21\n"
     ]
    }
   ],
   "source": [
    "t1 = (1,2,3,4,5,6)  # Same type of data type\n",
    "print (sum(t1))"
   ]
  },
  {
   "cell_type": "code",
   "execution_count": null,
   "metadata": {},
   "outputs": [],
   "source": []
  }
 ],
 "metadata": {
  "kernelspec": {
   "display_name": "Python 3",
   "language": "python",
   "name": "python3"
  },
  "language_info": {
   "codemirror_mode": {
    "name": "ipython",
    "version": 3
   },
   "file_extension": ".py",
   "mimetype": "text/x-python",
   "name": "python",
   "nbconvert_exporter": "python",
   "pygments_lexer": "ipython3",
   "version": "3.7.6"
  }
 },
 "nbformat": 4,
 "nbformat_minor": 4
}
