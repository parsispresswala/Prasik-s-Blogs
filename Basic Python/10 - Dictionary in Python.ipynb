{
 "cells": [
  {
   "cell_type": "markdown",
   "metadata": {},
   "source": [
    "### <h3 align=\"center\">Prepared By Parsis Tamakuwala</h3> "
   ]
  },
  {
   "cell_type": "markdown",
   "metadata": {},
   "source": [
    "### Dictionary Declaration"
   ]
  },
  {
   "cell_type": "code",
   "execution_count": 1,
   "metadata": {},
   "outputs": [
    {
     "name": "stdout",
     "output_type": "stream",
     "text": [
      "{'USA': 'Washington, D.C.', 'France': 'Paris', 'India': 'New Delhi'}\n"
     ]
    }
   ],
   "source": [
    "# string as a key\n",
    "\n",
    "capitals = {\n",
    "    \"USA\":\"Washington, D.C.\", \n",
    "    \"France\":\"Paris\", \n",
    "    \"India\":\"New Delhi\"\n",
    "}  \n",
    "\n",
    "print (capitals)"
   ]
  },
  {
   "cell_type": "markdown",
   "metadata": {},
   "source": [
    "#### The following definitions of dictionary are also valid:"
   ]
  },
  {
   "cell_type": "code",
   "execution_count": 2,
   "metadata": {},
   "outputs": [
    {
     "name": "stdout",
     "output_type": "stream",
     "text": [
      "{1: 'One', 2: 'Two', 3: 'Three'}\n"
     ]
    }
   ],
   "source": [
    "# numbers as a key\n",
    "\n",
    "num = {\n",
    "    1 : \"One\",\n",
    "    2 : \"Two\", \n",
    "    3 : \"Three\"\n",
    "}   \n",
    "print (num)"
   ]
  },
  {
   "cell_type": "code",
   "execution_count": 3,
   "metadata": {},
   "outputs": [
    {
     "name": "stdout",
     "output_type": "stream",
     "text": [
      "{('Parker', 'Reynolds', 'Camlin'): 'pen', ('LG', 'Whirlpool', 'Samsung'): 'Refrigerator'}\n"
     ]
    }
   ],
   "source": [
    "# tuples as a key\n",
    "\n",
    "items = {\n",
    "    (\"Parker\",\"Reynolds\",\"Camlin\"):\"pen\",\n",
    "    (\"LG\",\"Whirlpool\",\"Samsung\"): \"Refrigerator\"\n",
    "}  \n",
    "\n",
    "print (items)"
   ]
  },
  {
   "cell_type": "code",
   "execution_count": 4,
   "metadata": {},
   "outputs": [
    {
     "ename": "TypeError",
     "evalue": "unhashable type: 'list'",
     "output_type": "error",
     "traceback": [
      "\u001b[1;31m---------------------------------------------------------------------------\u001b[0m",
      "\u001b[1;31mTypeError\u001b[0m                                 Traceback (most recent call last)",
      "\u001b[1;32m<ipython-input-4-cd873c1d8476>\u001b[0m in \u001b[0;36m<module>\u001b[1;34m\u001b[0m\n\u001b[0;32m      3\u001b[0m dict = {\n\u001b[0;32m      4\u001b[0m     \u001b[1;33m[\u001b[0m\u001b[1;34m\"Mango\"\u001b[0m\u001b[1;33m,\u001b[0m\u001b[1;34m\"Banana\"\u001b[0m\u001b[1;33m]\u001b[0m\u001b[1;33m:\u001b[0m\u001b[1;34m\"Fruit\"\u001b[0m\u001b[1;33m,\u001b[0m\u001b[1;33m\u001b[0m\u001b[1;33m\u001b[0m\u001b[0m\n\u001b[1;32m----> 5\u001b[1;33m     \u001b[1;33m[\u001b[0m\u001b[1;34m\"Blue\"\u001b[0m\u001b[1;33m,\u001b[0m \u001b[1;34m\"Red\"\u001b[0m\u001b[1;33m]\u001b[0m\u001b[1;33m:\u001b[0m\u001b[1;34m\"Colour\"\u001b[0m\u001b[1;33m\u001b[0m\u001b[1;33m\u001b[0m\u001b[0m\n\u001b[0m\u001b[0;32m      6\u001b[0m }\n\u001b[0;32m      7\u001b[0m \u001b[1;33m\u001b[0m\u001b[0m\n",
      "\u001b[1;31mTypeError\u001b[0m: unhashable type: 'list'"
     ]
    }
   ],
   "source": [
    "# list as a key can not define as lists are mutable.\n",
    "\n",
    "dict = {\n",
    "    [\"Mango\",\"Banana\"]:\"Fruit\", \n",
    "    [\"Blue\", \"Red\"]:\"Colour\"\n",
    "}\n",
    "\n",
    "print (dict)"
   ]
  },
  {
   "cell_type": "code",
   "execution_count": 5,
   "metadata": {},
   "outputs": [
    {
     "name": "stdout",
     "output_type": "stream",
     "text": [
      "{'Fruit': ['Mango', 'Banana'], 'Colour': ['Blue', 'Red']}\n"
     ]
    }
   ],
   "source": [
    "# list can be used as a value\n",
    "\n",
    "dict = {\n",
    "    \"Fruit\":[\"Mango\",\"Banana\"], \n",
    "    \"Colour\":[\"Blue\", \"Red\"]\n",
    "}\n",
    "\n",
    "print (dict)"
   ]
  },
  {
   "cell_type": "code",
   "execution_count": 6,
   "metadata": {},
   "outputs": [
    {
     "name": "stdout",
     "output_type": "stream",
     "text": [
      "{'Krishna': 'Officer', 'Steve': 'Manager', 'John': 'Manager', 'Anil': 'Clerk'}\n"
     ]
    }
   ],
   "source": [
    "# The same key cannot appear more than once in a collection. \n",
    "# If the key appears more than once, only the last will be retained. The value can be of any data type. \n",
    "# One value can be assigned to more than one key.\n",
    "\n",
    "staff = {\n",
    "    \"Krishna\":\"Officer\", \n",
    "    \"Steve\":\"Manager\", \n",
    "    \"John\":\"officer\", \n",
    "    \"Anil\":\"Clerk\", \n",
    "    \"John\":\"Manager\"\n",
    "}\n",
    "\n",
    "print (staff)"
   ]
  },
  {
   "cell_type": "markdown",
   "metadata": {},
   "source": [
    "### Accessing a Dictionary"
   ]
  },
  {
   "cell_type": "code",
   "execution_count": 7,
   "metadata": {},
   "outputs": [
    {
     "name": "stdout",
     "output_type": "stream",
     "text": [
      "New Delhi\n"
     ]
    }
   ],
   "source": [
    "capitals={\n",
    "    \"USA\":\"New York\", \n",
    "    \"France\":\"Paris\", \n",
    "    \"Japan\":\"Tokyo\", \n",
    "    \"India\":\"New Delhi\"\n",
    "}\n",
    "\n",
    "print (capitals.get(\"India\"))"
   ]
  },
  {
   "cell_type": "code",
   "execution_count": 8,
   "metadata": {},
   "outputs": [
    {
     "name": "stdout",
     "output_type": "stream",
     "text": [
      "(20, 20)\n"
     ]
    }
   ],
   "source": [
    "points = {\n",
    "    \"p1\":(10,10),\n",
    "    \"p2\":(20,20)\n",
    "}\n",
    "\n",
    "print (points.get(\"p2\"))"
   ]
  },
  {
   "cell_type": "markdown",
   "metadata": {},
   "source": [
    "### Updating Dictionary"
   ]
  },
  {
   "cell_type": "code",
   "execution_count": 9,
   "metadata": {},
   "outputs": [
    {
     "name": "stdout",
     "output_type": "stream",
     "text": [
      "{'England': 'Root', 'Australia': 'Paine', 'India': 'Virat'}\n"
     ]
    }
   ],
   "source": [
    "# The key cannot appear more than once. Use the same key and assign a new value to it to update the dictionary object.\n",
    "\n",
    "captains={\n",
    "    \"England\":\"Root\", \n",
    "    \"Australia\":\"Smith\", \n",
    "    \"India\":\"Dhoni\"\n",
    "}\n",
    "\n",
    "captains['India']='Virat'\n",
    "captains['Australia']='Paine'\n",
    "\n",
    "print (captains)"
   ]
  },
  {
   "cell_type": "code",
   "execution_count": 10,
   "metadata": {},
   "outputs": [
    {
     "name": "stdout",
     "output_type": "stream",
     "text": [
      "{'England': 'Root', 'Australia': 'Paine', 'India': 'Virat', 'South Africa': 'Plessis'}\n"
     ]
    }
   ],
   "source": [
    "# Use a new key and assign a value to it. The dictionary will show an additional key-value pair in it.\n",
    "\n",
    "captains['South Africa']='Plessis'\n",
    "print (captains)"
   ]
  },
  {
   "cell_type": "markdown",
   "metadata": {},
   "source": [
    "### Deleting Values from a Dictionary"
   ]
  },
  {
   "cell_type": "code",
   "execution_count": 11,
   "metadata": {},
   "outputs": [
    {
     "name": "stdout",
     "output_type": "stream",
     "text": [
      "{'England': 'Root', 'Australia': 'Paine', 'India': 'Virat'}\n"
     ]
    }
   ],
   "source": [
    "# Use the delkeyword to delete a pair from a dictionary or the dictionary object itself. \n",
    "# To delete a pair, use its key as parameter. To delete a dictionary object, use its name.\n",
    "\n",
    "captains = {\n",
    "    'England': 'Root', \n",
    "    'Australia': 'Paine',\n",
    "    'India': 'Virat', \n",
    "    'Srilanka': 'Jayasurya'\n",
    "}\n",
    "\n",
    "del captains['Srilanka']\n",
    "print (captains)"
   ]
  },
  {
   "cell_type": "code",
   "execution_count": 12,
   "metadata": {},
   "outputs": [],
   "source": [
    "del captains\n",
    "# print (captains)"
   ]
  },
  {
   "cell_type": "markdown",
   "metadata": {},
   "source": [
    "### View Keys(), Values() and use of update()"
   ]
  },
  {
   "cell_type": "code",
   "execution_count": 13,
   "metadata": {},
   "outputs": [
    {
     "name": "stdout",
     "output_type": "stream",
     "text": [
      "dict_keys(['name', 'age', 'marks', 'course'])\n"
     ]
    }
   ],
   "source": [
    "''' The keys() and values() methods of Python dictionary class return a view object consisting of keys and\n",
    "values respectively, used in the dictionary.'''\n",
    "\n",
    "d1 = {\n",
    "    'name': 'Steve', \n",
    "    'age': 21, \n",
    "    'marks': 60, \n",
    "    'course': 'Computer Engg'\n",
    "}\n",
    "\n",
    "print (d1.keys())"
   ]
  },
  {
   "cell_type": "code",
   "execution_count": 14,
   "metadata": {},
   "outputs": [
    {
     "name": "stdout",
     "output_type": "stream",
     "text": [
      "dict_keys(['name', 'age', 'marks', 'course', 'college'])\n"
     ]
    }
   ],
   "source": [
    "'''The result of the keys() method is a view which can be stored as a list object. If a new key-value pair is added, \n",
    "the view object is automatically updated.'''\n",
    "\n",
    "d1.update({\"college\":\"IITB\"})\n",
    "print (d1.keys())"
   ]
  },
  {
   "cell_type": "code",
   "execution_count": 15,
   "metadata": {},
   "outputs": [
    {
     "name": "stdout",
     "output_type": "stream",
     "text": [
      "dict_values(['Steve', 21, 60, 'Computer Engg'])\n",
      "dict_values(['Steve', 21, 60, 'Computer Engg', 'IITB'])\n"
     ]
    }
   ],
   "source": [
    "# This is similar for the values() method.\n",
    "\n",
    "d1 = {\n",
    "    'name': 'Steve', \n",
    "    'age': 21, \n",
    "    'marks': 60, \n",
    "    'course': 'Computer Engg'\n",
    "}\n",
    "\n",
    "values=d1.values()\n",
    "print (values)\n",
    "\n",
    "'''The result of the values() method is a view which can be stored as a list object. \n",
    "If a new key-value pair is added, the view is dynamically updated.'''\n",
    "\n",
    "d1.update({\"college\":\"IITB\"})\n",
    "print (values)"
   ]
  },
  {
   "cell_type": "markdown",
   "metadata": {},
   "source": [
    "### Multi-dimensional Dictionary"
   ]
  },
  {
   "cell_type": "code",
   "execution_count": 16,
   "metadata": {},
   "outputs": [
    {
     "name": "stdout",
     "output_type": "stream",
     "text": [
      "{1: {'name': 'Steve', 'age': 25, 'marks': 60}, 2: {'name': 'Anil', 'age': 23, 'marks': 75}, 3: {'name': 'Asha', 'age': 20, 'marks': 70}}\n"
     ]
    }
   ],
   "source": [
    "# Let's assume there are three dictionary objects, as below:\n",
    "\n",
    "d1 = {\n",
    "    \"name\":\"Steve\",\n",
    "    \"age\":25, \n",
    "    \"marks\":60\n",
    "}\n",
    "\n",
    "d2 = {\n",
    "    \"name\":\"Anil\",\n",
    "    \"age\":23, \n",
    "    \"marks\":75\n",
    "}\n",
    "\n",
    "d3 = {\n",
    "    \"name\":\"Asha\", \n",
    "    \"age\":20, \n",
    "    \"marks\":70\n",
    "}\n",
    "\n",
    "'''Let us assign roll numbers to these students and create a multi-dimensional dictionary with roll number as key \n",
    "and the above dictionaries at their value.'''\n",
    "\n",
    "students = {\n",
    "    1:d1,\n",
    "    2:d2,\n",
    "    3:d3\n",
    "}\n",
    "\n",
    "print (students)"
   ]
  },
  {
   "cell_type": "code",
   "execution_count": 18,
   "metadata": {},
   "outputs": [
    {
     "name": "stdout",
     "output_type": "stream",
     "text": [
      "{'name': 'Steve', 'age': 25, 'marks': 60}\n"
     ]
    }
   ],
   "source": [
    "# The students object is a two-dimensional dictionary. Here d1, d2 and d3 are assigned as values to keys 1,2, and 3, respectively. students [1] returns d1.\n",
    "print (students[1])"
   ]
  },
  {
   "cell_type": "code",
   "execution_count": 19,
   "metadata": {},
   "outputs": [
    {
     "name": "stdout",
     "output_type": "stream",
     "text": [
      "25\n"
     ]
    }
   ],
   "source": [
    "# The value of a key inside d1 can be obtained as below:\n",
    "print (students[1]['age'])"
   ]
  },
  {
   "cell_type": "markdown",
   "metadata": {},
   "source": [
    "### Nested Dictionary"
   ]
  },
  {
   "cell_type": "code",
   "execution_count": 20,
   "metadata": {},
   "outputs": [
    {
     "name": "stdout",
     "output_type": "stream",
     "text": [
      "John\n",
      "27\n",
      "Male\n"
     ]
    }
   ],
   "source": [
    "people = {\n",
    "    1: {\n",
    "        'name': 'John', \n",
    "        'age': '27', \n",
    "        'sex': 'Male'\n",
    "    }, \n",
    "    2: {\n",
    "        'name': 'Marie', \n",
    "        'age': '22', \n",
    "        'sex': 'Female'\n",
    "    }\n",
    "}\n",
    "print(people[1]['name'])\n",
    "print(people[1]['age'])\n",
    "print(people[1]['sex'])"
   ]
  },
  {
   "cell_type": "markdown",
   "metadata": {},
   "source": [
    "## Built-in Dictionary Methods"
   ]
  },
  {
   "cell_type": "markdown",
   "metadata": {},
   "source": [
    "#### len()"
   ]
  },
  {
   "cell_type": "code",
   "execution_count": 21,
   "metadata": {},
   "outputs": [
    {
     "name": "stdout",
     "output_type": "stream",
     "text": [
      "3\n"
     ]
    }
   ],
   "source": [
    "# Return the length (the number of items) in the dictionary.\n",
    "\n",
    "lang={\n",
    "    'A':('Ada','ActionScript'), \n",
    "    'P':(\"Python\", \"Perl\",\"PHP\"), \n",
    "    'C':(\"abc\",\"sjdk\")\n",
    "}\n",
    "\n",
    "print (len(lang))"
   ]
  },
  {
   "cell_type": "markdown",
   "metadata": {},
   "source": [
    "#### max()"
   ]
  },
  {
   "cell_type": "code",
   "execution_count": 22,
   "metadata": {},
   "outputs": [
    {
     "name": "stdout",
     "output_type": "stream",
     "text": [
      "Max: z\n"
     ]
    }
   ],
   "source": [
    "# If all keys in the dictionary are numbers, the heighestnumber will be returned. \n",
    "# If all keys in the dictionary are strings, the one that comes last in alphabetical order will be returned.\n",
    "\n",
    "lang={\n",
    "    'J':'Java', \n",
    "    'A': 'ActionScript', \n",
    "    'P':'Python',\n",
    "    'z':'PHP'\n",
    "}\n",
    "\n",
    "print(\"Max:\",max(lang))"
   ]
  },
  {
   "cell_type": "code",
   "execution_count": 23,
   "metadata": {},
   "outputs": [
    {
     "name": "stdout",
     "output_type": "stream",
     "text": [
      "Max: 100\n"
     ]
    }
   ],
   "source": [
    "num={\n",
    "    5:\"five\", \n",
    "    100:\"hundred\",\n",
    "    3:\"three\"\n",
    "}\n",
    "\n",
    "print(\"Max:\",max(num))"
   ]
  },
  {
   "cell_type": "markdown",
   "metadata": {},
   "source": [
    "#### min()"
   ]
  },
  {
   "cell_type": "code",
   "execution_count": 24,
   "metadata": {},
   "outputs": [
    {
     "name": "stdout",
     "output_type": "stream",
     "text": [
      "Min: A\n"
     ]
    }
   ],
   "source": [
    "# If all keys in the dictionary are numbers, the lowest number will be returned. \n",
    "# If all keys in the dictionary are strings, the one that comes first in alphabetical order will be returned.\n",
    "\n",
    "lang={\n",
    "    'J':'Java', \n",
    "    'A': 'ActionScript', \n",
    "    'P':'Python',\n",
    "    'z':'PHP'\n",
    "}\n",
    "\n",
    "print(\"Min:\",min(lang))"
   ]
  },
  {
   "cell_type": "code",
   "execution_count": 25,
   "metadata": {},
   "outputs": [
    {
     "name": "stdout",
     "output_type": "stream",
     "text": [
      "Min: 3\n"
     ]
    }
   ],
   "source": [
    "num={\n",
    "    5:\"five\", \n",
    "    100:\"hundred\",\n",
    "    3:\"three\"\n",
    "}\n",
    "\n",
    "print(\"Min:\",min(num))"
   ]
  },
  {
   "cell_type": "markdown",
   "metadata": {},
   "source": [
    "#### clear()"
   ]
  },
  {
   "cell_type": "code",
   "execution_count": 26,
   "metadata": {},
   "outputs": [
    {
     "name": "stdout",
     "output_type": "stream",
     "text": [
      "{}\n"
     ]
    }
   ],
   "source": [
    "# Remove all items form the dictionary.\n",
    "\n",
    "lang={\n",
    "    'J':'Java', \n",
    "    'A': 'ActionScript', \n",
    "    'P':'Python',\n",
    "    'z':'PHP'\n",
    "}\n",
    "\n",
    "lang.clear()\n",
    "print(lang)"
   ]
  },
  {
   "cell_type": "markdown",
   "metadata": {},
   "source": [
    "#### items()"
   ]
  },
  {
   "cell_type": "code",
   "execution_count": 27,
   "metadata": {},
   "outputs": [
    {
     "name": "stdout",
     "output_type": "stream",
     "text": [
      "dict_items([('J', 'Java'), ('A', 'ActionScript'), ('P', 'Python'), ('z', 'PHP')])\n"
     ]
    }
   ],
   "source": [
    "# Returns a list of tuples, each tuple containing the key and value of each pair.\n",
    "\n",
    "lang={\n",
    "    'J':'Java', \n",
    "    'A': 'ActionScript', \n",
    "    'P':'Python',\n",
    "    'z':'PHP'\n",
    "}\n",
    "\n",
    "print(lang.items())"
   ]
  },
  {
   "cell_type": "markdown",
   "metadata": {},
   "source": [
    "#### update()"
   ]
  },
  {
   "cell_type": "code",
   "execution_count": 28,
   "metadata": {},
   "outputs": [
    {
     "name": "stdout",
     "output_type": "stream",
     "text": [
      "{'A': 56, 'B': 88, 'C': 91}\n"
     ]
    }
   ],
   "source": [
    "# Update the dictionary with the key/value pairs from other, overwriting existing keys.\n",
    "\n",
    "mark1={\n",
    "    \"A\":67, \n",
    "    \"B\":88, \n",
    "    \"C\":91\n",
    "}\n",
    "\n",
    "mark1.update({\"A\":56})  # updating value\n",
    "print (mark1)"
   ]
  },
  {
   "cell_type": "code",
   "execution_count": 29,
   "metadata": {},
   "outputs": [
    {
     "name": "stdout",
     "output_type": "stream",
     "text": [
      "{'A': 67, 'B': 88, 'C': 55, 'D': 95}\n"
     ]
    }
   ],
   "source": [
    "# Adds key-value pairs from the second dictionary object to the first. \n",
    "# If the second dictionary contains a key already used in first dictionary object, its value is updated\n",
    "\n",
    "mark1={\n",
    "    \"A\":67, \n",
    "    \"B\":88, \n",
    "    \"C\":91\n",
    "}\n",
    "\n",
    "mark2={\n",
    "    \"C\":55, \n",
    "    \"D\":95 \n",
    "}\n",
    "\n",
    "mark1.update(mark2)  # updating dictionary\n",
    "print (mark1)"
   ]
  },
  {
   "cell_type": "code",
   "execution_count": 30,
   "metadata": {},
   "outputs": [
    {
     "name": "stdout",
     "output_type": "stream",
     "text": [
      "{'A': ['22', '32'], 'B': 88, 'C': 91}\n"
     ]
    }
   ],
   "source": [
    "# updating list in the dictionary\n",
    "\n",
    "mark1={\n",
    "    \"A\":67, \n",
    "    \"B\":88, \n",
    "    \"C\":91\n",
    "}\n",
    "\n",
    "mark1.update({\"A\":[\"22\",\"32\"]})  \n",
    "print (mark1)"
   ]
  },
  {
   "cell_type": "code",
   "execution_count": 31,
   "metadata": {},
   "outputs": [
    {
     "name": "stdout",
     "output_type": "stream",
     "text": [
      "{'A': 67, 'B': 88, 'C': 91, 'E': ('82', '53')}\n"
     ]
    }
   ],
   "source": [
    "# updating tuple in the dictionary\n",
    "\n",
    "mark1={\n",
    "    \"A\":67, \n",
    "    \"B\":88, \n",
    "    \"C\":91\n",
    "}\n",
    "\n",
    "mark1.update({\"E\":(\"82\",\"53\")})  \n",
    "print (mark1)"
   ]
  },
  {
   "cell_type": "markdown",
   "metadata": {},
   "source": [
    "#### copy()"
   ]
  },
  {
   "cell_type": "code",
   "execution_count": 32,
   "metadata": {},
   "outputs": [
    {
     "name": "stdout",
     "output_type": "stream",
     "text": [
      "{'J': 'Java', 'A': 'ActionScript', 'P': 'Python', 'z': 'PHP'}\n"
     ]
    }
   ],
   "source": [
    "# Return a shallow copy of the dictionary.\n",
    "\n",
    "lang={\n",
    "    'J':'Java', \n",
    "    'A': 'ActionScript', \n",
    "    'P':'Python',\n",
    "    'z':'PHP'\n",
    "}\n",
    "\n",
    "print(lang.copy())"
   ]
  },
  {
   "cell_type": "markdown",
   "metadata": {},
   "source": [
    "#### fromkeys(seq[, v])"
   ]
  },
  {
   "cell_type": "code",
   "execution_count": 33,
   "metadata": {},
   "outputs": [
    {
     "name": "stdout",
     "output_type": "stream",
     "text": [
      "{'key1': 0, 'key2': 0, 'key3': 0}\n"
     ]
    }
   ],
   "source": [
    "# creates a new dictionary from the given sequence of elements with a value provided by the user.\n",
    "\n",
    "x = ('key1', 'key2', 'key3')\n",
    "y = 0\n",
    "\n",
    "thisdict = dict.fromkeys(x, y)\n",
    "print(thisdict)"
   ]
  },
  {
   "cell_type": "code",
   "execution_count": 34,
   "metadata": {},
   "outputs": [
    {
     "name": "stdout",
     "output_type": "stream",
     "text": [
      "{'key1': None, 'key2': None, 'key3': None}\n"
     ]
    }
   ],
   "source": [
    "x = ('key1', 'key2', 'key3')\n",
    "\n",
    "thisdict = dict.fromkeys(x)  # Default value is none\n",
    "print(thisdict)"
   ]
  },
  {
   "cell_type": "code",
   "execution_count": 35,
   "metadata": {},
   "outputs": [
    {
     "name": "stdout",
     "output_type": "stream",
     "text": [
      "{1: (10, 20, 30), 2: (10, 20, 30), 3: (10, 20, 30), 4: (10, 20, 30)}\n"
     ]
    }
   ],
   "source": [
    "x = (1,2,3,4)\n",
    "y = (10,20,30)\n",
    "\n",
    "dict1 = dict.fromkeys(x,y)\n",
    "print (dict1)"
   ]
  },
  {
   "cell_type": "code",
   "execution_count": 37,
   "metadata": {},
   "outputs": [
    {
     "name": "stdout",
     "output_type": "stream",
     "text": [
      "{'a': [1], 'e': [1], 'u': [1], 'i': [1], 'o': [1]}\n"
     ]
    }
   ],
   "source": [
    "# vowels keys\n",
    "keys = {'a', 'e', 'i', 'o', 'u' }\n",
    "value = [1]\n",
    "\n",
    "vowels = dict.fromkeys(keys, value)\n",
    "print(vowels)"
   ]
  },
  {
   "cell_type": "code",
   "execution_count": 38,
   "metadata": {},
   "outputs": [
    {
     "name": "stdout",
     "output_type": "stream",
     "text": [
      "{'a': [1, 2], 'e': [1, 2], 'u': [1, 2], 'i': [1, 2], 'o': [1, 2]}\n"
     ]
    }
   ],
   "source": [
    "# updating the value\n",
    "\n",
    "value.append(2)\n",
    "print(vowels)"
   ]
  },
  {
   "cell_type": "markdown",
   "metadata": {},
   "source": [
    "#### get(key[,d])"
   ]
  },
  {
   "cell_type": "code",
   "execution_count": 39,
   "metadata": {},
   "outputs": [
    {
     "name": "stdout",
     "output_type": "stream",
     "text": [
      "New Delhi\n",
      "London\n"
     ]
    }
   ],
   "source": [
    "# Return the value of key. If key doesnotexit, return d (defaults to None).\n",
    "\n",
    "capitals={\n",
    "    \"USA\" : \"New York\", \n",
    "    \"France\" : \"Paris\", \n",
    "    \"Japan\" : \"Tokyo\", \n",
    "    \"India\" : \"New Delhi\"\n",
    "}\n",
    "\n",
    "print (capitals.get(\"India\"))\n",
    "\n",
    "print (capitals.get(\"UK\",\"London\"))"
   ]
  },
  {
   "cell_type": "markdown",
   "metadata": {},
   "source": [
    "#### keys()"
   ]
  },
  {
   "cell_type": "code",
   "execution_count": 40,
   "metadata": {},
   "outputs": [
    {
     "name": "stdout",
     "output_type": "stream",
     "text": [
      "dict_keys(['USA', 'France', 'Japan', 'India'])\n"
     ]
    }
   ],
   "source": [
    "# Return a new view of the dictionary's keys.\n",
    "\n",
    "capitals={\n",
    "    \"USA\" : \"New York\", \n",
    "    \"France\" : \"Paris\", \n",
    "    \"Japan\" : \"Tokyo\", \n",
    "    \"India\" : \"New Delhi\"\n",
    "}\n",
    "\n",
    "x = capitals.keys()\n",
    "print(x)"
   ]
  },
  {
   "cell_type": "markdown",
   "metadata": {},
   "source": [
    "#### pop(key[,d])"
   ]
  },
  {
   "cell_type": "code",
   "execution_count": 41,
   "metadata": {},
   "outputs": [
    {
     "name": "stdout",
     "output_type": "stream",
     "text": [
      "{'J': 'Java', 'A': 'ActionScript', 'z': 'PHP'}\n"
     ]
    }
   ],
   "source": [
    "# Remove the item with key and return its value and if key is not found, raises KeyError.\n",
    "\n",
    "lang={\n",
    "    'J':'Java', \n",
    "    'A': 'ActionScript', \n",
    "    'P':'Python',\n",
    "    'z':'PHP'\n",
    "}\n",
    "\n",
    "lang.pop('P')\n",
    "print(lang)"
   ]
  },
  {
   "cell_type": "markdown",
   "metadata": {},
   "source": [
    "#### popitem()"
   ]
  },
  {
   "cell_type": "code",
   "execution_count": 42,
   "metadata": {},
   "outputs": [
    {
     "name": "stdout",
     "output_type": "stream",
     "text": [
      "{'J': 'Java', 'A': 'ActionScript', 'P': 'Python'}\n"
     ]
    }
   ],
   "source": [
    "# Remove and return an arbitary item (key, value). Raises KeyError if the dictionary is empty.\n",
    "\n",
    "lang={\n",
    "    'J':'Java', \n",
    "    'A': 'ActionScript', \n",
    "    'P':'Python',\n",
    "    'z':'PHP'\n",
    "}\n",
    "\n",
    "lang.popitem()\n",
    "print(lang)"
   ]
  },
  {
   "cell_type": "markdown",
   "metadata": {},
   "source": [
    "#### setdefault(key[,d])"
   ]
  },
  {
   "cell_type": "code",
   "execution_count": 43,
   "metadata": {},
   "outputs": [
    {
     "name": "stdout",
     "output_type": "stream",
     "text": [
      "white\n",
      "{'brand': 'Ford', 'model': 'Mustang', 'year': 1964, 'color': 'white'}\n"
     ]
    }
   ],
   "source": [
    "# If key is in the dictionary, return its value. If not, insert key with a value of d and return d (defaults to None).\n",
    "\n",
    "car = {\n",
    "  \"brand\": \"Ford\",\n",
    "  \"model\": \"Mustang\",\n",
    "  \"year\": 1964\n",
    "}\n",
    "\n",
    "# adding new key and it's value\n",
    "x = car.setdefault(\"color\", \"white\")\n",
    "\n",
    "print(x)\n",
    "print (car)"
   ]
  },
  {
   "cell_type": "code",
   "execution_count": 44,
   "metadata": {},
   "outputs": [
    {
     "name": "stdout",
     "output_type": "stream",
     "text": [
      "None\n",
      "{'brand': 'Ford', 'model': 'Mustang', 'year': 1964, 'color': None}\n"
     ]
    }
   ],
   "source": [
    "car = {\n",
    "  \"brand\": \"Ford\",\n",
    "  \"model\": \"Mustang\",\n",
    "  \"year\": 1964\n",
    "}\n",
    "\n",
    "# adding new key and it's value\n",
    "x = car.setdefault(\"color\")\n",
    "\n",
    "print(x)\n",
    "print (car)"
   ]
  },
  {
   "cell_type": "code",
   "execution_count": 45,
   "metadata": {},
   "outputs": [
    {
     "name": "stdout",
     "output_type": "stream",
     "text": [
      "Mustang\n",
      "{'brand': 'Ford', 'model': 'Mustang', 'year': 1964}\n"
     ]
    }
   ],
   "source": [
    "car = {\n",
    "  \"brand\": \"Ford\",\n",
    "  \"model\": \"Mustang\",\n",
    "  \"year\": 1964\n",
    "}\n",
    "\n",
    "x = car.setdefault(\"model\", \"Bronco\")\n",
    "\n",
    "print(x)\n",
    "print(car)"
   ]
  },
  {
   "cell_type": "markdown",
   "metadata": {},
   "source": [
    "#### values()"
   ]
  },
  {
   "cell_type": "code",
   "execution_count": 46,
   "metadata": {},
   "outputs": [
    {
     "name": "stdout",
     "output_type": "stream",
     "text": [
      "dict_values(['Ford', 'Mustang', 1964])\n"
     ]
    }
   ],
   "source": [
    "# Return a new view of the dictionary's values\n",
    "\n",
    "car = {\n",
    "  \"brand\": \"Ford\",\n",
    "  \"model\": \"Mustang\",\n",
    "  \"year\": 1964\n",
    "}\n",
    "\n",
    "x = car.values()\n",
    "print(x)"
   ]
  },
  {
   "cell_type": "markdown",
   "metadata": {},
   "source": [
    "#### all()"
   ]
  },
  {
   "cell_type": "code",
   "execution_count": 47,
   "metadata": {},
   "outputs": [
    {
     "name": "stdout",
     "output_type": "stream",
     "text": [
      "True\n"
     ]
    }
   ],
   "source": [
    "# Return True if all keys of the dictionary are true (or if the dictionary is empty).\n",
    "\n",
    "car = {\n",
    "  \"brand\": \"Ford\",\n",
    "  \"model\": \"Mustang\",\n",
    "  \"year\": 1964\n",
    "}\n",
    "\n",
    "print(all(car))"
   ]
  },
  {
   "cell_type": "code",
   "execution_count": 48,
   "metadata": {},
   "outputs": [
    {
     "name": "stdout",
     "output_type": "stream",
     "text": [
      "False\n"
     ]
    }
   ],
   "source": [
    "car = {\n",
    "  \"brand\": \"Ford\",\n",
    "  \"model\": \"Mustang\",\n",
    "  0 : 1964\n",
    "}\n",
    "\n",
    "print(all(car))"
   ]
  },
  {
   "cell_type": "code",
   "execution_count": 49,
   "metadata": {},
   "outputs": [
    {
     "name": "stdout",
     "output_type": "stream",
     "text": [
      "True\n"
     ]
    }
   ],
   "source": [
    "car = {}\n",
    "\n",
    "print(all(car))"
   ]
  },
  {
   "cell_type": "markdown",
   "metadata": {},
   "source": [
    "#### any()"
   ]
  },
  {
   "cell_type": "code",
   "execution_count": 50,
   "metadata": {},
   "outputs": [
    {
     "name": "stdout",
     "output_type": "stream",
     "text": [
      "True\n"
     ]
    }
   ],
   "source": [
    "# Return True if any key of the dictionary is true. If the dictionary is empty, return False.\n",
    "\n",
    "car = {\n",
    "  \"brand\": \"Ford\",\n",
    "  \"model\": \"Mustang\",\n",
    "  \"year\": 1964\n",
    "}\n",
    "\n",
    "print(any(car))"
   ]
  },
  {
   "cell_type": "code",
   "execution_count": 51,
   "metadata": {},
   "outputs": [
    {
     "name": "stdout",
     "output_type": "stream",
     "text": [
      "True\n"
     ]
    }
   ],
   "source": [
    "car = {\n",
    "  \"brand\": \"Ford\",\n",
    "  \"model\": \"Mustang\",\n",
    "  0 : 1964\n",
    "}\n",
    "print(any(car))"
   ]
  },
  {
   "cell_type": "code",
   "execution_count": 52,
   "metadata": {},
   "outputs": [
    {
     "name": "stdout",
     "output_type": "stream",
     "text": [
      "False\n"
     ]
    }
   ],
   "source": [
    "car = {}\n",
    "print(any(car))"
   ]
  },
  {
   "cell_type": "markdown",
   "metadata": {},
   "source": [
    "#### sorted()"
   ]
  },
  {
   "cell_type": "code",
   "execution_count": 53,
   "metadata": {},
   "outputs": [
    {
     "name": "stdout",
     "output_type": "stream",
     "text": [
      "['brand', 'model', 'year']\n"
     ]
    }
   ],
   "source": [
    "# Return a new sorted list of keys in the dictionary.\n",
    "\n",
    "car = {\n",
    "  \"model\": \"Mustang\",\n",
    "  \"brand\": \"Ford\",\n",
    "  \"year\": 1964\n",
    "}\n",
    "\n",
    "print(sorted(car))"
   ]
  },
  {
   "cell_type": "code",
   "execution_count": null,
   "metadata": {},
   "outputs": [],
   "source": []
  }
 ],
 "metadata": {
  "kernelspec": {
   "display_name": "Python 3",
   "language": "python",
   "name": "python3"
  },
  "language_info": {
   "codemirror_mode": {
    "name": "ipython",
    "version": 3
   },
   "file_extension": ".py",
   "mimetype": "text/x-python",
   "name": "python",
   "nbconvert_exporter": "python",
   "pygments_lexer": "ipython3",
   "version": "3.7.6"
  }
 },
 "nbformat": 4,
 "nbformat_minor": 4
}
