{
 "cells": [
  {
   "cell_type": "markdown",
   "metadata": {},
   "source": [
    "### <h3 align=\"center\">Prepared By Parsis Tamakuwala</h3> "
   ]
  },
  {
   "cell_type": "markdown",
   "metadata": {},
   "source": [
    "### Set Initialozation"
   ]
  },
  {
   "cell_type": "code",
   "execution_count": 1,
   "metadata": {},
   "outputs": [
    {
     "name": "stdout",
     "output_type": "stream",
     "text": [
      "{1, 75.5, 'Bill'}\n"
     ]
    }
   ],
   "source": [
    "s1 = {1, \"Bill\", 75.50}\n",
    "print (s1)"
   ]
  },
  {
   "cell_type": "code",
   "execution_count": 2,
   "metadata": {},
   "outputs": [
    {
     "name": "stdout",
     "output_type": "stream",
     "text": [
      "{1, 2, 3, 4, 5, 6}\n"
     ]
    }
   ],
   "source": [
    "# set doesn't store duplicate objects.\n",
    "\n",
    "s1 = {6,1, 2, 2, 3, 4, 4, 5, 5}\n",
    "print (s1)"
   ]
  },
  {
   "cell_type": "markdown",
   "metadata": {},
   "source": [
    "#### set() on String"
   ]
  },
  {
   "cell_type": "code",
   "execution_count": 3,
   "metadata": {},
   "outputs": [
    {
     "name": "stdout",
     "output_type": "stream",
     "text": [
      "{'y', 'P', 't', 'h', 'n', 'o'} <class 'set'>\n"
     ]
    }
   ],
   "source": [
    "s1 = set(\"Python\") \n",
    "print (s1, type(s1))"
   ]
  },
  {
   "cell_type": "markdown",
   "metadata": {},
   "source": [
    "#### set() on List"
   ]
  },
  {
   "cell_type": "code",
   "execution_count": 4,
   "metadata": {},
   "outputs": [
    {
     "name": "stdout",
     "output_type": "stream",
     "text": [
      "{67, 36, 45, 87, 55} <class 'set'>\n"
     ]
    }
   ],
   "source": [
    "s1 = set([45,67,87,36, 55])\n",
    "print (s1, type(s1))"
   ]
  },
  {
   "cell_type": "markdown",
   "metadata": {},
   "source": [
    "#### set() on Tuple"
   ]
  },
  {
   "cell_type": "code",
   "execution_count": 5,
   "metadata": {},
   "outputs": [
    {
     "name": "stdout",
     "output_type": "stream",
     "text": [
      "{25, 10, 15} <class 'set'>\n"
     ]
    }
   ],
   "source": [
    "s1 = set((10,25,15))\n",
    "print (s1, type(s1))"
   ]
  },
  {
   "cell_type": "markdown",
   "metadata": {},
   "source": [
    "## Operations on Tuples"
   ]
  },
  {
   "cell_type": "markdown",
   "metadata": {},
   "source": [
    "#### | :: union()"
   ]
  },
  {
   "cell_type": "code",
   "execution_count": 6,
   "metadata": {},
   "outputs": [
    {
     "name": "stdout",
     "output_type": "stream",
     "text": [
      "{1, 2, 3}\n",
      "{1, 2, 3}\n"
     ]
    }
   ],
   "source": [
    "#The union of two sets is a set of all elements from both the collections.\n",
    "\n",
    "s1 = {1,2}\n",
    "s2 = {2,3}\n",
    "\n",
    "print (s1|s2)\n",
    "print (s1.union(s2))"
   ]
  },
  {
   "cell_type": "markdown",
   "metadata": {},
   "source": [
    "#### & :: intersection()"
   ]
  },
  {
   "cell_type": "code",
   "execution_count": 7,
   "metadata": {},
   "outputs": [
    {
     "name": "stdout",
     "output_type": "stream",
     "text": [
      "{2}\n",
      "{2}\n"
     ]
    }
   ],
   "source": [
    "#The intersection of two sets is a set containing elements common to both collections.\n",
    "\n",
    "s1 = {1,2}\n",
    "s2 = {2,3}\n",
    "\n",
    "print (s1 & s2)\n",
    "print (s1.intersection(s2))"
   ]
  },
  {
   "cell_type": "markdown",
   "metadata": {},
   "source": [
    "#### – :: difference()"
   ]
  },
  {
   "cell_type": "code",
   "execution_count": 8,
   "metadata": {},
   "outputs": [
    {
     "name": "stdout",
     "output_type": "stream",
     "text": [
      "{1}\n",
      "{1}\n"
     ]
    }
   ],
   "source": [
    "#The difference of two sets results in a set containing elements only in the first set, but not in the second set.\n",
    "\n",
    "s1 = {1,2}\n",
    "s2 = {2,3}\n",
    "\n",
    "print (s1-s2)\n",
    "print (s1.difference(s2))"
   ]
  },
  {
   "cell_type": "code",
   "execution_count": 9,
   "metadata": {},
   "outputs": [
    {
     "name": "stdout",
     "output_type": "stream",
     "text": [
      "{3}\n",
      "{3}\n"
     ]
    }
   ],
   "source": [
    "print (s2-s1)\n",
    "print (s2.difference(s1))"
   ]
  },
  {
   "cell_type": "markdown",
   "metadata": {},
   "source": [
    "#### ^ :: Symmetric_difference()"
   ]
  },
  {
   "cell_type": "code",
   "execution_count": 10,
   "metadata": {},
   "outputs": [
    {
     "name": "stdout",
     "output_type": "stream",
     "text": [
      "{1, 3}\n",
      "{1, 3}\n"
     ]
    }
   ],
   "source": [
    "# The result of the symmetric difference is a set consisting of elements in both sets, excluding the common elements.\n",
    "\n",
    "s1 = {1,2}\n",
    "s2 = {2,3}\n",
    "\n",
    "print(s1.symmetric_difference(s2))\n",
    "print(s1 ^ s2)"
   ]
  },
  {
   "cell_type": "markdown",
   "metadata": {},
   "source": [
    "## Built-in Set Methods"
   ]
  },
  {
   "cell_type": "markdown",
   "metadata": {},
   "source": [
    "#### set()"
   ]
  },
  {
   "cell_type": "code",
   "execution_count": 11,
   "metadata": {},
   "outputs": [
    {
     "name": "stdout",
     "output_type": "stream",
     "text": [
      "{'y', 'P', 't', 'h', 'n', 'o'}\n"
     ]
    }
   ],
   "source": [
    "# Convert anything into set using set() function.\n",
    "\n",
    "# Converting string into set\n",
    "\n",
    "str = \"Python\"\n",
    "s1 = set(str)\n",
    "print (s1)"
   ]
  },
  {
   "cell_type": "code",
   "execution_count": 12,
   "metadata": {},
   "outputs": [
    {
     "name": "stdout",
     "output_type": "stream",
     "text": [
      "{67, 36, 45, 87, 55}\n"
     ]
    }
   ],
   "source": [
    "# Converting list into set\n",
    "\n",
    "lst = [45,67,87,36, 55]\n",
    "s1=set(lst)\n",
    "print (s1)"
   ]
  },
  {
   "cell_type": "code",
   "execution_count": 13,
   "metadata": {},
   "outputs": [
    {
     "name": "stdout",
     "output_type": "stream",
     "text": [
      "{25, 10, 15}\n"
     ]
    }
   ],
   "source": [
    "# Converting tuple into set\n",
    "\n",
    "tup1 = (10,25,15)\n",
    "s1 = set(tup1)\n",
    "print (s1)"
   ]
  },
  {
   "cell_type": "markdown",
   "metadata": {},
   "source": [
    "#### add()"
   ]
  },
  {
   "cell_type": "code",
   "execution_count": 14,
   "metadata": {},
   "outputs": [
    {
     "name": "stdout",
     "output_type": "stream",
     "text": [
      "s1: {1, 2, 3}\n"
     ]
    }
   ],
   "source": [
    "# Adds a new element to the set\n",
    "\n",
    "s1 = {1,2}\n",
    "\n",
    "s1.add(3)\n",
    "print (\"s1:\",s1)"
   ]
  },
  {
   "cell_type": "markdown",
   "metadata": {},
   "source": [
    "#### clear() "
   ]
  },
  {
   "cell_type": "code",
   "execution_count": 15,
   "metadata": {},
   "outputs": [
    {
     "name": "stdout",
     "output_type": "stream",
     "text": [
      "s1: set()\n"
     ]
    }
   ],
   "source": [
    "# Removes all elements from the set\n",
    "\n",
    "s1 = {1,2}\n",
    "\n",
    "s1.clear()\n",
    "print (\"s1:\",s1)"
   ]
  },
  {
   "cell_type": "markdown",
   "metadata": {},
   "source": [
    "#### copy()"
   ]
  },
  {
   "cell_type": "code",
   "execution_count": 16,
   "metadata": {},
   "outputs": [
    {
     "name": "stdout",
     "output_type": "stream",
     "text": [
      "{1, 2}\n"
     ]
    }
   ],
   "source": [
    "# Returns a copy of the set\n",
    "\n",
    "s1 = {1,2}\n",
    "print (s1.copy())"
   ]
  },
  {
   "cell_type": "markdown",
   "metadata": {},
   "source": [
    "#### difference_update()"
   ]
  },
  {
   "cell_type": "code",
   "execution_count": 17,
   "metadata": {},
   "outputs": [
    {
     "name": "stdout",
     "output_type": "stream",
     "text": [
      "s1: {1}\n",
      "s2: {2, 3}\n"
     ]
    }
   ],
   "source": [
    "# Removes all elements of another set from this set\n",
    "\n",
    "s1 = {1,2}\n",
    "s2 = {2,3}\n",
    "\n",
    "s1.difference_update(s2)\n",
    "print (\"s1:\",s1)\n",
    "print (\"s2:\",s2)"
   ]
  },
  {
   "cell_type": "code",
   "execution_count": 18,
   "metadata": {},
   "outputs": [
    {
     "name": "stdout",
     "output_type": "stream",
     "text": [
      "s1: {1, 2}\n",
      "s2: {3}\n"
     ]
    }
   ],
   "source": [
    "s1 = {1,2}\n",
    "s2 = {2,3}\n",
    "\n",
    "s2.difference_update(s1)\n",
    "print (\"s1:\",s1)\n",
    "print (\"s2:\",s2)"
   ]
  },
  {
   "cell_type": "markdown",
   "metadata": {},
   "source": [
    "#### discard()"
   ]
  },
  {
   "cell_type": "code",
   "execution_count": 19,
   "metadata": {},
   "outputs": [
    {
     "name": "stdout",
     "output_type": "stream",
     "text": [
      "s1: {1}\n",
      "s1: {1}\n"
     ]
    }
   ],
   "source": [
    "# Removes an element from the set if it is a member. (Do nothing if the element is not in set)\n",
    "\n",
    "s1 = {1,2}\n",
    "\n",
    "s1.discard(2)\n",
    "print (\"s1:\",s1)\n",
    "\n",
    "s1.discard(4)\n",
    "print (\"s1:\",s1)"
   ]
  },
  {
   "cell_type": "markdown",
   "metadata": {},
   "source": [
    "#### remove()"
   ]
  },
  {
   "cell_type": "code",
   "execution_count": 20,
   "metadata": {},
   "outputs": [
    {
     "name": "stdout",
     "output_type": "stream",
     "text": [
      "{1, 2}\n"
     ]
    }
   ],
   "source": [
    "# Removes an element from the set. If the element is not a member, raise a KeyError\n",
    "\n",
    "s1 = {1,2,3}\n",
    "\n",
    "s1.remove(3)\n",
    "print (s1)\n",
    "\n",
    "#s1.remove(4)\n",
    "#print (s1)"
   ]
  },
  {
   "cell_type": "markdown",
   "metadata": {},
   "source": [
    "#### intersection_update()"
   ]
  },
  {
   "cell_type": "code",
   "execution_count": 21,
   "metadata": {},
   "outputs": [
    {
     "name": "stdout",
     "output_type": "stream",
     "text": [
      "s1: {2, 3}\n",
      "s2: {2, 3, 4}\n"
     ]
    }
   ],
   "source": [
    "# Updates the set with the intersection of itself and another\n",
    "\n",
    "s1 = {1,2,3}\n",
    "s2 = {2,3,4}\n",
    "\n",
    "s1.intersection_update(s2)\n",
    "print (\"s1:\",s1)\n",
    "print (\"s2:\",s2)"
   ]
  },
  {
   "cell_type": "code",
   "execution_count": 22,
   "metadata": {},
   "outputs": [
    {
     "name": "stdout",
     "output_type": "stream",
     "text": [
      "s1: {1, 2, 3}\n",
      "s2: {2, 3}\n"
     ]
    }
   ],
   "source": [
    "s1 = {1,2,3}\n",
    "s2 = {2,3,4}\n",
    "\n",
    "s2.intersection_update(s1)\n",
    "print (\"s1:\",s1)\n",
    "print (\"s2:\",s2)"
   ]
  },
  {
   "cell_type": "markdown",
   "metadata": {},
   "source": [
    "#### isdisjoint()"
   ]
  },
  {
   "cell_type": "code",
   "execution_count": 23,
   "metadata": {},
   "outputs": [
    {
     "name": "stdout",
     "output_type": "stream",
     "text": [
      "True\n"
     ]
    }
   ],
   "source": [
    "# Returns True if two sets have a null intersection\n",
    "\n",
    "s1 = {1,2}\n",
    "s2 = {3,4}\n",
    "print (s1.isdisjoint(s2))"
   ]
  },
  {
   "cell_type": "code",
   "execution_count": 24,
   "metadata": {},
   "outputs": [
    {
     "name": "stdout",
     "output_type": "stream",
     "text": [
      "False\n"
     ]
    }
   ],
   "source": [
    "s1 = {1,2}\n",
    "s2 = {2,3}\n",
    "print (s2.isdisjoint(s1))"
   ]
  },
  {
   "cell_type": "markdown",
   "metadata": {},
   "source": [
    "#### issubset()"
   ]
  },
  {
   "cell_type": "code",
   "execution_count": 25,
   "metadata": {},
   "outputs": [
    {
     "name": "stdout",
     "output_type": "stream",
     "text": [
      "False\n",
      "True\n"
     ]
    }
   ],
   "source": [
    "# Returns True if another set contains this set\n",
    "\n",
    "s1 = {1,2,3}\n",
    "s2 = {3}\n",
    "\n",
    "print (s1.issubset(s2))\n",
    "print (s2.issubset(s1))"
   ]
  },
  {
   "cell_type": "markdown",
   "metadata": {},
   "source": [
    "#### issuperset()"
   ]
  },
  {
   "cell_type": "code",
   "execution_count": 26,
   "metadata": {},
   "outputs": [
    {
     "name": "stdout",
     "output_type": "stream",
     "text": [
      "True\n",
      "False\n"
     ]
    }
   ],
   "source": [
    "# Returns True if this set contains another set\n",
    "\n",
    "s1 = {1,2,3}\n",
    "s2 = {3}\n",
    "\n",
    "print (s1.issuperset(s2))\n",
    "print (s2.issuperset(s1))"
   ]
  },
  {
   "cell_type": "markdown",
   "metadata": {},
   "source": [
    "#### pop()"
   ]
  },
  {
   "cell_type": "code",
   "execution_count": 27,
   "metadata": {},
   "outputs": [
    {
     "name": "stdout",
     "output_type": "stream",
     "text": [
      "{2, 3}\n"
     ]
    }
   ],
   "source": [
    "# Removes and returns an arbitaryset element. Raise KeyErrorif the set is empty\n",
    "s1 = {1,2,3}\n",
    "\n",
    "s1.pop()\n",
    "print (s1)"
   ]
  },
  {
   "cell_type": "markdown",
   "metadata": {},
   "source": [
    "#### symmetric_difference_update() "
   ]
  },
  {
   "cell_type": "code",
   "execution_count": 28,
   "metadata": {},
   "outputs": [
    {
     "name": "stdout",
     "output_type": "stream",
     "text": [
      "{1, 2, 4, 5}\n",
      "{3, 4, 5}\n"
     ]
    }
   ],
   "source": [
    "# Updates a set with the symmetric difference of itself and another\n",
    "\n",
    "s1 = {1,2,3}\n",
    "s2 = {3,4,5}\n",
    "\n",
    "s1.symmetric_difference_update(s2)\n",
    "print (s1)\n",
    "print (s2)"
   ]
  },
  {
   "cell_type": "code",
   "execution_count": 29,
   "metadata": {},
   "outputs": [
    {
     "name": "stdout",
     "output_type": "stream",
     "text": [
      "{1, 2, 3}\n",
      "{1, 2, 4, 5}\n"
     ]
    }
   ],
   "source": [
    "s1 = {1,2,3}\n",
    "s2 = {3,4,5}\n",
    "\n",
    "s2.symmetric_difference_update(s1)\n",
    "print (s1)\n",
    "print (s2)"
   ]
  },
  {
   "cell_type": "markdown",
   "metadata": {},
   "source": [
    "#### update() "
   ]
  },
  {
   "cell_type": "code",
   "execution_count": 30,
   "metadata": {},
   "outputs": [
    {
     "name": "stdout",
     "output_type": "stream",
     "text": [
      "{1, 2, 3, 4, 5}\n",
      "{3, 4, 5}\n"
     ]
    }
   ],
   "source": [
    "# Updates the set with the union of itself and others\n",
    "s1 = {1,2,3}\n",
    "s2 = {3,4,5}\n",
    "\n",
    "s1.update(s2)\n",
    "print (s1)\n",
    "print (s2)"
   ]
  },
  {
   "cell_type": "code",
   "execution_count": 31,
   "metadata": {},
   "outputs": [
    {
     "name": "stdout",
     "output_type": "stream",
     "text": [
      "{'C', 1, 'C++', 'Java', 'Basic', 'Ruby', 'PHP', 'Python', 'abc'}\n"
     ]
    }
   ],
   "source": [
    "# Adds multiple items from a list or a tuple.\n",
    "\n",
    "s1 = {\"Python\", \"Java\", \"C++\"}\n",
    "s1.update([\"C\", \"Basic\"])    # updating list\n",
    "s1.update((\"Ruby\", \"PHP\"))     # updating tuple\n",
    "s1.update({1})        # updating set\n",
    "s1.update({\"abc\"})    # updating string\n",
    "\n",
    "print (s1)"
   ]
  },
  {
   "cell_type": "markdown",
   "metadata": {},
   "source": [
    "#### all() "
   ]
  },
  {
   "cell_type": "code",
   "execution_count": 32,
   "metadata": {},
   "outputs": [
    {
     "name": "stdout",
     "output_type": "stream",
     "text": [
      "True\n",
      "False\n",
      "False\n",
      "True\n"
     ]
    }
   ],
   "source": [
    "# Return True if all elements of the set are true (or if the set is empty).\n",
    "s1 = {1,2,3}\n",
    "s2 = {0,1,2,3}\n",
    "s3 = {False}\n",
    "s4 = {}\n",
    "\n",
    "print (all(s1))   # Does not contain 0 or False\n",
    "print (all(s2))   # 0 is False\n",
    "print (all(s3))   # False is False\n",
    "print (all(s4))"
   ]
  },
  {
   "cell_type": "markdown",
   "metadata": {},
   "source": [
    "#### any()"
   ]
  },
  {
   "cell_type": "code",
   "execution_count": 33,
   "metadata": {},
   "outputs": [
    {
     "name": "stdout",
     "output_type": "stream",
     "text": [
      "True\n",
      "False\n",
      "False\n"
     ]
    }
   ],
   "source": [
    "# Return True if any element of the set is true. If the set is empty, return False.\n",
    "s1 = {1,2,3}\n",
    "s2 = {}\n",
    "s3 = {0}\n",
    "\n",
    "print (any(s1))\n",
    "print (any(s2))\n",
    "print (any(s3))"
   ]
  },
  {
   "cell_type": "markdown",
   "metadata": {},
   "source": [
    "#### enumerate()"
   ]
  },
  {
   "cell_type": "code",
   "execution_count": 34,
   "metadata": {},
   "outputs": [
    {
     "name": "stdout",
     "output_type": "stream",
     "text": [
      "index is 0 and value is b\n",
      "index is 1 and value is a\n"
     ]
    }
   ],
   "source": [
    "# Return an enumerate object. It contains the index and value of all the items of set as a pair.\n",
    "\n",
    "s1 = {\"a\",\"b\"}\n",
    "\n",
    "for idx, val in enumerate(s1):\n",
    "    print(\"index is %d and value is %s\" % (idx, val))"
   ]
  },
  {
   "cell_type": "markdown",
   "metadata": {},
   "source": [
    "#### len()"
   ]
  },
  {
   "cell_type": "code",
   "execution_count": 35,
   "metadata": {},
   "outputs": [
    {
     "name": "stdout",
     "output_type": "stream",
     "text": [
      "3\n"
     ]
    }
   ],
   "source": [
    "# Return the length (the number of items) in the set.\n",
    "\n",
    "s1 = {1,2,3}\n",
    "print (len(s1))"
   ]
  },
  {
   "cell_type": "markdown",
   "metadata": {},
   "source": [
    "#### max()"
   ]
  },
  {
   "cell_type": "code",
   "execution_count": 36,
   "metadata": {},
   "outputs": [
    {
     "name": "stdout",
     "output_type": "stream",
     "text": [
      "3\n"
     ]
    }
   ],
   "source": [
    "# Return the largest item in the set.\n",
    "\n",
    "s1 = {1,2,3}\n",
    "print (max(s1))"
   ]
  },
  {
   "cell_type": "code",
   "execution_count": 37,
   "metadata": {},
   "outputs": [
    {
     "name": "stdout",
     "output_type": "stream",
     "text": [
      "c\n"
     ]
    }
   ],
   "source": [
    "s1 = {\"a\",\"b\",\"c\"}\n",
    "print (max(s1))"
   ]
  },
  {
   "cell_type": "markdown",
   "metadata": {},
   "source": [
    "#### min()"
   ]
  },
  {
   "cell_type": "code",
   "execution_count": 38,
   "metadata": {},
   "outputs": [
    {
     "name": "stdout",
     "output_type": "stream",
     "text": [
      "1\n"
     ]
    }
   ],
   "source": [
    "# Return the smallest item in the set.\n",
    "\n",
    "s1 = {1,2,3}\n",
    "print (min(s1))"
   ]
  },
  {
   "cell_type": "code",
   "execution_count": 39,
   "metadata": {},
   "outputs": [
    {
     "name": "stdout",
     "output_type": "stream",
     "text": [
      "a\n"
     ]
    }
   ],
   "source": [
    "s1 = {\"a\",\"b\",\"c\"}\n",
    "print (min(s1))"
   ]
  },
  {
   "cell_type": "markdown",
   "metadata": {},
   "source": [
    "#### sorted()"
   ]
  },
  {
   "cell_type": "code",
   "execution_count": 40,
   "metadata": {},
   "outputs": [
    {
     "name": "stdout",
     "output_type": "stream",
     "text": [
      "[1, 2, 3]\n"
     ]
    }
   ],
   "source": [
    "# Return a new sorted list from elements in the set(does not sort the set itself).\n",
    "\n",
    "s1 = {1,3,2}\n",
    "print (sorted(s1))"
   ]
  },
  {
   "cell_type": "code",
   "execution_count": 41,
   "metadata": {},
   "outputs": [
    {
     "name": "stdout",
     "output_type": "stream",
     "text": [
      "['A', 'B', 'a', 'b']\n"
     ]
    }
   ],
   "source": [
    "s1 = {\"b\",\"B\",\"A\",\"a\"}\n",
    "print (sorted(s1))"
   ]
  },
  {
   "cell_type": "markdown",
   "metadata": {},
   "source": [
    "#### sum()"
   ]
  },
  {
   "cell_type": "code",
   "execution_count": 42,
   "metadata": {},
   "outputs": [
    {
     "name": "stdout",
     "output_type": "stream",
     "text": [
      "6\n"
     ]
    }
   ],
   "source": [
    "# Retrun the sum of all elements in the set.\n",
    "\n",
    "s1 = {1,3,2}\n",
    "print (sum(s1))"
   ]
  },
  {
   "cell_type": "code",
   "execution_count": null,
   "metadata": {},
   "outputs": [],
   "source": []
  }
 ],
 "metadata": {
  "kernelspec": {
   "display_name": "Python 3",
   "language": "python",
   "name": "python3"
  },
  "language_info": {
   "codemirror_mode": {
    "name": "ipython",
    "version": 3
   },
   "file_extension": ".py",
   "mimetype": "text/x-python",
   "name": "python",
   "nbconvert_exporter": "python",
   "pygments_lexer": "ipython3",
   "version": "3.7.6"
  }
 },
 "nbformat": 4,
 "nbformat_minor": 4
}
