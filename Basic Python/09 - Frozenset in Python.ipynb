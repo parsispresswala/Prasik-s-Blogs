{
 "cells": [
  {
   "cell_type": "markdown",
   "metadata": {},
   "source": [
    "### <h3 align=\"center\">Prepared By Parsis Tamakuwala</h3> "
   ]
  },
  {
   "cell_type": "markdown",
   "metadata": {},
   "source": [
    "## Frozenset Initialozation"
   ]
  },
  {
   "cell_type": "code",
   "execution_count": 1,
   "metadata": {},
   "outputs": [
    {
     "name": "stdout",
     "output_type": "stream",
     "text": [
      "frozenset({1, 2, 3, 4})\n"
     ]
    }
   ],
   "source": [
    "s1 = frozenset([1, 2, 3, 4])\n",
    "\n",
    "print (s1)"
   ]
  },
  {
   "cell_type": "markdown",
   "metadata": {},
   "source": [
    "### Built-in Set Methods"
   ]
  },
  {
   "cell_type": "markdown",
   "metadata": {},
   "source": [
    "#### copy()"
   ]
  },
  {
   "cell_type": "code",
   "execution_count": 2,
   "metadata": {},
   "outputs": [
    {
     "name": "stdout",
     "output_type": "stream",
     "text": [
      "frozenset({1, 2})\n"
     ]
    }
   ],
   "source": [
    "# Returns a copy of the set\n",
    "\n",
    "s1 = frozenset([1,2])\n",
    "print (s1.copy())"
   ]
  },
  {
   "cell_type": "markdown",
   "metadata": {},
   "source": [
    "#### difference()"
   ]
  },
  {
   "cell_type": "code",
   "execution_count": 3,
   "metadata": {},
   "outputs": [
    {
     "name": "stdout",
     "output_type": "stream",
     "text": [
      "frozenset({1})\n",
      "frozenset({1})\n"
     ]
    }
   ],
   "source": [
    "#The difference of two sets results in a set containing elements only in the first set, but not in the second set.\n",
    "\n",
    "s1 = frozenset([1,2])\n",
    "s2 = frozenset([2,3])\n",
    "\n",
    "print (s1-s2)\n",
    "print (s1.difference(s2))"
   ]
  },
  {
   "cell_type": "code",
   "execution_count": 4,
   "metadata": {},
   "outputs": [
    {
     "name": "stdout",
     "output_type": "stream",
     "text": [
      "frozenset({3})\n",
      "frozenset({3})\n"
     ]
    }
   ],
   "source": [
    "s1 = frozenset([1,2])\n",
    "s2 = frozenset([2,3])\n",
    "\n",
    "print (s2-s1)\n",
    "print (s2.difference(s1))"
   ]
  },
  {
   "cell_type": "markdown",
   "metadata": {},
   "source": [
    "#### intersection()"
   ]
  },
  {
   "cell_type": "code",
   "execution_count": 5,
   "metadata": {},
   "outputs": [
    {
     "name": "stdout",
     "output_type": "stream",
     "text": [
      "frozenset({3})\n",
      "frozenset({3})\n"
     ]
    }
   ],
   "source": [
    "#The intersection of two sets is a set containing elements common to both collections.\n",
    "\n",
    "s1 = frozenset([1, 2, 3])\n",
    "s2 = frozenset([3, 4, 5])\n",
    "\n",
    "print (s1 & s2)\n",
    "print (s1.intersection(s2))"
   ]
  },
  {
   "cell_type": "markdown",
   "metadata": {},
   "source": [
    "#### isdisjoint()"
   ]
  },
  {
   "cell_type": "code",
   "execution_count": 6,
   "metadata": {},
   "outputs": [
    {
     "name": "stdout",
     "output_type": "stream",
     "text": [
      "False\n"
     ]
    }
   ],
   "source": [
    "s1 = frozenset([1, 2, 3])\n",
    "s2 = frozenset([3, 4, 5])\n",
    "\n",
    "print (s1.isdisjoint(s2))"
   ]
  },
  {
   "cell_type": "code",
   "execution_count": 7,
   "metadata": {},
   "outputs": [
    {
     "name": "stdout",
     "output_type": "stream",
     "text": [
      "True\n"
     ]
    }
   ],
   "source": [
    "s1 = frozenset([1, 2])\n",
    "s2 = frozenset([3, 4, 5])\n",
    "\n",
    "print (s1.isdisjoint(s2))"
   ]
  },
  {
   "cell_type": "markdown",
   "metadata": {},
   "source": [
    "#### issubset()"
   ]
  },
  {
   "cell_type": "code",
   "execution_count": 8,
   "metadata": {},
   "outputs": [
    {
     "name": "stdout",
     "output_type": "stream",
     "text": [
      "False\n",
      "True\n"
     ]
    }
   ],
   "source": [
    "# Returns True if another set contains this set\n",
    "\n",
    "s1 = frozenset([1,2,3])\n",
    "s2 = frozenset([3])\n",
    "\n",
    "print (s1.issubset(s2))\n",
    "print (s2.issubset(s1))"
   ]
  },
  {
   "cell_type": "markdown",
   "metadata": {},
   "source": [
    "#### issuperset()"
   ]
  },
  {
   "cell_type": "code",
   "execution_count": 9,
   "metadata": {},
   "outputs": [
    {
     "name": "stdout",
     "output_type": "stream",
     "text": [
      "True\n",
      "False\n"
     ]
    }
   ],
   "source": [
    "# Returns True if this set contains another set\n",
    "\n",
    "s1 = frozenset([1,2,3])\n",
    "s2 = frozenset([3])\n",
    "\n",
    "print (s1.issuperset(s2))\n",
    "print (s2.issuperset(s1))"
   ]
  },
  {
   "cell_type": "markdown",
   "metadata": {},
   "source": [
    "#### symmetric_difference()"
   ]
  },
  {
   "cell_type": "code",
   "execution_count": 12,
   "metadata": {},
   "outputs": [
    {
     "name": "stdout",
     "output_type": "stream",
     "text": [
      "frozenset({1, 2, 4, 5})\n",
      "frozenset({1, 2, 4, 5})\n"
     ]
    }
   ],
   "source": [
    "s1 = frozenset([1, 2, 3])\n",
    "s2 = frozenset([3, 4, 5])\n",
    "\n",
    "print (s1.symmetric_difference(s2))\n",
    "print (s2.symmetric_difference(s1))"
   ]
  },
  {
   "cell_type": "markdown",
   "metadata": {},
   "source": [
    "#### union()"
   ]
  },
  {
   "cell_type": "code",
   "execution_count": 11,
   "metadata": {},
   "outputs": [
    {
     "name": "stdout",
     "output_type": "stream",
     "text": [
      "frozenset({1, 2, 3, 4, 5})\n"
     ]
    }
   ],
   "source": [
    "s1 = frozenset([1, 2, 3])\n",
    "s2 = frozenset([3, 4, 5])\n",
    "\n",
    "print (s1.union(s2))"
   ]
  },
  {
   "cell_type": "code",
   "execution_count": null,
   "metadata": {},
   "outputs": [],
   "source": []
  }
 ],
 "metadata": {
  "kernelspec": {
   "display_name": "Python 3",
   "language": "python",
   "name": "python3"
  },
  "language_info": {
   "codemirror_mode": {
    "name": "ipython",
    "version": 3
   },
   "file_extension": ".py",
   "mimetype": "text/x-python",
   "name": "python",
   "nbconvert_exporter": "python",
   "pygments_lexer": "ipython3",
   "version": "3.7.6"
  }
 },
 "nbformat": 4,
 "nbformat_minor": 4
}
